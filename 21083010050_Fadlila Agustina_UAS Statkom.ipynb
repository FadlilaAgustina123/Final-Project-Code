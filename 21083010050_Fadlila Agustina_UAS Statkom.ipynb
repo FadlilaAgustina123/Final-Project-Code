{
 "cells": [
  {
   "cell_type": "markdown",
   "id": "0d68e922-7ced-4e63-81e4-4dbdcd016e4a",
   "metadata": {},
   "source": [
    "#### Nama : Fadlila Agustina\n",
    "#### NPM : 21083010050\n",
    "#### Kelas : Statistika Komputasi (C)"
   ]
  },
  {
   "cell_type": "markdown",
   "id": "beb42588-6c6a-4845-92e0-12b4c44ed756",
   "metadata": {},
   "source": [
    "### *Ulangan Akhir Semester*"
   ]
  },
  {
   "cell_type": "code",
   "execution_count": 2,
   "id": "e4d7ce58-6bfd-4160-bfd0-0dc0bb94ceb7",
   "metadata": {},
   "outputs": [],
   "source": [
    "import numpy as np"
   ]
  },
  {
   "cell_type": "code",
   "execution_count": 3,
   "id": "d7e5c143-f97d-48e7-a8c1-0db502c14d6b",
   "metadata": {},
   "outputs": [],
   "source": [
    "sample = [55, 84, 99, 51, 22, 77, 39, 63, 10, 66]"
   ]
  },
  {
   "cell_type": "markdown",
   "id": "80ae6af9-4c25-4ad4-a686-5e8b5029c672",
   "metadata": {},
   "source": [
    "#### **No. 1** "
   ]
  },
  {
   "cell_type": "markdown",
   "id": "5166e691-0fd0-4ab5-ae4a-8bc42a219c3e",
   "metadata": {},
   "source": [
    "##### **a. Mean Boostrap**"
   ]
  },
  {
   "cell_type": "code",
   "execution_count": 54,
   "id": "c9509476-43ff-4617-98ff-0c263acc2dc4",
   "metadata": {},
   "outputs": [],
   "source": [
    "def btmean(data, r = 200, k = 2, alpha = 0.05):\n",
    "    import random\n",
    "    import numpy as np\n",
    "    from sklearn.metrics import mean_squared_error\n",
    "    import scipy.stats as st\n",
    "    list_1 = []\n",
    "    mean_true = np.repeat(np.mean(data), r)\n",
    "    print(\"Start Bootsrapping\")\n",
    "    for i in range(r):\n",
    "        list_2 =[]\n",
    "        for j in range(k):\n",
    "            list_2.append(random.sample(data, 1))\n",
    "        mean_sample = np.mean(list_2)\n",
    "        list_1.append(mean_sample)\n",
    "    print(\"End Bootsrapping\")\n",
    "    mean_resamp = np.mean(list_1)\n",
    "    var_mean_resamp = np.var(list_1)\n",
    "    mse_mean_resamp = mean_squared_error(list_1, mean_true)\n",
    "    ci_mean_resamp = [np.mean(data) - st.norm.ppf(1-alpha/2)*var_mean_resamp**0.5, np.mean(data) + st.norm.ppf(1-alpha/2)*var_mean_resamp**0.5]\n",
    "    return list_1, mean_resamp, var_mean_resamp, mse_mean_resamp, ci_mean_resamp"
   ]
  },
  {
   "cell_type": "code",
   "execution_count": 55,
   "id": "3a503e87-6a83-4319-9525-f3ac548ed91a",
   "metadata": {},
   "outputs": [
    {
     "name": "stdout",
     "output_type": "stream",
     "text": [
      "Start Bootsrapping\n",
      "End Bootsrapping\n"
     ]
    }
   ],
   "source": [
    "resample, mean_resample, var_mean_resample, mse_mean_resample, ci_mean_resample = btmean(data= list(sample), r = 200, k = 70)"
   ]
  },
  {
   "cell_type": "code",
   "execution_count": 56,
   "id": "7eada71f-5529-4ca7-8e4f-31a616d9b6bf",
   "metadata": {},
   "outputs": [
    {
     "name": "stdout",
     "output_type": "stream",
     "text": [
      "Mean Bootstrap yang didapatkan :  56.48721428571428\n"
     ]
    }
   ],
   "source": [
    "print(\"Mean Bootstrap yang didapatkan : \", mean_resample)"
   ]
  },
  {
   "cell_type": "markdown",
   "id": "72dc48ae-a539-491d-959a-4ef49ef471e1",
   "metadata": {},
   "source": [
    "##### **b. Varians Bootsrap**"
   ]
  },
  {
   "cell_type": "code",
   "execution_count": 153,
   "id": "93435541-319c-4d3b-acf6-7708a544cc17",
   "metadata": {},
   "outputs": [],
   "source": [
    "def btvarians(data, r = 200, k = 2, alpha = 0.05):\n",
    "    import random\n",
    "    import numpy as np\n",
    "    from sklearn.metrics import mean_squared_error\n",
    "    import scipy.stats as st\n",
    "    list_1 = []\n",
    "    for i in range(r):\n",
    "        list_2 = []\n",
    "        for j in range(k):\n",
    "            list_2.append(random.sample(data, 1))\n",
    "        var_sample = np.var(list_2)\n",
    "        list_1.append(var_sample)\n",
    "    var_resamp = np.mean(list_1)\n",
    "    return list_1, var_resamp"
   ]
  },
  {
   "cell_type": "code",
   "execution_count": 154,
   "id": "af33d046-7a46-462c-b033-75cd3958b39f",
   "metadata": {},
   "outputs": [
    {
     "name": "stdout",
     "output_type": "stream",
     "text": [
      "Varians Bootstrap yang didapatkan :  682.800344\n"
     ]
    }
   ],
   "source": [
    "_, var_resample = btvarians(data=list(sample), r = 200, k=50)\n",
    "print(\"Varians Bootstrap yang didapatkan : \",var_resample)"
   ]
  },
  {
   "cell_type": "markdown",
   "id": "8e15e09c-ad5c-4b28-b89c-c31e5f4412f2",
   "metadata": {},
   "source": [
    "##### **c. Mean Jackknife**"
   ]
  },
  {
   "cell_type": "code",
   "execution_count": 155,
   "id": "6951eeb7-398f-4e56-846f-d3ea44211136",
   "metadata": {},
   "outputs": [],
   "source": [
    "theta_list = []\n",
    "resample_list=[]\n",
    "def stand_error_mean(sample):\n",
    "    for index, i in enumerate(sample):\n",
    "        sample_copy = sample.copy()\n",
    "        del sample_copy[index]\n",
    "        resample_list.append(sample_copy)\n",
    "        theta_list.append(np.mean(sample_copy))\n",
    "    SEM = (((len(sample)-1)/(len(sample)))*(sum((theta_list - np.mean(theta_list))**2)))**0.5\n",
    "    return resample_list, theta_list, SEM"
   ]
  },
  {
   "cell_type": "code",
   "execution_count": 156,
   "id": "bbf549fe-0ab2-43c1-bbe8-96265e2b1aee",
   "metadata": {},
   "outputs": [],
   "source": [
    "resample_list, theta_list, SEM = stand_error_mean(sample)"
   ]
  },
  {
   "cell_type": "code",
   "execution_count": 157,
   "id": "772d08ae-0473-4867-a03e-e1041a868acc",
   "metadata": {},
   "outputs": [
    {
     "data": {
      "text/plain": [
       "[[84, 99, 51, 22, 77, 39, 63, 10, 66],\n",
       " [55, 99, 51, 22, 77, 39, 63, 10, 66],\n",
       " [55, 84, 51, 22, 77, 39, 63, 10, 66],\n",
       " [55, 84, 99, 22, 77, 39, 63, 10, 66],\n",
       " [55, 84, 99, 51, 77, 39, 63, 10, 66],\n",
       " [55, 84, 99, 51, 22, 39, 63, 10, 66],\n",
       " [55, 84, 99, 51, 22, 77, 63, 10, 66],\n",
       " [55, 84, 99, 51, 22, 77, 39, 10, 66],\n",
       " [55, 84, 99, 51, 22, 77, 39, 63, 66],\n",
       " [55, 84, 99, 51, 22, 77, 39, 63, 10]]"
      ]
     },
     "execution_count": 157,
     "metadata": {},
     "output_type": "execute_result"
    }
   ],
   "source": [
    "resample_list"
   ]
  },
  {
   "cell_type": "code",
   "execution_count": 158,
   "id": "4578e5da-a00a-4f11-bf4e-de01d27062e0",
   "metadata": {},
   "outputs": [
    {
     "data": {
      "text/plain": [
       "[56.77777777777778,\n",
       " 53.55555555555556,\n",
       " 51.888888888888886,\n",
       " 57.22222222222222,\n",
       " 60.44444444444444,\n",
       " 54.333333333333336,\n",
       " 58.55555555555556,\n",
       " 55.888888888888886,\n",
       " 61.77777777777778,\n",
       " 55.55555555555556]"
      ]
     },
     "execution_count": 158,
     "metadata": {},
     "output_type": "execute_result"
    }
   ],
   "source": [
    "theta_list"
   ]
  },
  {
   "cell_type": "code",
   "execution_count": 159,
   "id": "5c88a216-f027-4df4-9c2b-c54d396e9156",
   "metadata": {},
   "outputs": [
    {
     "name": "stdout",
     "output_type": "stream",
     "text": [
      "Mean Jackknife yang didapatkan : 8.696359391530843\n"
     ]
    }
   ],
   "source": [
    "print('Mean Jackknife yang didapatkan :', SEM)"
   ]
  },
  {
   "cell_type": "markdown",
   "id": "90de945c-b6ab-4930-9558-d02437f3a63a",
   "metadata": {},
   "source": [
    "##### **d. Varians Jackknife**"
   ]
  },
  {
   "cell_type": "code",
   "execution_count": 160,
   "id": "43b26dba-d3cf-4aed-aa43-ed2da2abeebf",
   "metadata": {},
   "outputs": [],
   "source": [
    "theta_list = []\n",
    "resample_list=[]\n",
    "def stand_error_var(sample):\n",
    "    for index, i in enumerate(sample):\n",
    "        sample_copy = sample.copy()\n",
    "        del sample_copy[index]\n",
    "        resample_list.append(sample_copy)\n",
    "        theta_list.append(np.var(sample_copy))\n",
    "    SEV = (((len(sample)-1)/(len(sample)))*(sum((theta_list - np.mean(theta_list))**2)))**0.5\n",
    "    return resample_list, theta_list, SEV"
   ]
  },
  {
   "cell_type": "code",
   "execution_count": 161,
   "id": "da30e316-ba07-47b5-abee-54e9af33cc3c",
   "metadata": {},
   "outputs": [],
   "source": [
    "resample_list, theta_list, SEV = stand_error_var(sample)"
   ]
  },
  {
   "cell_type": "code",
   "execution_count": 162,
   "id": "a58908e9-e5be-41e4-ba4e-add7e6590c73",
   "metadata": {},
   "outputs": [
    {
     "data": {
      "text/plain": [
       "[[84, 99, 51, 22, 77, 39, 63, 10, 66],\n",
       " [55, 99, 51, 22, 77, 39, 63, 10, 66],\n",
       " [55, 84, 51, 22, 77, 39, 63, 10, 66],\n",
       " [55, 84, 99, 22, 77, 39, 63, 10, 66],\n",
       " [55, 84, 99, 51, 77, 39, 63, 10, 66],\n",
       " [55, 84, 99, 51, 22, 39, 63, 10, 66],\n",
       " [55, 84, 99, 51, 22, 77, 63, 10, 66],\n",
       " [55, 84, 99, 51, 22, 77, 39, 10, 66],\n",
       " [55, 84, 99, 51, 22, 77, 39, 63, 66],\n",
       " [55, 84, 99, 51, 22, 77, 39, 63, 10]]"
      ]
     },
     "execution_count": 162,
     "metadata": {},
     "output_type": "execute_result"
    }
   ],
   "source": [
    "resample_list"
   ]
  },
  {
   "cell_type": "code",
   "execution_count": 163,
   "id": "4fc2d30d-e2a6-4101-a314-fa0642c44ea7",
   "metadata": {},
   "outputs": [
    {
     "data": {
      "text/plain": [
       "[755.9506172839506,\n",
       " 663.5802469135801,\n",
       " 534.320987654321,\n",
       " 752.3950617283949,\n",
       " 608.4691358024692,\n",
       " 704.8888888888889,\n",
       " 718.0246913580246,\n",
       " 751.2098765432098,\n",
       " 488.17283950617286,\n",
       " 745.3580246913581]"
      ]
     },
     "execution_count": 163,
     "metadata": {},
     "output_type": "execute_result"
    }
   ],
   "source": [
    "theta_list"
   ]
  },
  {
   "cell_type": "code",
   "execution_count": 164,
   "id": "dc4b1779-38ea-4c15-885c-d30146a245a4",
   "metadata": {},
   "outputs": [
    {
     "name": "stdout",
     "output_type": "stream",
     "text": [
      "Varians Jackknife yang didapatkan : 276.9457667043734\n"
     ]
    }
   ],
   "source": [
    "print('Varians Jackknife yang didapatkan :', SEV)"
   ]
  },
  {
   "cell_type": "markdown",
   "id": "4add7dcd-5a57-4c96-94e2-50bbf82f5019",
   "metadata": {},
   "source": [
    "##### **e. Rata-rata Data**"
   ]
  },
  {
   "cell_type": "code",
   "execution_count": 165,
   "id": "5878ac8f-8b58-4479-91ff-326bf11d0748",
   "metadata": {},
   "outputs": [
    {
     "name": "stdout",
     "output_type": "stream",
     "text": [
      "Rata-rata Data : 56.6\n"
     ]
    }
   ],
   "source": [
    "print(\"Rata-rata Data :\", np.mean(sample))"
   ]
  },
  {
   "cell_type": "markdown",
   "id": "622734d3-e3c0-424a-8472-4679d3ec6f50",
   "metadata": {},
   "source": [
    "##### **f. MSE**"
   ]
  },
  {
   "cell_type": "code",
   "execution_count": 167,
   "id": "6cd1f353-7424-4f07-b8b9-1be09b0a3fec",
   "metadata": {},
   "outputs": [
    {
     "name": "stdout",
     "output_type": "stream",
     "text": [
      "Error Bootsrap : 10.235627551020409\n"
     ]
    }
   ],
   "source": [
    "print(\"Error Bootsrap :\", mse_mean_resample)"
   ]
  },
  {
   "cell_type": "markdown",
   "id": "0c7ad8d9-ce8c-4d55-97e9-5d20e3e37782",
   "metadata": {},
   "source": [
    "##### **g. Confident Interval 0.05**"
   ]
  },
  {
   "cell_type": "code",
   "execution_count": 168,
   "id": "d1fee541-ea7c-43cb-822b-e8008f5e9e96",
   "metadata": {},
   "outputs": [
    {
     "name": "stdout",
     "output_type": "stream",
     "text": [
      "CI Mean Bootsrap : [50.33335209114992, 62.866647908850084]\n"
     ]
    }
   ],
   "source": [
    "print(\"CI Mean Bootsrap :\", ci_mean_resample)"
   ]
  },
  {
   "cell_type": "markdown",
   "id": "b784e43a-775b-4cd3-92fa-57ba1ac5488f",
   "metadata": {},
   "source": [
    "##### **h. Analisis**"
   ]
  },
  {
   "cell_type": "markdown",
   "id": "09a9295d-c9b8-491f-bf9e-4e4086d2ada8",
   "metadata": {},
   "source": [
    "Dari percobaan yang sudah saya lakukan, analisis yang didapatkan adalah hasil dari Mean Bootstrap sebesar 56.5 sedangkan rata-rata datanya adalah 56.6. Hasil Varians Bootsrapnya yaitu 682.8 yang bisa dikatakan jauh berbeda dengan Varians Jackknife yg bernilai 276.9. Serta didapatkan juga Mean Jackknife 8.7. Mean Squared Error Bootsrap dengan hasil 10.2 dengan Confident Interval 50.3 < 62.9"
   ]
  },
  {
   "cell_type": "markdown",
   "id": "aebd419e-5fd7-4c36-ae1e-48cfbb467d12",
   "metadata": {},
   "source": [
    "#### **No. 2**"
   ]
  },
  {
   "cell_type": "code",
   "execution_count": 172,
   "id": "7895ead1-6c55-4ccd-90af-41718fb83158",
   "metadata": {},
   "outputs": [
    {
     "name": "stdout",
     "output_type": "stream",
     "text": [
      "0.03891965602074546\n"
     ]
    }
   ],
   "source": [
    "u = np.random.uniform(size=1000)\n",
    "gu = np.corrcoef(u,(1-(u)**2)**0.5)\n",
    "theta_hat = np.mean(gu)\n",
    "print(theta_hat)"
   ]
  },
  {
   "cell_type": "code",
   "execution_count": 173,
   "id": "591cad8c-5a08-4219-841a-491707bcbb05",
   "metadata": {},
   "outputs": [
    {
     "name": "stdout",
     "output_type": "stream",
     "text": [
      "0.008101665812667525\n"
     ]
    }
   ],
   "source": [
    "u = np.random.uniform(size=1000)\n",
    "u2 = u**2\n",
    "gu = np.corrcoef(u2,(1-(u)**2)**0.5)\n",
    "theta_hat = np.mean(gu)\n",
    "print(theta_hat)"
   ]
  },
  {
   "cell_type": "markdown",
   "id": "f1891909-405e-40ca-82d6-a3e2e15727f5",
   "metadata": {},
   "source": [
    "#### **No. 3**"
   ]
  },
  {
   "cell_type": "code",
   "execution_count": 183,
   "id": "5fcb64f2-b147-4f41-adde-301311dd5df5",
   "metadata": {},
   "outputs": [
    {
     "name": "stdout",
     "output_type": "stream",
     "text": [
      "83\n"
     ]
    }
   ],
   "source": [
    "n = 100\n",
    "u1 = np.random.uniform(low=-1.00, high=1.00, size=n)\n",
    "u2 = np.random.uniform(low=-1.00, high=1.00, size=n)\n",
    "s = u1 + u2\n",
    "theta_hat = sum(s<1)\n",
    "print(theta_hat)"
   ]
  },
  {
   "cell_type": "code",
   "execution_count": 195,
   "id": "8b15a909-1832-438f-ad8d-c98c46caf929",
   "metadata": {},
   "outputs": [
    {
     "name": "stdout",
     "output_type": "stream",
     "text": [
      "809\n"
     ]
    }
   ],
   "source": [
    "n = 1000\n",
    "u1 = np.random.uniform(low=-1.00, high=1.00, size=n)\n",
    "u2 = np.random.uniform(low=-1.00, high=1.00, size=n)\n",
    "s = (u1)**2 + (u2)**2\n",
    "theta_hat = sum(s<1)\n",
    "print(theta_hat)"
   ]
  },
  {
   "cell_type": "markdown",
   "id": "02d448d0-6758-48a0-9f2a-4e85481c1367",
   "metadata": {},
   "source": [
    "#### **No. 4**"
   ]
  },
  {
   "cell_type": "code",
   "execution_count": 196,
   "id": "60e63255-7064-4cbd-8a6f-80d23ac39ceb",
   "metadata": {},
   "outputs": [],
   "source": [
    "import seaborn as sns"
   ]
  },
  {
   "cell_type": "markdown",
   "id": "dd9a7ad3-1e76-44b4-98da-96a1e2983376",
   "metadata": {},
   "source": [
    "##### **a. Metode Invers**"
   ]
  },
  {
   "cell_type": "code",
   "execution_count": 200,
   "id": "e2603dac-03e0-402a-a79e-d603399a2483",
   "metadata": {},
   "outputs": [
    {
     "name": "stderr",
     "output_type": "stream",
     "text": [
      "C:\\Users\\fadli\\anaconda3\\lib\\site-packages\\seaborn\\distributions.py:2619: FutureWarning: `distplot` is a deprecated function and will be removed in a future version. Please adapt your code to use either `displot` (a figure-level function with similar flexibility) or `histplot` (an axes-level function for histograms).\n",
      "  warnings.warn(msg, FutureWarning)\n"
     ]
    },
    {
     "data": {
      "text/plain": [
       "<AxesSubplot:ylabel='Density'>"
      ]
     },
     "execution_count": 200,
     "metadata": {},
     "output_type": "execute_result"
    },
    {
     "data": {
      "image/png": "[encoded data removed]",
      "text/plain": [
       "<Figure size 432x288 with 1 Axes>"
      ]
     },
     "metadata": {
      "needs_background": "light"
     },
     "output_type": "display_data"
    }
   ],
   "source": [
    "u = np.random.uniform(size=1000)\n",
    "def inverse_no4(u):\n",
    "    return (-1 + np.sqrt(1 + 8 * u)) / 2 \n",
    "\n",
    "sns.distplot(inverse_no4(u))"
   ]
  },
  {
   "cell_type": "markdown",
   "id": "56fbf53d-1bd0-415e-a889-04b0ca0a7169",
   "metadata": {},
   "source": [
    "##### **b. Metode Acceptance - Rejection**"
   ]
  },
  {
   "cell_type": "code",
   "execution_count": 201,
   "id": "5dea3f75-2c0c-4c54-b8ed-071b740f9472",
   "metadata": {},
   "outputs": [
    {
     "name": "stderr",
     "output_type": "stream",
     "text": [
      "C:\\Users\\fadli\\anaconda3\\lib\\site-packages\\seaborn\\distributions.py:2619: FutureWarning: `distplot` is a deprecated function and will be removed in a future version. Please adapt your code to use either `displot` (a figure-level function with similar flexibility) or `histplot` (an axes-level function for histograms).\n",
      "  warnings.warn(msg, FutureWarning)\n"
     ]
    },
    {
     "data": {
      "text/plain": [
       "<AxesSubplot:ylabel='Density'>"
      ]
     },
     "execution_count": 201,
     "metadata": {},
     "output_type": "execute_result"
    },
    {
     "data": {
      "image/png": "[encoded data removed]",
      "text/plain": [
       "<Figure size 432x288 with 1 Axes>"
      ]
     },
     "metadata": {
      "needs_background": "light"
     },
     "output_type": "display_data"
    }
   ],
   "source": [
    "import numpy as np\n",
    "def acceptance_rejection():\n",
    "    c = 2\n",
    "    while True:\n",
    "        x = np.random.rand() \n",
    "        u = np.random.rand()\n",
    "        g = 1\n",
    "        f = 0.5 * (x + x**2)\n",
    "        if u <= f / (c*g):\n",
    "            return x\n",
    "\n",
    "random_vars = [acceptance_rejection() for _ in range(1000)] \n",
    "sns.distplot(random_vars)"
   ]
  },
  {
   "cell_type": "markdown",
   "id": "ede717ff-4605-45e5-b6b7-b65ed90a8ceb",
   "metadata": {},
   "source": [
    "#### **No. 5**"
   ]
  },
  {
   "cell_type": "markdown",
   "id": "d283c606-19fe-4e5a-9562-9311ea4294cc",
   "metadata": {},
   "source": [
    "##### **a. Metode Invers**"
   ]
  },
  {
   "cell_type": "code",
   "execution_count": 202,
   "id": "fe34bb5c-8a5e-45ec-885d-7a6db76ef81a",
   "metadata": {},
   "outputs": [
    {
     "name": "stderr",
     "output_type": "stream",
     "text": [
      "C:\\Users\\fadli\\AppData\\Local\\Temp\\ipykernel_1616\\1940758795.py:3: RuntimeWarning: invalid value encountered in power\n",
      "  return (4*u - 1)**(1/4)\n",
      "C:\\Users\\fadli\\anaconda3\\lib\\site-packages\\seaborn\\distributions.py:2619: FutureWarning: `distplot` is a deprecated function and will be removed in a future version. Please adapt your code to use either `displot` (a figure-level function with similar flexibility) or `histplot` (an axes-level function for histograms).\n",
      "  warnings.warn(msg, FutureWarning)\n"
     ]
    },
    {
     "data": {
      "text/plain": [
       "<AxesSubplot:ylabel='Density'>"
      ]
     },
     "execution_count": 202,
     "metadata": {},
     "output_type": "execute_result"
    },
    {
     "data": {
      "image/png": "[encoded data removed]",
      "text/plain": [
       "<Figure size 432x288 with 1 Axes>"
      ]
     },
     "metadata": {
      "needs_background": "light"
     },
     "output_type": "display_data"
    }
   ],
   "source": [
    "u = np.random.uniform(size=1000)\n",
    "def inverse_no5(u):\n",
    "    return (4*u - 1)**(1/4) \n",
    "\n",
    "sns.distplot(inverse_no5(u))"
   ]
  },
  {
   "cell_type": "markdown",
   "id": "bddadc75-29e0-4b31-bb28-9826c063cb71",
   "metadata": {},
   "source": [
    "##### **b. Metode Acceptance - Rejection**"
   ]
  },
  {
   "cell_type": "code",
   "execution_count": 203,
   "id": "8bc128f7-ac95-424c-94af-ca8832f45d48",
   "metadata": {},
   "outputs": [
    {
     "name": "stderr",
     "output_type": "stream",
     "text": [
      "C:\\Users\\fadli\\anaconda3\\lib\\site-packages\\seaborn\\distributions.py:2619: FutureWarning: `distplot` is a deprecated function and will be removed in a future version. Please adapt your code to use either `displot` (a figure-level function with similar flexibility) or `histplot` (an axes-level function for histograms).\n",
      "  warnings.warn(msg, FutureWarning)\n"
     ]
    },
    {
     "data": {
      "text/plain": [
       "<AxesSubplot:ylabel='Density'>"
      ]
     },
     "execution_count": 203,
     "metadata": {},
     "output_type": "execute_result"
    },
    {
     "data": {
      "image/png": "[encoded data removed]",
      "text/plain": [
       "<Figure size 432x288 with 1 Axes>"
      ]
     },
     "metadata": {
      "needs_background": "light"
     },
     "output_type": "display_data"
    }
   ],
   "source": [
    "import numpy as np\n",
    "\n",
    "def acceptance_rejection():\n",
    "    c = 2\n",
    "    while True:\n",
    "        x = np.random.rand() \n",
    "        u = np.random.rand()\n",
    "        g = 1\n",
    "        f = 1/4 + 2*x*3 + 5/4*x*4\n",
    "        if u <= f / (c*g):\n",
    "            return x\n",
    "\n",
    "random_vars = [acceptance_rejection() for _ in range(1000)] \n",
    "\n",
    "sns.distplot(random_vars)"
   ]
  },
  {
   "cell_type": "code",
   "execution_count": null,
   "id": "c708344a-19e6-4516-9b22-f84336e30fb7",
   "metadata": {},
   "outputs": [],
   "source": []
  }
 ],
 "metadata": {
  "kernelspec": {
   "display_name": "Python 3 (ipykernel)",
   "language": "python",
   "name": "python3"
  },
  "language_info": {
   "codemirror_mode": {
    "name": "ipython",
    "version": 3
   },
   "file_extension": ".py",
   "mimetype": "text/x-python",
   "name": "python",
   "nbconvert_exporter": "python",
   "pygments_lexer": "ipython3",
   "version": "3.9.12"
  }
 },
 "nbformat": 4,
 "nbformat_minor": 5
}
