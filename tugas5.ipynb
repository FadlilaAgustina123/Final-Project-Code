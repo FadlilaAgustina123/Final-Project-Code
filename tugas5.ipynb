{
 "cells": [
  {
   "cell_type": "code",
   "execution_count": 3,
   "id": "1f4a8125-1667-45d3-9009-dba19fe1fd07",
   "metadata": {},
   "outputs": [],
   "source": [
    "import requests\n",
    "\n",
    "url = 'https://data.bmkg.go.id/DataMKG/MEWS/DigitalForecast/DigitalForecast-JawaTimur.xml'\n",
    "\n",
    "response = requests.get(url)\n",
    "\n",
    "if response.status_code == 200:\n",
    "    data = response.content\n",
    "    with open('DigitalForecast-JawaTimur.xml', 'wb') as file:\n",
    "        file.write(data)\n",
    "else:\n",
    "    print('Gagal mengambil data, status code:', response.status_code)"
   ]
  },
  {
   "cell_type": "code",
   "execution_count": 11,
   "id": "8eb52d02-dfa6-4644-adb0-ffbff06b0539",
   "metadata": {},
   "outputs": [
    {
     "name": "stdout",
     "output_type": "stream",
     "text": [
      "Missing value pada area Bangkalan pada tanggal  \n",
      "Missing value pada area Banyuwangi pada tanggal  \n",
      "Missing value pada area Batu pada tanggal  \n",
      "Missing value pada area Bojonegoro pada tanggal  \n",
      "Missing value pada area Bondowoso pada tanggal  \n",
      "Missing value pada area Gresik pada tanggal  \n",
      "Missing value pada area Jember pada tanggal  \n",
      "Missing value pada area Jombang pada tanggal  \n",
      "Missing value pada area Kabupaten Blitar pada tanggal  \n",
      "Missing value pada area Kabupaten Kediri pada tanggal  \n",
      "Missing value pada area Kabupaten Madiun pada tanggal  \n",
      "Missing value pada area Kabupaten Malang pada tanggal  \n",
      "Missing value pada area Kabupaten Mojokerto pada tanggal  \n",
      "Missing value pada area Kabupaten Pasuruan pada tanggal  \n",
      "Missing value pada area Kabupaten Probolinggo pada tanggal  \n",
      "Missing value pada area Kota Blitar pada tanggal  \n",
      "Missing value pada area Kota Kediri pada tanggal  \n",
      "Missing value pada area Kota Madiun pada tanggal  \n",
      "Missing value pada area Kota Malang pada tanggal  \n",
      "Missing value pada area Kota Mojokerto pada tanggal  \n",
      "Missing value pada area Kota Pasuruan pada tanggal  \n",
      "Missing value pada area Kota Probolinggo pada tanggal  \n",
      "Missing value pada area Lamongan pada tanggal  \n",
      "Missing value pada area Lumajang pada tanggal  \n",
      "Missing value pada area Magetan pada tanggal  \n",
      "Missing value pada area Nganjuk pada tanggal  \n",
      "Missing value pada area Ngawi pada tanggal  \n",
      "Missing value pada area Pacitan pada tanggal  \n",
      "Missing value pada area Pamekasan pada tanggal  \n",
      "Missing value pada area Ponorogo pada tanggal  \n",
      "Missing value pada area Sampang pada tanggal  \n",
      "Missing value pada area Sidoarjo pada tanggal  \n",
      "Missing value pada area Situbondo pada tanggal  \n",
      "Missing value pada area Sumenep pada tanggal  \n",
      "Missing value pada area Surabaya pada tanggal  \n",
      "Missing value pada area Trenggalek pada tanggal  \n",
      "Missing value pada area Tuban pada tanggal  \n",
      "Missing value pada area Tulungagung pada tanggal  \n"
     ]
    }
   ],
   "source": [
    "import requests\n",
    "import xml.etree.ElementTree as ET\n",
    "\n",
    "url = 'https://data.bmkg.go.id/DataMKG/MEWS/DigitalForecast/DigitalForecast-JawaTimur.xml'\n",
    "\n",
    "response = requests.get(url)\n",
    "\n",
    "if response.status_code == 200:\n",
    "    data = response.content\n",
    "    root = ET.fromstring(data)\n",
    "    \n",
    "    for area in root.iter('area'):\n",
    "        temperature = area.find('parameter[@id=\"t\"]')\n",
    "        if temperature is not None and temperature.text.strip() == '':\n",
    "            tanggal = area.attrib.get('tanggal', '')\n",
    "            jam = area.attrib.get('jam', '')\n",
    "            print(f'Missing value pada area {area.attrib[\"description\"]} pada tanggal {tanggal} {jam}')\n",
    "else:\n",
    "    print('Gagal mengambil data, status code:', response.status_code)"
   ]
  },
  {
   "cell_type": "code",
   "execution_count": null,
   "id": "0e9ff9a0-4040-4f3d-819d-03bad142ac1d",
   "metadata": {},
   "outputs": [],
   "source": []
  }
 ],
 "metadata": {
  "kernelspec": {
   "display_name": "Python 3 (ipykernel)",
   "language": "python",
   "name": "python3"
  },
  "language_info": {
   "codemirror_mode": {
    "name": "ipython",
    "version": 3
   },
   "file_extension": ".py",
   "mimetype": "text/x-python",
   "name": "python",
   "nbconvert_exporter": "python",
   "pygments_lexer": "ipython3",
   "version": "3.9.12"
  }
 },
 "nbformat": 4,
 "nbformat_minor": 5
}
