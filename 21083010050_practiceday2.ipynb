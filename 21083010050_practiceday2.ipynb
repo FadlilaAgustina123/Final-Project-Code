{
 "cells": [
  {
   "cell_type": "markdown",
   "id": "3d8cdb7d-442c-4894-96e7-4adde4b06470",
   "metadata": {},
   "source": [
    "# Python Basic Syntax #"
   ]
  },
  {
   "cell_type": "markdown",
   "id": "dbfe28ce-1d6a-471e-bc03-268a21e5392e",
   "metadata": {},
   "source": [
    "### **Data Type** ###"
   ]
  },
  {
   "cell_type": "markdown",
   "id": "ff2af7c0-b7d1-4ddd-8bb0-0b5610093af9",
   "metadata": {},
   "source": [
    "##### Data type adalah sebuah pengklasifikasian data berdasarkan jenis data tersebut #####"
   ]
  },
  {
   "cell_type": "code",
   "execution_count": 11,
   "id": "bd3b36af-f0e2-496a-be63-17e0d1520bbe",
   "metadata": {},
   "outputs": [
    {
     "data": {
      "text/plain": [
       "int"
      ]
     },
     "execution_count": 11,
     "metadata": {},
     "output_type": "execute_result"
    }
   ],
   "source": [
    "#integers\n",
    "x_int = 1\n",
    "type(x_int)\n",
    "\n",
    "#integers tipe data dengan bilangan riil bukan pecahan, seperti 1,2,3\n",
    "#type () merupakan sebuah instruksi yang bisa kita panggil langsung tanpa membuatnya dari awal"
   ]
  },
  {
   "cell_type": "code",
   "execution_count": 12,
   "id": "b418a0c8-3a53-46e7-8bc8-cb8e01ece149",
   "metadata": {},
   "outputs": [
    {
     "data": {
      "text/plain": [
       "float"
      ]
     },
     "execution_count": 12,
     "metadata": {},
     "output_type": "execute_result"
    }
   ],
   "source": [
    "#float\n",
    "x_float = 1.0\n",
    "type(x_float)\n",
    "\n",
    "#float tipe data angka yang memiliki bagian desimal di akhir angka"
   ]
  },
  {
   "cell_type": "code",
   "execution_count": 13,
   "id": "01fd21f6-1983-495d-b53b-ccb6007ad2a9",
   "metadata": {},
   "outputs": [
    {
     "data": {
      "text/plain": [
       "bool"
      ]
     },
     "execution_count": 13,
     "metadata": {},
     "output_type": "execute_result"
    }
   ],
   "source": [
    "#boolean\n",
    "b1 = True\n",
    "b2 = False\n",
    "\n",
    "type(b1)\n",
    "\n",
    "#boolean tipe data yang hanya mempunyai dua nilai, yaitu true dan false\n",
    "#pada beberapa bahasa pemrograman nilai true bisa digantikan angka 1 fan nilai false digantikan angka 0"
   ]
  },
  {
   "cell_type": "code",
   "execution_count": 14,
   "id": "3ca952e6-0288-4604-b8a1-fd59f9439282",
   "metadata": {},
   "outputs": [
    {
     "data": {
      "text/plain": [
       "complex"
      ]
     },
     "execution_count": 14,
     "metadata": {},
     "output_type": "execute_result"
    }
   ],
   "source": [
    "# complex numbers: note the use of 'j' to specify the imaginary part\n",
    "x_complex = 1.0 - 1.0j\n",
    "type(x_complex)\n",
    "\n",
    "#complex numbers adalah gabungan dari bilangan riil dengan bilangan imajiner\n",
    "#1.0 merupakan bilangan riil dan 1.0j merupakan bilangan imaginer"
   ]
  },
  {
   "cell_type": "code",
   "execution_count": 15,
   "id": "c82162de-e2fc-4bfa-a21c-61eec419e5cb",
   "metadata": {},
   "outputs": [
    {
     "name": "stdout",
     "output_type": "stream",
     "text": [
      "(1-1j)\n"
     ]
    }
   ],
   "source": [
    "print(x_complex)"
   ]
  },
  {
   "cell_type": "code",
   "execution_count": 16,
   "id": "714c11fa-b78b-47da-b031-258957eb7c88",
   "metadata": {},
   "outputs": [
    {
     "name": "stdout",
     "output_type": "stream",
     "text": [
      "1.0 -1.0\n"
     ]
    }
   ],
   "source": [
    "print(x_complex.real, x_complex.imag)\n",
    "\n",
    "#cara ini digunakan untuk memecah bilangan riil dan bilangan imaginer"
   ]
  },
  {
   "cell_type": "markdown",
   "id": "40cbec52-302b-465c-93c3-42a760624573",
   "metadata": {},
   "source": [
    "### **Type utility functions** ###"
   ]
  },
  {
   "cell_type": "markdown",
   "id": "08bcb6ed-92ed-4185-b3f9-8f1abb9b3a34",
   "metadata": {},
   "source": [
    "##### the module types contains a number of type name definitions that can be used to test if variables are of certain types: #####"
   ]
  },
  {
   "cell_type": "markdown",
   "id": "2f7f73a3-9231-4e89-a1fd-792249ecba02",
   "metadata": {},
   "source": [
    "##### Type Utility Functions bisa mengecek apakah tipe data tersebut sesuai dengan tipenya #####"
   ]
  },
  {
   "cell_type": "code",
   "execution_count": 17,
   "id": "5455e37c-75d2-40c9-b261-fb64b7ca38ad",
   "metadata": {},
   "outputs": [
    {
     "data": {
      "text/plain": [
       "True"
      ]
     },
     "execution_count": 17,
     "metadata": {},
     "output_type": "execute_result"
    }
   ],
   "source": [
    "# check if the variable x is an int\n",
    "type(x_int) is int\n",
    "\n",
    "#Int >> integers\n",
    "#is merupakan kode script bawaan dari phyton yang artinya sebanding atau sama dengan\n",
    "#kalau type(x_int) is int >>> true karena sama-sama integers \n",
    "#kalau type(x_int) is into >>> false karena berbeda maksud antara output dengan yang dibandingkan "
   ]
  },
  {
   "cell_type": "code",
   "execution_count": 19,
   "id": "5d42a4d9-af34-4317-906d-f68c0ac74142",
   "metadata": {},
   "outputs": [
    {
     "data": {
      "text/plain": [
       "True"
      ]
     },
     "execution_count": 19,
     "metadata": {},
     "output_type": "execute_result"
    }
   ],
   "source": [
    "# check if the variable x is a float\n",
    "type(x_float) is float\n",
    "\n",
    "#float >>> floating-point"
   ]
  },
  {
   "cell_type": "code",
   "execution_count": 20,
   "id": "d51144b0-c60e-4a65-a17a-bbe9a1fcc109",
   "metadata": {},
   "outputs": [
    {
     "data": {
      "text/plain": [
       "True"
      ]
     },
     "execution_count": 20,
     "metadata": {},
     "output_type": "execute_result"
    }
   ],
   "source": [
    "# check if the variable x is a complex\n",
    "type(x_complex) is complex\n",
    "\n",
    "# x_complex diambil dari atas sendiri yang sudah kita deklarasikan maka percobaan ini harus dideklarasikan terlebih dahulu"
   ]
  },
  {
   "cell_type": "markdown",
   "id": "b388d2f9-19ac-421c-b1e6-42afc06797ba",
   "metadata": {},
   "source": [
    "### **Type Casting** ###"
   ]
  },
  {
   "cell_type": "markdown",
   "id": "59fd3102-6b40-4444-bd43-ea9543decc93",
   "metadata": {},
   "source": [
    "##### Proses konversi data dari tipe data tertentu ke tipe data yang lain #####"
   ]
  },
  {
   "cell_type": "markdown",
   "id": "62616a23-f911-4b56-9d12-6453e81f4132",
   "metadata": {},
   "source": [
    "##### Type Casting adalah melakukan suatu proses operasi antara 2 atau lebih variable yang berbeda atau bagaimana kita mengkonversi variable yang kita punya ke bentuk variable lain #####"
   ]
  },
  {
   "cell_type": "markdown",
   "id": "dad18b41-0892-4d1e-b5fd-3314905b37dc",
   "metadata": {},
   "source": [
    "##### misal variable bertipe integers >>> bertipe float (dikonversi) atau sebaliknya #####"
   ]
  },
  {
   "cell_type": "code",
   "execution_count": 21,
   "id": "bee97365-7069-4ec7-ba19-286c9c425b0b",
   "metadata": {},
   "outputs": [
    {
     "name": "stdout",
     "output_type": "stream",
     "text": [
      "1.5 <class 'float'>\n"
     ]
    }
   ],
   "source": [
    "x = 1.5  #float\n",
    "\n",
    "print(x, type(x))\n",
    "\n",
    "# print (x) artinya kita ingin menyetak variabel 1.5\n",
    "# type (x) artinya kita ingin menyetak typenya <class 'float'>"
   ]
  },
  {
   "cell_type": "code",
   "execution_count": 22,
   "id": "1978ab7e-3f05-4426-ab34-5c69a9a27b36",
   "metadata": {},
   "outputs": [
    {
     "name": "stdout",
     "output_type": "stream",
     "text": [
      "1 <class 'int'>\n"
     ]
    }
   ],
   "source": [
    "#proses casting >>> perubahan tipe data dari float >>> integers\n",
    "#integers\n",
    "x = int(x)\n",
    "\n",
    "print(x, type(x))\n",
    "\n",
    "# perubahan float angka 1.5 menjadi integers angka 1"
   ]
  },
  {
   "cell_type": "code",
   "execution_count": 24,
   "id": "77f69435-747e-402a-9dc8-43d9e5079d9c",
   "metadata": {},
   "outputs": [
    {
     "name": "stdout",
     "output_type": "stream",
     "text": [
      "(1+0j) <class 'complex'>\n"
     ]
    }
   ],
   "source": [
    "#proses perubahan dari integer x = 1\n",
    "#disini kita punya variabel z yang isinya bilangan complex dari (x)\n",
    "#complex\n",
    "z = complex(x)\n",
    "\n",
    "print(z, type(z))\n",
    "\n",
    "# (1+0j) imaginer tidak punya nilai apa-apa\n",
    "# (1+0j) 1 = bilangan riil dan 0j = bilangan imaginer"
   ]
  },
  {
   "cell_type": "code",
   "execution_count": 26,
   "id": "20b98e3d-d590-4a40-889d-23957d839c67",
   "metadata": {},
   "outputs": [
    {
     "ename": "TypeError",
     "evalue": "can't convert complex to float",
     "output_type": "error",
     "traceback": [
      "\u001b[1;31m---------------------------------------------------------------------------\u001b[0m",
      "\u001b[1;31mTypeError\u001b[0m                                 Traceback (most recent call last)",
      "\u001b[1;32m<ipython-input-26-19c840f40bd8>\u001b[0m in \u001b[0;36m<module>\u001b[1;34m\u001b[0m\n\u001b[1;32m----> 1\u001b[1;33m \u001b[0mx\u001b[0m \u001b[1;33m=\u001b[0m \u001b[0mfloat\u001b[0m\u001b[1;33m(\u001b[0m\u001b[0mz\u001b[0m\u001b[1;33m)\u001b[0m\u001b[1;33m\u001b[0m\u001b[1;33m\u001b[0m\u001b[0m\n\u001b[0m",
      "\u001b[1;31mTypeError\u001b[0m: can't convert complex to float"
     ]
    }
   ],
   "source": [
    "# casting complex ke float >>> gagal\n",
    "x = float(z)\n",
    "\n",
    "# gagal dikonversikan karena variabel (z) adalah variabel complex\n",
    "# complex >>> float tidak bisa\n",
    "# jika ada error berwarna merah itu tandanya ada eksekusi program kita yang salah"
   ]
  },
  {
   "cell_type": "markdown",
   "id": "7641f0ad-ff08-4a41-a8a1-8bae25d59d58",
   "metadata": {},
   "source": [
    "##### Complex variables can not be cast to floats or integers. We need to use z.real or z.imag to extract the part of the complex number we want: #####"
   ]
  },
  {
   "cell_type": "code",
   "execution_count": 27,
   "id": "c87213c9-224e-4736-991e-05a1b062b65b",
   "metadata": {},
   "outputs": [
    {
     "name": "stdout",
     "output_type": "stream",
     "text": [
      "1.0  ->  True <class 'bool'>\n",
      "0.0  ->  False <class 'bool'>\n"
     ]
    }
   ],
   "source": [
    "# mengeluarkan bilangan complex yang terdiri dari bilangan riil dan bilangan imaginer\n",
    "y = bool(z.real)\n",
    "# 1 dicasting boolean = true\n",
    "\n",
    "print(z.real, \" -> \", y, type(y))\n",
    "\n",
    "# 0 dicasting boolean = false\n",
    "y = bool(z.imag)\n",
    "\n",
    "print(z.imag, \" -> \", y, type(y)) \n",
    "\n",
    "# \"->\" = keterangan berupa penjelasan/keterangan dan menggunakan petik (string)\n",
    "# print (z.real) hasilnya 1.0\n",
    "# hasil 1.0 didapat dari complex (1+0j) angka 1\n",
    "# y hasilnya True, bisa True karena y = bool(z.real) outputnya adalah True = 1. 1 didapat dari konversi dari bool(z.real)\n",
    "# di pemrograman True = 1 atau 1 = True\n",
    "# hasil type (y) nya boolean\n",
    "\n",
    "# hasil 0.0 didapat dari complex (1+0j) angka 0j\n",
    "# y hasilnya False\n",
    "# hasil type(y) nya boolean"
   ]
  },
  {
   "cell_type": "markdown",
   "id": "1a254414-1226-47f9-ab11-8e34ad32c06e",
   "metadata": {},
   "source": [
    "### **Operators and comparisons** ###"
   ]
  },
  {
   "cell_type": "markdown",
   "id": "47a70ec4-7395-4796-8b8d-0ec34383faab",
   "metadata": {},
   "source": [
    "##### Most operators and comparisons in Python work as one would expect: #####"
   ]
  },
  {
   "cell_type": "markdown",
   "id": "eff206c6-fc78-4eed-91fb-28af07d37dec",
   "metadata": {},
   "source": [
    "##### - arithmetic operators + , - , * , / , // (integer division), '**'power ##### "
   ]
  },
  {
   "cell_type": "code",
   "execution_count": 2,
   "id": "8614bd8b-8b31-4b35-9f46-378076f5c16c",
   "metadata": {},
   "outputs": [
    {
     "data": {
      "text/plain": [
       "(3, -1, 2, 0.5)"
      ]
     },
     "execution_count": 2,
     "metadata": {},
     "output_type": "execute_result"
    }
   ],
   "source": [
    "1 + 2, 1 - 2, 1 * 2, 1 / 2\n",
    "\n",
    "# + (penjumlahan), - (pengurangan), * (perkalian), / (pembagian), // (integer atau bilangan riil), ** (pangkat)\n",
    "# dalam satu baris dengan pemisah koma (,) bisa mengeksekusi aritmatika secara bersamaan"
   ]
  },
  {
   "cell_type": "code",
   "execution_count": 3,
   "id": "885018b3-81fe-4904-bdb4-0c51c44b59a2",
   "metadata": {},
   "outputs": [
    {
     "data": {
      "text/plain": [
       "(3.0, -1.0, 2.0, 0.5)"
      ]
     },
     "execution_count": 3,
     "metadata": {},
     "output_type": "execute_result"
    }
   ],
   "source": [
    "#float\n",
    "1.0 + 2.0, 1.0 - 2.0, 1.0 * 2.0, 1.0 / 2.0 \n",
    "\n",
    "# lebih baik menggunakan angka yang seragam misal kalau satu pakai koma, pakai koma semua"
   ]
  },
  {
   "cell_type": "code",
   "execution_count": 4,
   "id": "41d93bd5-4771-4cf8-bdf1-0aafc5c5317f",
   "metadata": {},
   "outputs": [
    {
     "data": {
      "text/plain": [
       "1.0"
      ]
     },
     "execution_count": 4,
     "metadata": {},
     "output_type": "execute_result"
    }
   ],
   "source": [
    "# Integer division of float numbers\n",
    "# Output: Integer\n",
    "3.0 // 2.0\n",
    "\n",
    "# jika pembaginya ada garis miring 2x akan dianggap integer (bilangan riil)"
   ]
  },
  {
   "cell_type": "code",
   "execution_count": 5,
   "id": "9c9311c6-52d2-43f3-b6a1-38b9c0edb30f",
   "metadata": {},
   "outputs": [
    {
     "data": {
      "text/plain": [
       "4"
      ]
     },
     "execution_count": 5,
     "metadata": {},
     "output_type": "execute_result"
    }
   ],
   "source": [
    "# Note! The power operators in python isn't ^, but **\n",
    "2 ** 2\n",
    "\n",
    "# kalau di Python pangkat menggunakan ** (bintang 2)"
   ]
  },
  {
   "cell_type": "markdown",
   "id": "b6d1fe0d-299c-42b2-bc2b-235a9a06e140",
   "metadata": {},
   "source": [
    "##### - The boolean operators are spelled out as words and , not , or . #####"
   ]
  },
  {
   "cell_type": "code",
   "execution_count": 6,
   "id": "843b4a16-962a-4f6a-92ba-50fa29c38639",
   "metadata": {},
   "outputs": [
    {
     "data": {
      "text/plain": [
       "False"
      ]
     },
     "execution_count": 6,
     "metadata": {},
     "output_type": "execute_result"
    }
   ],
   "source": [
    "True and False\n",
    "\n",
    "# disini yang kuat adalah False (+ and - >>. -)\n",
    "# kalau menggunakan 'or' yang dipilih adalah salah satu"
   ]
  },
  {
   "cell_type": "code",
   "execution_count": 7,
   "id": "a209d108-4fd1-47c4-b4f5-0ccc864c4631",
   "metadata": {},
   "outputs": [
    {
     "data": {
      "text/plain": [
       "True"
      ]
     },
     "execution_count": 7,
     "metadata": {},
     "output_type": "execute_result"
    }
   ],
   "source": [
    "not False "
   ]
  },
  {
   "cell_type": "code",
   "execution_count": 8,
   "id": "0d8cc3ba-7fa8-4f9c-becf-9a40c095aa5f",
   "metadata": {},
   "outputs": [
    {
     "data": {
      "text/plain": [
       "True"
      ]
     },
     "execution_count": 8,
     "metadata": {},
     "output_type": "execute_result"
    }
   ],
   "source": [
    "True or False "
   ]
  },
  {
   "cell_type": "markdown",
   "id": "b4a1447a-7606-421b-89c9-6219dfedb73c",
   "metadata": {},
   "source": [
    "##### - Comparison operators > , < , >= (greater or equal), <= (less or equal), == equality, is identical. #####"
   ]
  },
  {
   "cell_type": "code",
   "execution_count": 9,
   "id": "d2155783-0f8f-4a08-9ec8-6f7022c0f540",
   "metadata": {},
   "outputs": [
    {
     "data": {
      "text/plain": [
       "(True, False)"
      ]
     },
     "execution_count": 9,
     "metadata": {},
     "output_type": "execute_result"
    }
   ],
   "source": [
    "2 > 1, 2 < 1\n",
    "\n",
    "# > (lebih dari), < (kurang dari), >= (lebih dari sama dengan), <= (kurang dari sama dengan)"
   ]
  },
  {
   "cell_type": "code",
   "execution_count": 10,
   "id": "27de35a6-6af3-437b-9ced-2a98edf1d559",
   "metadata": {},
   "outputs": [
    {
     "data": {
      "text/plain": [
       "(False, False)"
      ]
     },
     "execution_count": 10,
     "metadata": {},
     "output_type": "execute_result"
    }
   ],
   "source": [
    "2 > 2, 2 < 2"
   ]
  },
  {
   "cell_type": "code",
   "execution_count": 11,
   "id": "1cc28322-9f73-420e-bfc1-5a5879987e02",
   "metadata": {},
   "outputs": [
    {
     "data": {
      "text/plain": [
       "(True, True)"
      ]
     },
     "execution_count": 11,
     "metadata": {},
     "output_type": "execute_result"
    }
   ],
   "source": [
    "2 >= 2, 2 <= 2\n",
    "\n",
    "# 2 >= 2, > (lebih dari) tidak dianggap, yang dianggap (=) maka hasilnya True\n",
    "# karena ada operator (=) berarti True semua"
   ]
  },
  {
   "cell_type": "code",
   "execution_count": 12,
   "id": "171a5672-56ff-4c61-b04f-c84fbbe14e30",
   "metadata": {},
   "outputs": [
    {
     "data": {
      "text/plain": [
       "True"
      ]
     },
     "execution_count": 12,
     "metadata": {},
     "output_type": "execute_result"
    }
   ],
   "source": [
    "# equality\n",
    "[1,2] == [1,2]"
   ]
  },
  {
   "cell_type": "code",
   "execution_count": 13,
   "id": "374e505b-23dd-424b-b551-43c770d5838b",
   "metadata": {},
   "outputs": [
    {
     "data": {
      "text/plain": [
       "True"
      ]
     },
     "execution_count": 13,
     "metadata": {},
     "output_type": "execute_result"
    }
   ],
   "source": [
    "# objects identical?\n",
    "l1 = l2 = [1,2]\n",
    "\n",
    "l1 is l2"
   ]
  },
  {
   "cell_type": "markdown",
   "id": "3c99c66a-1ee8-4bfd-8532-e1ac09f5f381",
   "metadata": {},
   "source": [
    "### **Compound types: Strings, List and dictionaries** ###"
   ]
  },
  {
   "cell_type": "markdown",
   "id": "092abc6b-b1fd-47a0-b3dc-e051431b2366",
   "metadata": {},
   "source": [
    "### **Strings** ###"
   ]
  },
  {
   "cell_type": "markdown",
   "id": "7b63f332-8408-4c3f-b4fa-eb463151c990",
   "metadata": {},
   "source": [
    "##### Strings are the variable type that is used for storing text messages. #####"
   ]
  },
  {
   "cell_type": "code",
   "execution_count": 2,
   "id": "06ae30bc-90ac-4441-be74-232e87e2d528",
   "metadata": {},
   "outputs": [
    {
     "data": {
      "text/plain": [
       "str"
      ]
     },
     "execution_count": 2,
     "metadata": {},
     "output_type": "execute_result"
    }
   ],
   "source": [
    "s = \"Hello world\"\n",
    "type(s)\n",
    "\n",
    "# str adalah string"
   ]
  },
  {
   "cell_type": "code",
   "execution_count": 3,
   "id": "62e48d6a-9824-4f41-91b0-00b8d5a0df7c",
   "metadata": {},
   "outputs": [
    {
     "data": {
      "text/plain": [
       "11"
      ]
     },
     "execution_count": 3,
     "metadata": {},
     "output_type": "execute_result"
    }
   ],
   "source": [
    "# length of the string: the number of characters\n",
    "len(s)\n",
    "\n",
    "#panjang karakter huruf dan spasinya dihitung"
   ]
  },
  {
   "cell_type": "code",
   "execution_count": 4,
   "id": "c0ea864e-cf88-412b-8655-77d9094a7890",
   "metadata": {},
   "outputs": [
    {
     "name": "stdout",
     "output_type": "stream",
     "text": [
      "Hello test\n"
     ]
    }
   ],
   "source": [
    "# replace a substring in a string with something else\n",
    "s2 = s.replace(\"world\", \"test\")\n",
    "print(s2)"
   ]
  },
  {
   "cell_type": "markdown",
   "id": "437136d9-3191-4397-b4ba-84d9a14506fa",
   "metadata": {},
   "source": [
    "##### We can index a character in a string using [] : #####"
   ]
  },
  {
   "cell_type": "code",
   "execution_count": 5,
   "id": "226c43ba-d189-4316-9811-014331b17dc7",
   "metadata": {},
   "outputs": [
    {
     "data": {
      "text/plain": [
       "'H'"
      ]
     },
     "execution_count": 5,
     "metadata": {},
     "output_type": "execute_result"
    }
   ],
   "source": [
    "#indeks >>> menunjukkan urutan lokasi suatu karakter dari data\n",
    "#s = \"Hello world\"\n",
    "s[0]\n",
    "\n",
    "# kalau [0] menunjukkan huruf 'h', kalau [1] menunjukkan huruf 'e' dan seterusnya\n",
    "# h index ke 0, ..., spasi index ke 5, dan seterusnya"
   ]
  },
  {
   "cell_type": "markdown",
   "id": "38eb3f96-3841-488e-95e2-3adb54d03376",
   "metadata": {},
   "source": [
    "##### We can extract a part of a string using the syntax [start:stop] , which extracts characters between index start and stop : #####"
   ]
  },
  {
   "cell_type": "code",
   "execution_count": 6,
   "id": "d87d01ef-2539-43ee-980a-b1b79ce441ec",
   "metadata": {},
   "outputs": [
    {
     "data": {
      "text/plain": [
       "'Hello'"
      ]
     },
     "execution_count": 6,
     "metadata": {},
     "output_type": "execute_result"
    }
   ],
   "source": [
    "#menampilkan karakter dari indeks 0: 1 2 3 4 <5\n",
    "s[0:5]\n",
    "\n",
    "# [0:5] artinya mulai urutan index ke-0 hingga ke-5\n",
    "# [0:5] artinya index karakter dari 0-4, index ke-5 tidak diikutkan"
   ]
  },
  {
   "cell_type": "markdown",
   "id": "a7f5f90c-9417-404d-8a7d-42d52ae3106e",
   "metadata": {},
   "source": [
    "##### If we omit either (or both) of start or stop from [start:stop] , the default is the beginning and the end of the string, respectively: #####"
   ]
  },
  {
   "cell_type": "code",
   "execution_count": 8,
   "id": "2052d29b-47aa-4146-9b3d-eaaefb2949b9",
   "metadata": {},
   "outputs": [
    {
     "data": {
      "text/plain": [
       "'Hello'"
      ]
     },
     "execution_count": 8,
     "metadata": {},
     "output_type": "execute_result"
    }
   ],
   "source": [
    "# cara lain selain mendeklarasikan [0:5] adalah tidak memasukkan angka 0\n",
    "s[:5]"
   ]
  },
  {
   "cell_type": "code",
   "execution_count": 10,
   "id": "fbc03d93-c105-4699-b104-94096103bdb1",
   "metadata": {},
   "outputs": [
    {
     "data": {
      "text/plain": [
       "'world'"
      ]
     },
     "execution_count": 10,
     "metadata": {},
     "output_type": "execute_result"
    }
   ],
   "source": [
    "s[6:]\n",
    "\n",
    "# [6:] artinya dari index ke-6 sampai seterusnya diikutkan"
   ]
  },
  {
   "cell_type": "code",
   "execution_count": 11,
   "id": "e7ed7569-eb96-454e-935f-29aea1c0dec0",
   "metadata": {},
   "outputs": [
    {
     "data": {
      "text/plain": [
       "'Hello world'"
      ]
     },
     "execution_count": 11,
     "metadata": {},
     "output_type": "execute_result"
    }
   ],
   "source": [
    "s[:]\n",
    "\n",
    "# [:] artinya menampilkan semua isinya "
   ]
  },
  {
   "cell_type": "markdown",
   "id": "bb3ba9b2-5409-49da-82ee-0cbe382a6419",
   "metadata": {},
   "source": [
    "##### We can also define the step size using the syntax [start:end:step] (the default value for step is 1, as we saw above): #####"
   ]
  },
  {
   "cell_type": "code",
   "execution_count": 12,
   "id": "1a554221-1dd7-492c-a61d-b206c16fc0f3",
   "metadata": {},
   "outputs": [
    {
     "data": {
      "text/plain": [
       "'Hello world'"
      ]
     },
     "execution_count": 12,
     "metadata": {},
     "output_type": "execute_result"
    }
   ],
   "source": [
    "s[::1]\n",
    "\n",
    "# [::1] >>> angka 1 artinya step 1 langkah dari huruf 'h' ke 'e' satu langkah dan seterusnya, maka dihasilkan kalimat tetapnya yaitu Hello world"
   ]
  },
  {
   "cell_type": "code",
   "execution_count": 13,
   "id": "a505f881-a963-4365-a875-352eb3938e49",
   "metadata": {},
   "outputs": [
    {
     "data": {
      "text/plain": [
       "'Hlowrd'"
      ]
     },
     "execution_count": 13,
     "metadata": {},
     "output_type": "execute_result"
    }
   ],
   "source": [
    "s[::2]\n",
    "\n",
    "# [::2] >>> angka 2 artinya step 2 langkah dari huruf 'h' dan seterusnya\n",
    "# spasinya dianggap"
   ]
  },
  {
   "cell_type": "markdown",
   "id": "b18f1131-bcee-4d09-b7b8-6acb10dea76d",
   "metadata": {},
   "source": [
    "### **String formatting examples** ###"
   ]
  },
  {
   "cell_type": "code",
   "execution_count": 15,
   "id": "a6a144c5-d914-4655-8fc5-e04eeba57c53",
   "metadata": {},
   "outputs": [
    {
     "name": "stdout",
     "output_type": "stream",
     "text": [
      "str1 str2 str3\n"
     ]
    }
   ],
   "source": [
    "print(\"str1\", \"str2\", \"str3\")  # The print statement concatenates strings with a space"
   ]
  },
  {
   "cell_type": "code",
   "execution_count": 16,
   "id": "d505ed36-ee39-4d22-8bae-5e7f38b7cea1",
   "metadata": {},
   "outputs": [
    {
     "name": "stdout",
     "output_type": "stream",
     "text": [
      "str1 1.0 False (-0-1j)\n"
     ]
    }
   ],
   "source": [
    "print(\"str1\", 1.0, False, -1j)  # The print statement converts all arguments to strings"
   ]
  },
  {
   "cell_type": "code",
   "execution_count": 17,
   "id": "7cdc3225-dec7-424b-a4f7-46f843f8567a",
   "metadata": {},
   "outputs": [
    {
     "name": "stdout",
     "output_type": "stream",
     "text": [
      "str1str2str3\n"
     ]
    }
   ],
   "source": [
    "print(\"str1\" + \"str2\" + \"str3\")  # strings added with + are concatenated witohout space"
   ]
  },
  {
   "cell_type": "code",
   "execution_count": 18,
   "id": "236715f0-a3f4-496c-9679-da8479509ef5",
   "metadata": {},
   "outputs": [
    {
     "name": "stdout",
     "output_type": "stream",
     "text": [
      "value = 1.000000\n"
     ]
    }
   ],
   "source": [
    "print(\"value = %f\" % 1.0)        # we can use C-style string formatting"
   ]
  },
  {
   "cell_type": "code",
   "execution_count": 19,
   "id": "3a85a3ea-5bf6-4007-9f88-04ffa310e035",
   "metadata": {},
   "outputs": [
    {
     "name": "stdout",
     "output_type": "stream",
     "text": [
      "value1 = 3.14. value2 = 1\n"
     ]
    }
   ],
   "source": [
    "# this formatting creates a string   phi\n",
    "                  float       decimal\n",
    "s2 = \"value1 = %.2f. value2 = %d\" % (3.1415, 1.5)\n",
    "\n",
    "print(s2)\n",
    "\n",
    "# jika ingin menghasilkan 2 angka setelah koma, bisa menuliskan '2f'\n",
    "# value1 = %.2f f artinya float\n",
    "# value2 = %d d artinya decimal\n",
    "# (1.5) menginteger float menjadi decimal = 1"
   ]
  },
  {
   "cell_type": "markdown",
   "id": "1506044d-bb5f-4357-a628-769e646ebe48",
   "metadata": {},
   "source": [
    "### **List** ###"
   ]
  },
  {
   "cell_type": "markdown",
   "id": "1afe19a3-8533-443e-8d03-4b31f5112e63",
   "metadata": {},
   "source": [
    "##### Lists are very similar to strings, except that each element can be of any type. #####"
   ]
  },
  {
   "cell_type": "markdown",
   "id": "7d29bb57-1856-43c2-9fe6-46170c54977c",
   "metadata": {},
   "source": [
    "##### The syntax for creating lists in Python is [...] : #####"
   ]
  },
  {
   "cell_type": "code",
   "execution_count": 20,
   "id": "f486526f-1ee5-4a60-9be1-7099a6f412f9",
   "metadata": {},
   "outputs": [
    {
     "name": "stdout",
     "output_type": "stream",
     "text": [
      "<class 'list'>\n",
      "[1, 2, 3, 4]\n"
     ]
    }
   ],
   "source": [
    "# list terdiri dari beberapa item (angka, string, float) yang isinya item set yang kita punya\n",
    "\n",
    "l = [1,2,3,4]\n",
    "\n",
    "print(type(l))\n",
    "print(l)\n",
    "\n",
    "# dipakai di pengolahan data matriks"
   ]
  },
  {
   "cell_type": "code",
   "execution_count": 21,
   "id": "1242fca8-41b4-496a-b674-0384463a0d6b",
   "metadata": {},
   "outputs": [
    {
     "name": "stdout",
     "output_type": "stream",
     "text": [
      "[1, 2, 3, 4]\n",
      "[2, 3]\n",
      "[1, 4]\n"
     ]
    }
   ],
   "source": [
    "print(l)     \n",
    "# l = 1 2 3 4\n",
    "    # indeks 0 1 2 3\n",
    "\n",
    "print(l[1:3])     \n",
    "# mulai dari indeks ke satu hingga indeks kurang dari tiga\n",
    "# l = 1 2 3 4\n",
    "    # 0 1 2 3 >>> indeks\n",
    "      # 1 2 ([1:3] yang diambil indeks 1 hingga kurang dari 3) berarti jawabannya [2, 3] \n",
    "\n",
    "print(l[::3])     \n",
    "# mulai dari indeks ke 0 lalu loncat tiga langkah\n",
    "# l = 1 2 3 4\n",
    "    # 0 1 2 3 >>> indeks\n",
    "    # 1 2 3 4 >>> [start:end]\n",
    "    # 1     4 >>> [start:end:step] (yang diambil indeks 0 dan ke-3, 3 langkah)"
   ]
  },
  {
   "cell_type": "code",
   "execution_count": 22,
   "id": "1c53902a-6f6a-4948-8ed0-6d9bdd2f6686",
   "metadata": {},
   "outputs": [
    {
     "data": {
      "text/plain": [
       "1"
      ]
     },
     "execution_count": 22,
     "metadata": {},
     "output_type": "execute_result"
    }
   ],
   "source": [
    "l[0]"
   ]
  },
  {
   "cell_type": "markdown",
   "id": "3fd598dd-f395-437a-acad-d218584611ef",
   "metadata": {},
   "source": [
    "##### Elements in a list do not all have to be of the same type: #####"
   ]
  },
  {
   "cell_type": "code",
   "execution_count": 23,
   "id": "9cc7f20d-72f9-453c-b853-5aebbab9f301",
   "metadata": {},
   "outputs": [
    {
     "name": "stdout",
     "output_type": "stream",
     "text": [
      "[1, 'a', 1.0, (1-1j)]\n"
     ]
    }
   ],
   "source": [
    "l = [1, 'a', 1.0, 1-1j]\n",
    "\n",
    "print(l)"
   ]
  },
  {
   "cell_type": "markdown",
   "id": "aae165a1-7cce-481a-b451-e0c7bb558a26",
   "metadata": {},
   "source": [
    "##### Lists play a very important role in Python, and are for example used in loops and other flow control structures (discussed below). There are numbers of convenient functions for generating lists of various types, for example the range function: #####"
   ]
  },
  {
   "cell_type": "code",
   "execution_count": 25,
   "id": "5d9ff432-d48e-4610-9425-7c81a6458923",
   "metadata": {},
   "outputs": [
    {
     "data": {
      "text/plain": [
       "range(10, 30, 2)"
      ]
     },
     "execution_count": 25,
     "metadata": {},
     "output_type": "execute_result"
    }
   ],
   "source": [
    "start = 10\n",
    "stop = 30\n",
    "step = 2\n",
    "\n",
    "range(start, stop, step)\n",
    "\n",
    "#autogenerated bilangan"
   ]
  },
  {
   "cell_type": "code",
   "execution_count": 26,
   "id": "b7830c23-c93f-45dc-8b64-99d0f81f9e5b",
   "metadata": {},
   "outputs": [
    {
     "data": {
      "text/plain": [
       "[10, 12, 14, 16, 18, 20, 22, 24, 26, 28]"
      ]
     },
     "execution_count": 26,
     "metadata": {},
     "output_type": "execute_result"
    }
   ],
   "source": [
    "# in python 3 range generates an interator, which can be converted to a list using 'list(...)'.\n",
    "# It has no effect in python 2\n",
    "list(range(start, stop, step))\n",
    "\n",
    "# 30 tidak dicetak karena kurang dari 30"
   ]
  },
  {
   "cell_type": "code",
   "execution_count": 27,
   "id": "eecafd82-3e59-45f8-a309-69545d625970",
   "metadata": {},
   "outputs": [
    {
     "data": {
      "text/plain": [
       "[-10, -9, -8, -7, -6, -5, -4, -3, -2, -1, 0, 1, 2, 3, 4, 5, 6, 7, 8, 9]"
      ]
     },
     "execution_count": 27,
     "metadata": {},
     "output_type": "execute_result"
    }
   ],
   "source": [
    "list(range(-10, 10))"
   ]
  },
  {
   "cell_type": "code",
   "execution_count": 28,
   "id": "6b9f199b-8a8c-4efa-9be3-3ec69deb2876",
   "metadata": {},
   "outputs": [
    {
     "data": {
      "text/plain": [
       "'Hello world'"
      ]
     },
     "execution_count": 28,
     "metadata": {},
     "output_type": "execute_result"
    }
   ],
   "source": [
    "s"
   ]
  },
  {
   "cell_type": "code",
   "execution_count": 29,
   "id": "30d9769e-22d1-4985-a310-e96276754f15",
   "metadata": {},
   "outputs": [
    {
     "data": {
      "text/plain": [
       "['H', 'e', 'l', 'l', 'o', ' ', 'w', 'o', 'r', 'l', 'd']"
      ]
     },
     "execution_count": 29,
     "metadata": {},
     "output_type": "execute_result"
    }
   ],
   "source": [
    "# convert a string to a list by type casting:\n",
    "s2 = list(s)\n",
    "\n",
    "s2"
   ]
  },
  {
   "cell_type": "code",
   "execution_count": 30,
   "id": "d332d27d-64ec-4f6f-8b02-dc7180bdbcad",
   "metadata": {},
   "outputs": [
    {
     "name": "stdout",
     "output_type": "stream",
     "text": [
      "[' ', 'H', 'd', 'e', 'l', 'l', 'l', 'o', 'o', 'r', 'w']\n"
     ]
    }
   ],
   "source": [
    "# sorting lists\n",
    "s2.sort()\n",
    "\n",
    "print(s2)\n",
    "\n",
    "#.sort >>> untuk mengurutkan angka, huruf"
   ]
  },
  {
   "cell_type": "markdown",
   "id": "5f32c56d-a228-4e3d-9396-038a30469236",
   "metadata": {},
   "source": [
    "##### Adding, inserting, modifying, and removing elements from lists #####"
   ]
  },
  {
   "cell_type": "code",
   "execution_count": 2,
   "id": "5bd11d38-d4c2-4294-97a9-47ca88965c6f",
   "metadata": {},
   "outputs": [
    {
     "name": "stdout",
     "output_type": "stream",
     "text": [
      "['A', 'd', 'd']\n"
     ]
    }
   ],
   "source": [
    "# create a new empty list\n",
    "l =[]\n",
    "\n",
    "# add an elements using 'append'\n",
    "l.append(\"A\")     #indeks 0\n",
    "l.append(\"d\")     #indeks 1\n",
    "l.append(\"d\")     #indeks 2\n",
    "\n",
    "print(l)"
   ]
  },
  {
   "cell_type": "markdown",
   "id": "c948f7b8-5333-48a9-b475-34579b89655c",
   "metadata": {},
   "source": [
    "##### We can modify lists by assigning new values to elements in the list. In technical jargon, lists are mutable. #####"
   ]
  },
  {
   "cell_type": "code",
   "execution_count": 3,
   "id": "2f1a1be9-dbbd-4e33-9cc7-6ce378b7bb09",
   "metadata": {},
   "outputs": [
    {
     "name": "stdout",
     "output_type": "stream",
     "text": [
      "['A', 'p', 'p']\n"
     ]
    }
   ],
   "source": [
    "#indeks 1 dan indeks 2\n",
    "l[1] = \"p\"\n",
    "l[2] = \"p\"\n",
    "\n",
    "print(l)\n",
    "\n",
    "# jika ingin menginsertkan sebuah nilai ke dalam sebuah list"
   ]
  },
  {
   "cell_type": "markdown",
   "id": "3a3a0cc0-27a8-4d78-9228-ef4b8c2fab1c",
   "metadata": {},
   "source": [
    "##### Insert an element at an specific index using insert #####"
   ]
  },
  {
   "cell_type": "code",
   "execution_count": 4,
   "id": "4a7f3073-2dac-45a1-a574-e674401fc0ea",
   "metadata": {},
   "outputs": [
    {
     "name": "stdout",
     "output_type": "stream",
     "text": [
      "['i', 'n', 's', 'e', 'r', 't', 'A', 'p', 'p']\n"
     ]
    }
   ],
   "source": [
    "l.insert(0, \"i\")\n",
    "l.insert(1, \"n\")\n",
    "l.insert(2, \"s\")\n",
    "l.insert(3, \"e\")\n",
    "l.insert(4, \"r\")\n",
    "l.insert(5, \"t\")\n",
    "\n",
    "print(l)\n",
    "\n",
    "# menambahkan isi dengan urutan, isi sebelumnya akan bergeser "
   ]
  },
  {
   "cell_type": "markdown",
   "id": "b6abeb54-38c0-49ed-9371-d8a0528a5750",
   "metadata": {},
   "source": [
    "##### Remove first element with specific value using 'remove' #####"
   ]
  },
  {
   "cell_type": "code",
   "execution_count": 34,
   "id": "00adc48c-03d9-47c5-a2b1-e79cfd12064b",
   "metadata": {},
   "outputs": [
    {
     "name": "stdout",
     "output_type": "stream",
     "text": [
      "['i', 'n', 's', 'e', 'r', 't', 'p', 'p']\n"
     ]
    }
   ],
   "source": [
    "l.remove(\"A\")\n",
    "\n",
    "print(l)\n",
    "\n",
    "# menghilangkan salah satu huruf"
   ]
  },
  {
   "cell_type": "markdown",
   "id": "887f0aa5-5d64-489a-870b-c63c8a03b80d",
   "metadata": {},
   "source": [
    "##### Remove an element at a specific location using del : #####"
   ]
  },
  {
   "cell_type": "code",
   "execution_count": 35,
   "id": "cfe1adce-1aee-43e5-b71d-6d8a40762ba3",
   "metadata": {},
   "outputs": [
    {
     "name": "stdout",
     "output_type": "stream",
     "text": [
      "['i', 'n', 's', 'e', 'r', 't']\n"
     ]
    }
   ],
   "source": [
    "del l[7]\n",
    "del l[6]\n",
    "\n",
    "print(l)\n",
    "\n",
    "# del menggunakan indeks bukan huruf"
   ]
  },
  {
   "cell_type": "markdown",
   "id": "35471144-95d4-4514-9945-07e3eefcb6b2",
   "metadata": {},
   "source": [
    "### **Dictionary** ###"
   ]
  },
  {
   "cell_type": "markdown",
   "id": "8b762f4e-2fac-46d2-8827-86cedda3f0b5",
   "metadata": {},
   "source": [
    "##### Dictionaries are also like lists, except that each element is a key-value pair. The syntax for dictionaries is {key1 : value1, ...} : #####"
   ]
  },
  {
   "cell_type": "code",
   "execution_count": 8,
   "id": "af23eb90-0a50-4fc8-8bff-3365270e0221",
   "metadata": {},
   "outputs": [
    {
     "name": "stdout",
     "output_type": "stream",
     "text": [
      "<class 'dict'>\n",
      "{'parameter1': 1.0, 'parameter2': 2.0, 'parameter3': 3.0}\n"
     ]
    }
   ],
   "source": [
    "params = {\"parameter1\" : 1.0,\n",
    "          \"parameter2\" : 2.0,\n",
    "          \"parameter3\" : 3.0,}\n",
    "\n",
    "print(type(params))\n",
    "print(params)\n",
    "\n",
    "#JSON\n",
    "# biasa digunakan untuk operasi note\n",
    "# dict >>> dictionary\n",
    "# database semi structure"
   ]
  },
  {
   "cell_type": "code",
   "execution_count": 9,
   "id": "98e463e8-3f5b-4f7a-8d50-dc5960c58643",
   "metadata": {},
   "outputs": [
    {
     "name": "stdout",
     "output_type": "stream",
     "text": [
      "parameter1 = 1.0\n",
      "parameter2 = 2.0\n",
      "parameter3 = 3.0\n"
     ]
    }
   ],
   "source": [
    "# string + proses untuk mengambil value\n",
    "print(\"parameter1 = \" + str(params[\"parameter1\"]))\n",
    "print(\"parameter2 = \" + str(params[\"parameter2\"]))\n",
    "print(\"parameter3 = \" + str(params[\"parameter3\"]))"
   ]
  },
  {
   "cell_type": "code",
   "execution_count": 10,
   "id": "93da8b84-79cf-48e0-a1e0-74e3e32e8cd3",
   "metadata": {},
   "outputs": [
    {
     "name": "stdout",
     "output_type": "stream",
     "text": [
      "parameter1 = A\n",
      "parameter2 = B\n",
      "parameter3 = 3.0\n",
      "parameter4 = D\n"
     ]
    }
   ],
   "source": [
    "# cara merubah nilai dari parameter\n",
    "# params[\"string nama\"] = isi string baru\n",
    "params[\"parameter1\"] = \"A\"\n",
    "params[\"parameter2\"] = \"B\"\n",
    "\n",
    "# add a new entry\n",
    "# menambah parameter baru\n",
    "# params[\"string\"] = isi string baru\n",
    "params[\"parameter4\"] = \"D\"\n",
    "\n",
    "print(\"parameter1 = \" + str(params[\"parameter1\"]))\n",
    "print(\"parameter2 = \" + str(params[\"parameter2\"]))\n",
    "print(\"parameter3 = \" + str(params[\"parameter3\"]))\n",
    "print(\"parameter4 = \" + str(params[\"parameter4\"]))"
   ]
  },
  {
   "cell_type": "markdown",
   "id": "51de2e29-3e1c-4edc-93fb-b6dc6ba00bbc",
   "metadata": {},
   "source": [
    "# Control Flow #"
   ]
  },
  {
   "cell_type": "markdown",
   "id": "d36923ec-7367-41ae-954f-fdeb282ae45c",
   "metadata": {},
   "source": [
    "### **Conditional statements: if, elif, else** ###"
   ]
  },
  {
   "cell_type": "markdown",
   "id": "43b5bf00-22a3-423a-8c3b-4049a9cee563",
   "metadata": {},
   "source": [
    "##### The Python syntax for conditional execution of code the keywords if, elif, (else if), else : #####"
   ]
  },
  {
   "cell_type": "code",
   "execution_count": 6,
   "id": "4e9c5f54-f1e6-4adb-ad79-8d23fd8895bd",
   "metadata": {},
   "outputs": [
    {
     "name": "stdout",
     "output_type": "stream",
     "text": [
      "statement1 is False and statement2 is False\n"
     ]
    }
   ],
   "source": [
    "statement1 = False\n",
    "statement2 = False\n",
    "\n",
    "if statement1 is False and statement2 is False: #true\n",
    "    print(\"statement1 is False and statement2 is False\")\n",
    "    \n",
    "elif statement2 is False: #true\n",
    "    print(\"statement2 is True\")\n",
    "    \n",
    "else:\n",
    "    print(\"statement1 and statement2 are False\")\n",
    "    \n",
    "# if digunakan untuk menunjukkan keinginan pertama\n",
    "# elif digunakan untuk menunjukkan keinginan kedua\n",
    "# else digunakan untuk menunjukkan pilihan kedua jika keinginan pertama dan kedua salah\n",
    "# : digunakan di akhir if, elif, ataupun else\n",
    "# else tidak perlu statement\n",
    "# contoh:\n",
    "# C = 8\n",
    "# if C<3:\n",
    "# print(\"C lebih kecil dari 3\")\n",
    "# elif C>5:\n",
    "# print (\"C lebih besar dari 5\")\n",
    "# else:\n",
    "# print(\"C di antara 3 dan 5\")"
   ]
  },
  {
   "cell_type": "code",
   "execution_count": 7,
   "id": "35f89e6e-9123-49d0-a05f-a95bb1c2c8f7",
   "metadata": {},
   "outputs": [
    {
     "name": "stdout",
     "output_type": "stream",
     "text": [
      "belikan nasi\n"
     ]
    }
   ],
   "source": [
    "makan = 'nasi'\n",
    "minum = 'es teh'\n",
    "\n",
    "if makan == 'nasi':\n",
    "    print(\"belikan nasi\")\n",
    "else:\n",
    "    print(\"belikan: minum\")"
   ]
  },
  {
   "cell_type": "markdown",
   "id": "8ca2fba8-c5fc-4913-a6ae-b16b2b00c929",
   "metadata": {},
   "source": [
    "##### In Python, the extent of a code block is defined by the indentation level (usually a tab or say four white spaces). This means that we have to be careful to indent our code correctly, or else we will get syntax errors. #####"
   ]
  },
  {
   "cell_type": "markdown",
   "id": "5f3ad072-08aa-47ba-ba6a-e6d083940c27",
   "metadata": {},
   "source": [
    "#### **Examples:** ####"
   ]
  },
  {
   "cell_type": "code",
   "execution_count": 8,
   "id": "72b74fdf-a4ee-4078-8f4d-6cf89fbe11e5",
   "metadata": {},
   "outputs": [
    {
     "name": "stdout",
     "output_type": "stream",
     "text": [
      "both statement1 and statement2 are True\n"
     ]
    }
   ],
   "source": [
    "# if bertingkat\n",
    "statement1 = statement2 = True\n",
    "\n",
    "if statement1: #jenjang if ke-1 terpenuhi\n",
    "    if statement2: #jenjang if ke-2\n",
    "        print(\"both statement1 and statement2 are True\")\n",
    "        \n",
    "# yang dieksekusi induknya dulu >>> statement 1"
   ]
  },
  {
   "cell_type": "code",
   "execution_count": 9,
   "id": "07af7842-5f39-449c-9913-0ee3423c86a0",
   "metadata": {},
   "outputs": [
    {
     "ename": "IndentationError",
     "evalue": "expected an indented block (<ipython-input-9-ac4109c9123a>, line 4)",
     "output_type": "error",
     "traceback": [
      "\u001b[1;36m  File \u001b[1;32m\"<ipython-input-9-ac4109c9123a>\"\u001b[1;36m, line \u001b[1;32m4\u001b[0m\n\u001b[1;33m    print(\"both statement1 and statement2 are True\")  # this line is not properly indented\u001b[0m\n\u001b[1;37m    ^\u001b[0m\n\u001b[1;31mIndentationError\u001b[0m\u001b[1;31m:\u001b[0m expected an indented block\n"
     ]
    }
   ],
   "source": [
    "# Bad indentation!\n",
    "if statement1:\n",
    "    if statement2:\n",
    "    print(\"both statement1 and statement2 are True\")  # this line is not properly indented\n",
    "    \n",
    "# tidak boleh mengganti tempat kalimatnya, jika sudah si enter jangan diubah tempatnya"
   ]
  },
  {
   "cell_type": "code",
   "execution_count": 10,
   "id": "e5b998ec-02b2-469f-b28c-7a3d0113d9c0",
   "metadata": {},
   "outputs": [],
   "source": [
    "statement1 = False\n",
    "\n",
    "if statement1: #true\n",
    "    print(\"printed if statement1 is True\")\n",
    "    \n",
    "    print(\"still inside the if block\")\n",
    "    \n",
    "# tidak kecetak karena statement1 (False) tidak memenuhi kondisi if (True)"
   ]
  },
  {
   "cell_type": "code",
   "execution_count": 11,
   "id": "3c58f917-f891-46ad-ba82-f43cfeeb5a56",
   "metadata": {
    "tags": []
   },
   "outputs": [
    {
     "name": "stdout",
     "output_type": "stream",
     "text": [
      "now outside the if block\n"
     ]
    }
   ],
   "source": [
    "if statement1:\n",
    "    print(\"printed if statement1 is True\")\n",
    "    \n",
    "print(\"now outside the if block\")\n",
    "\n",
    "# print harus sejajar dengan if, jika di luar atau tidak sejajar if maka tidak bisa ke cetak"
   ]
  },
  {
   "cell_type": "markdown",
   "id": "e028aae9-1001-4b61-9261-2f2cd40d088f",
   "metadata": {},
   "source": [
    "### **Loops** ###"
   ]
  },
  {
   "cell_type": "markdown",
   "id": "7756bdf5-ecbe-4bd5-9215-a9c40bc5657c",
   "metadata": {},
   "source": [
    "##### In Python, loops can be programmed in a number of different ways. The most common is the for loop, which is used together with iterable objects, such as lists. The basic syntax is: #####"
   ]
  },
  {
   "cell_type": "code",
   "execution_count": 1,
   "id": "db1a7373-97ee-4116-966e-ffe37924bc73",
   "metadata": {},
   "outputs": [
    {
     "name": "stdout",
     "output_type": "stream",
     "text": [
      "1\n",
      "2\n",
      "3\n"
     ]
    }
   ],
   "source": [
    "for x in [1,2,3]:\n",
    "    print(x)\n",
    "    \n",
    "# sering digunakan di machine learning\n",
    "# digunakan untuk melibatkan data-data latih"
   ]
  },
  {
   "cell_type": "markdown",
   "id": "61818309-4e65-465d-b925-f071ef374fc6",
   "metadata": {},
   "source": [
    "##### The for loop iterates over the elements of the supplied list, and executes the containing block once for each element. Any kind of list can be used in the for loop. For example: #####"
   ]
  },
  {
   "cell_type": "code",
   "execution_count": 2,
   "id": "7ba1ae93-ad35-45f5-99d2-1f17badb4dad",
   "metadata": {},
   "outputs": [
    {
     "name": "stdout",
     "output_type": "stream",
     "text": [
      "0\n",
      "1\n",
      "2\n",
      "3\n"
     ]
    }
   ],
   "source": [
    "for x in range(4): # by default range start at 0\n",
    "    print(x)\n",
    "    \n",
    "# range(4) = 0,1,2,3"
   ]
  },
  {
   "cell_type": "markdown",
   "id": "388ae8cb-2c17-480c-be3d-156d321b9608",
   "metadata": {},
   "source": [
    "##### Note: range(4) does not include 4 ! #####"
   ]
  },
  {
   "cell_type": "code",
   "execution_count": 4,
   "id": "40d6d008-0880-4791-b034-d7d0bbe068be",
   "metadata": {},
   "outputs": [
    {
     "name": "stdout",
     "output_type": "stream",
     "text": [
      "-3\n",
      "-2\n",
      "-1\n",
      "0\n",
      "1\n",
      "2\n"
     ]
    }
   ],
   "source": [
    "for x in range(-3,3):\n",
    "    print(x)\n",
    "    \n",
    "# 3 tidak diikutkan karena < 3"
   ]
  },
  {
   "cell_type": "code",
   "execution_count": 7,
   "id": "14472f98-791e-4ebf-9266-364e3d709f0e",
   "metadata": {},
   "outputs": [
    {
     "name": "stdout",
     "output_type": "stream",
     "text": [
      "scientific\n",
      "computing\n",
      "with\n",
      "python\n"
     ]
    }
   ],
   "source": [
    "for word in [\"scientific\", \"computing\", \"with\", \"python\"]:\n",
    "    print(word)"
   ]
  },
  {
   "cell_type": "markdown",
   "id": "5a7a50c9-61ad-4b9c-8c8a-f497aa04e862",
   "metadata": {},
   "source": [
    "##### To iterate over key-value pairs of a dictionary: #####"
   ]
  },
  {
   "cell_type": "code",
   "execution_count": 11,
   "id": "67d6cb66-755e-4f96-994d-93d43e60310b",
   "metadata": {},
   "outputs": [
    {
     "name": "stdout",
     "output_type": "stream",
     "text": [
      "parameter1 = A\n",
      "parameter2 = B\n",
      "parameter3 = 3.0\n",
      "parameter4 = D\n"
     ]
    }
   ],
   "source": [
    "for key in params:\n",
    "    print(key + \" = \" + str(params[key]))"
   ]
  },
  {
   "cell_type": "markdown",
   "id": "559f5aee-15fb-45c8-8df8-477ae54e8bf8",
   "metadata": {},
   "source": [
    "##### Sometimes it is useful to have acces to the indices of the values when iterating over a list. We can use the enumerate function for this: #####\n",
    "\n"
   ]
  },
  {
   "cell_type": "code",
   "execution_count": 12,
   "id": "57588344-13e7-409a-8a59-6008863af8f1",
   "metadata": {},
   "outputs": [
    {
     "name": "stdout",
     "output_type": "stream",
     "text": [
      "0 -3\n",
      "1 -2\n",
      "2 -1\n",
      "3 0\n",
      "4 1\n",
      "5 2\n"
     ]
    }
   ],
   "source": [
    "for idx, x in enumerate(range(-3,3)):\n",
    "    print(idx, x)\n",
    "    \n",
    "# idx = index (0,1,2,3,4,5)\n",
    "# x = value (-3,-2,-1,0,1,2)"
   ]
  },
  {
   "cell_type": "markdown",
   "id": "e0a7d73a-efb4-4225-9780-e62034fd760c",
   "metadata": {},
   "source": [
    "### **List comprehensions: Creating lists using for loops:** ###"
   ]
  },
  {
   "cell_type": "markdown",
   "id": "d30e7927-7022-4fb5-a9da-8fc8f2d1ae61",
   "metadata": {},
   "source": [
    "##### A convenient and compact way to initialize lists: #####"
   ]
  },
  {
   "cell_type": "code",
   "execution_count": 13,
   "id": "f9a7d994-5c6f-4bba-9891-5444daa81d62",
   "metadata": {},
   "outputs": [
    {
     "name": "stdout",
     "output_type": "stream",
     "text": [
      "[0, 1, 4, 9, 16]\n"
     ]
    }
   ],
   "source": [
    "#x = 0,1,2,3,4 >>> range(0,5)\n",
    "#x^2 = 0^2, 1^2, 2^2, 3^2, 4^2\n",
    "\n",
    "l1 = [x**2 for x in range(0,5)]\n",
    "\n",
    "print(l1)"
   ]
  },
  {
   "cell_type": "markdown",
   "id": "61f880ec-2abb-4721-ad8c-ff604a9efb7a",
   "metadata": {},
   "source": [
    "### **While loops** ###"
   ]
  },
  {
   "cell_type": "markdown",
   "id": "fba8cd10-a8a4-47b1-a5e2-3690a89643cc",
   "metadata": {},
   "source": [
    "##### berfungsi untuk mengeksekusi code di dalam loop tersebut sampai suatu kondisi terpenuhi untuk menghentikannya #####"
   ]
  },
  {
   "cell_type": "code",
   "execution_count": 14,
   "id": "d578cfcb-f2ba-42c5-bd67-8f6398ed7378",
   "metadata": {},
   "outputs": [
    {
     "name": "stdout",
     "output_type": "stream",
     "text": [
      "0\n",
      "1\n",
      "2\n",
      "3\n",
      "4\n",
      "done\n"
     ]
    }
   ],
   "source": [
    "i = 0\n",
    "#indeks ke 1\n",
    "#indeks ke 2 >> 2\n",
    "#indeks ke 3 >> 3\n",
    "#indeks ke 4 >> 4\n",
    "\n",
    "while i < 5:\n",
    "    print(i)\n",
    "    #print 0\n",
    "    \n",
    "    #i=i+1\n",
    "    i = i + 1\n",
    "    \n",
    "print(\"done\")\n",
    "\n",
    "# i < 5 artinya dari 0 sampai 4\n",
    "# jika sudah mencetak print(i) = 0, artinya indeks ke-1 menyimpan i = i + 1 >> i = 0 + 1 = 1"
   ]
  },
  {
   "cell_type": "markdown",
   "id": "200193ec-76b0-4e14-b21f-e4202369e6c6",
   "metadata": {},
   "source": [
    "##### Note that the print(\"done\") statement is not part of the while loop body because of the difference in indentation. #####"
   ]
  },
  {
   "cell_type": "markdown",
   "id": "df503b74-fe10-44fc-b0dc-ed7bed9ef5d1",
   "metadata": {},
   "source": [
    "### **Functions** ###"
   ]
  },
  {
   "cell_type": "markdown",
   "id": "df4dd64b-0fd8-4245-906f-9270973b86b3",
   "metadata": {},
   "source": [
    "##### A function in Python is defined using the keyword def, followed by a function name, a signature within parentheses (), and a colon : . The following code, with one additional level of indentation, is the function body #####"
   ]
  },
  {
   "cell_type": "code",
   "execution_count": 14,
   "id": "4540a362-ca7e-46f1-9c9d-237621989849",
   "metadata": {},
   "outputs": [],
   "source": [
    "def func0():\n",
    "    print(\"test\")   #anak\n",
    "    \n",
    "# func = functions\n",
    "# memanggil func0, maka hasilnya anak dari func0"
   ]
  },
  {
   "cell_type": "code",
   "execution_count": 2,
   "id": "dae38029-8a3d-4954-aab1-44faa7d26432",
   "metadata": {},
   "outputs": [
    {
     "name": "stdout",
     "output_type": "stream",
     "text": [
      "test\n"
     ]
    }
   ],
   "source": [
    "contoh dari yang di atas\n",
    "func0()"
   ]
  },
  {
   "cell_type": "markdown",
   "id": "b546bb13-93ce-4f2d-80c4-30093f11bebf",
   "metadata": {},
   "source": [
    "##### Optionally, but highly recommended, we can define a so called \"docstring\", which is a description of the functions purpose and behavior. The docstring should follow directly after the function definition, before the code in the function body. #####"
   ]
  },
  {
   "cell_type": "code",
   "execution_count": 15,
   "id": "2687ffa1-056b-42ad-8fbc-7f0ad64c248b",
   "metadata": {},
   "outputs": [],
   "source": [
    "def func1(s):\n",
    "    \"\"\" \n",
    "    print a string 's' and tell how many characters it has\n",
    "    \"\"\"\n",
    "    \n",
    "    print(s + \" has \" + str(len(s)) + \" characters \")\n",
    "    \n",
    "# len = jumlah panjang karakter huruf"
   ]
  },
  {
   "cell_type": "code",
   "execution_count": 4,
   "id": "41d1360f-765a-4cd6-af71-1b543ab70869",
   "metadata": {},
   "outputs": [
    {
     "name": "stdout",
     "output_type": "stream",
     "text": [
      "Help on function func1 in module __main__:\n",
      "\n",
      "func1(s)\n",
      "    print a string 's' and tell how many characters it has\n",
      "\n"
     ]
    }
   ],
   "source": [
    "help(func1)"
   ]
  },
  {
   "cell_type": "code",
   "execution_count": 10,
   "id": "080296ad-66bc-4700-8a67-312e8e064abd",
   "metadata": {},
   "outputs": [
    {
     "name": "stdout",
     "output_type": "stream",
     "text": [
      "test has 4 characters \n"
     ]
    }
   ],
   "source": [
    "func1(\"test\")\n",
    "\n",
    "# atau bisa juga\n",
    "# s = \"test\"\n",
    "# print(s + \" has \" + str(len(s)) + \" characters \")"
   ]
  },
  {
   "cell_type": "markdown",
   "id": "f88a0e15-440e-413b-89d8-1f2d837ea326",
   "metadata": {},
   "source": [
    "##### Functions that returns a value use the return keyword: #####"
   ]
  },
  {
   "cell_type": "code",
   "execution_count": 17,
   "id": "deda845f-3b9a-4d38-8958-be6177b249da",
   "metadata": {},
   "outputs": [],
   "source": [
    "def square(x):   #fungsi\n",
    "    \"\"\"\n",
    "    Return the square of x.\n",
    "    \"\"\"\n",
    "    return x ** 2   #nilai kembalian\n",
    "\n",
    "# ada 1 proses pemangkatan"
   ]
  },
  {
   "cell_type": "code",
   "execution_count": 18,
   "id": "9a678888-9a1e-4b48-91c9-83a47dad618c",
   "metadata": {},
   "outputs": [
    {
     "data": {
      "text/plain": [
       "16"
      ]
     },
     "execution_count": 18,
     "metadata": {},
     "output_type": "execute_result"
    }
   ],
   "source": [
    "square(4)\n",
    "#4^2"
   ]
  },
  {
   "cell_type": "markdown",
   "id": "d9687938-8056-4e8c-b7f0-0777b7f2c73e",
   "metadata": {},
   "source": [
    "##### We can return multiple values from a function using tuples (see above): #####"
   ]
  },
  {
   "cell_type": "code",
   "execution_count": 20,
   "id": "8f43c12c-ac3e-4c9e-9835-e78c20bc4fd3",
   "metadata": {},
   "outputs": [],
   "source": [
    "def powers(x):\n",
    "    \"\"\"\n",
    "    Return a few powers of x\n",
    "    \"\"\"\n",
    "    return x ** 2, x ** 3, x ** 4\n",
    "\n",
    "# ada 3 proses pemangkatan"
   ]
  },
  {
   "cell_type": "code",
   "execution_count": 21,
   "id": "b1cd3730-1c74-4d69-980c-34e16ce0dfc6",
   "metadata": {},
   "outputs": [
    {
     "data": {
      "text/plain": [
       "(9, 27, 81)"
      ]
     },
     "execution_count": 21,
     "metadata": {},
     "output_type": "execute_result"
    }
   ],
   "source": [
    "powers(3)\n",
    "\n",
    "# x = 3 >> 3^2, 3^3, 3^4"
   ]
  },
  {
   "cell_type": "code",
   "execution_count": 22,
   "id": "32851d59-6fc0-400c-8d2f-d6e32be1debd",
   "metadata": {},
   "outputs": [
    {
     "name": "stdout",
     "output_type": "stream",
     "text": [
      "27\n"
     ]
    }
   ],
   "source": [
    "x2, x3, x4 = powers(3)\n",
    "\n",
    "print(x3)"
   ]
  },
  {
   "cell_type": "markdown",
   "id": "cf3ca3dc-157c-4ca7-9246-41ce9156c845",
   "metadata": {},
   "source": [
    "### **Fadlila Agustina** ###"
   ]
  }
 ],
 "metadata": {
  "kernelspec": {
   "display_name": "Python 3 (ipykernel)",
   "language": "python",
   "name": "python3"
  },
  "language_info": {
   "codemirror_mode": {
    "name": "ipython",
    "version": 3
   },
   "file_extension": ".py",
   "mimetype": "text/x-python",
   "name": "python",
   "nbconvert_exporter": "python",
   "pygments_lexer": "ipython3",
   "version": "3.9.12"
  }
 },
 "nbformat": 4,
 "nbformat_minor": 5
}
