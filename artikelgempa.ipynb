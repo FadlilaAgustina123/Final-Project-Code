{
 "cells": [
  {
   "cell_type": "code",
   "execution_count": 1,
   "id": "97366d4e-be29-44e7-bbbc-0f9dfd6c8233",
   "metadata": {},
   "outputs": [
    {
     "ename": "SyntaxError",
     "evalue": "invalid syntax (<ipython-input-1-a3a3b7f80935>, line 1)",
     "output_type": "error",
     "traceback": [
      "\u001b[1;36m  File \u001b[1;32m\"<ipython-input-1-a3a3b7f80935>\"\u001b[1;36m, line \u001b[1;32m1\u001b[0m\n\u001b[1;33m    Gempa dengan magnitudo 5,2 mengguncang Kepulauan Talaud, Sulawesi Utara, pada hari Minggu, 8 Mei 2022, pukul 09.29.04 WIB.\u001b[0m\n\u001b[1;37m          ^\u001b[0m\n\u001b[1;31mSyntaxError\u001b[0m\u001b[1;31m:\u001b[0m invalid syntax\n"
     ]
    }
   ],
   "source": [
    "Gempa dengan magnitudo 5,2 mengguncang Kepulauan Talaud, Sulawesi Utara, pada hari Minggu, 8 Mei 2022, pukul 09.29.04 WIB.\n",
    "\n",
    "Setelah dilakukan analisis, Badan Meteorologi, Klimatologi dan Geofisika (BMKG) menunjukkan gempa bumi tektonik ini memiliki parameter update dengan magnitudo 5,3.\n",
    "\n",
    "Episenter gempa bumi terletak pada koordinat 3,63° Lintang Utara dan 127,01° Bujur Timur, atau tepatnya berlokasi di laut pada jarak 34 kilometer arah timur Damau, Kepulauan Talaud, Sulawesi Utara, pada kedalaman 10 kilometer.\n",
    "\n",
    "Menurut Kepala Pusat Gempa Bumi dan Tsunami BMKG, Bambang Setiyo Prayitno, dengan memperhatikan lokasi episenter dan kedalaman hiposenternya, gempa bumi yang terjadi merupakan jenis gempa bumi dangkal akibat adanya aktivitas sesar pada lempeng Laut Maluku.\n",
    "\n",
    "\n",
    "“Hasil analisis mekanisme sumber menunjukkan bahwa gempa bumi memiliki mekanisme pergerakan naik (thrust fault),” ujar Bambang dalam keterangannya, Minggu.\n",
    "\n",
    "Gempa bumi ini dirasakan di daerah Melonguane dengan skala intensitas III MMI. Getaran dirasakan nyata dalam rumah. Terasa getaran seakan-akan truk berlalu. Dari hasil pemodelan menunjukkan bahwa gempa bumi ini tidak berpotensi tsunami.\n",
    "\n",
    "Bambang mengajak warga agar tetap tenang dan tidak terpengaruh oleh isu yang tidak dapat dipertanggungjawabkan kebenarannya. Ia juga meminta menghindari bangunan yang retak atau rusak diakibatkan oleh gempa. "
   ]
  },
  {
   "cell_type": "code",
   "execution_count": null,
   "id": "f1de5bb8-f64f-4491-bda7-14fae30ff044",
   "metadata": {},
   "outputs": [],
   "source": []
  }
 ],
 "metadata": {
  "kernelspec": {
   "display_name": "Python 3",
   "language": "python",
   "name": "python3"
  },
  "language_info": {
   "codemirror_mode": {
    "name": "ipython",
    "version": 3
   },
   "file_extension": ".py",
   "mimetype": "text/x-python",
   "name": "python",
   "nbconvert_exporter": "python",
   "pygments_lexer": "ipython3",
   "version": "3.8.8"
  }
 },
 "nbformat": 4,
 "nbformat_minor": 5
}
