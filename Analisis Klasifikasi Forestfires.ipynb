{
 "cells": [
  {
   "cell_type": "markdown",
   "id": "4c7afeed",
   "metadata": {},
   "source": [
    "### Menampilkan Dataset "
   ]
  },
  {
   "cell_type": "code",
   "execution_count": 1476,
   "id": "12c80091",
   "metadata": {
    "tags": []
   },
   "outputs": [],
   "source": [
    "# mengimpor pandas sbg pd dan numpy sbg np yg digunakan dalam pengolahan data\n",
    "import pandas as pd\n",
    "import numpy as np"
   ]
  },
  {
   "cell_type": "code",
   "execution_count": 1477,
   "id": "0202e4bc",
   "metadata": {},
   "outputs": [
    {
     "data": {
      "text/html": [
       "<div>\n",
       "<style scoped>\n",
       "    .dataframe tbody tr th:only-of-type {\n",
       "        vertical-align: middle;\n",
       "    }\n",
       "\n",
       "    .dataframe tbody tr th {\n",
       "        vertical-align: top;\n",
       "    }\n",
       "\n",
       "    .dataframe thead th {\n",
       "        text-align: right;\n",
       "    }\n",
       "</style>\n",
       "<table border=\"1\" class=\"dataframe\">\n",
       "  <thead>\n",
       "    <tr style=\"text-align: right;\">\n",
       "      <th></th>\n",
       "      <th>X</th>\n",
       "      <th>Y</th>\n",
       "      <th>month</th>\n",
       "      <th>day</th>\n",
       "      <th>FFMC</th>\n",
       "      <th>DMC</th>\n",
       "      <th>DC</th>\n",
       "      <th>ISI</th>\n",
       "      <th>temp</th>\n",
       "      <th>RH</th>\n",
       "      <th>wind</th>\n",
       "      <th>rain</th>\n",
       "      <th>area</th>\n",
       "    </tr>\n",
       "  </thead>\n",
       "  <tbody>\n",
       "    <tr>\n",
       "      <th>0</th>\n",
       "      <td>7</td>\n",
       "      <td>5</td>\n",
       "      <td>mar</td>\n",
       "      <td>fri</td>\n",
       "      <td>86.2</td>\n",
       "      <td>26.2</td>\n",
       "      <td>94.3</td>\n",
       "      <td>5.1</td>\n",
       "      <td>8.2</td>\n",
       "      <td>51</td>\n",
       "      <td>6.7</td>\n",
       "      <td>0.0</td>\n",
       "      <td>0.00</td>\n",
       "    </tr>\n",
       "    <tr>\n",
       "      <th>1</th>\n",
       "      <td>7</td>\n",
       "      <td>4</td>\n",
       "      <td>oct</td>\n",
       "      <td>tue</td>\n",
       "      <td>90.6</td>\n",
       "      <td>35.4</td>\n",
       "      <td>669.1</td>\n",
       "      <td>6.7</td>\n",
       "      <td>18.0</td>\n",
       "      <td>33</td>\n",
       "      <td>0.9</td>\n",
       "      <td>0.0</td>\n",
       "      <td>0.00</td>\n",
       "    </tr>\n",
       "    <tr>\n",
       "      <th>2</th>\n",
       "      <td>7</td>\n",
       "      <td>4</td>\n",
       "      <td>oct</td>\n",
       "      <td>sat</td>\n",
       "      <td>90.6</td>\n",
       "      <td>43.7</td>\n",
       "      <td>686.9</td>\n",
       "      <td>6.7</td>\n",
       "      <td>14.6</td>\n",
       "      <td>33</td>\n",
       "      <td>1.3</td>\n",
       "      <td>0.0</td>\n",
       "      <td>0.00</td>\n",
       "    </tr>\n",
       "    <tr>\n",
       "      <th>3</th>\n",
       "      <td>8</td>\n",
       "      <td>6</td>\n",
       "      <td>mar</td>\n",
       "      <td>fri</td>\n",
       "      <td>91.7</td>\n",
       "      <td>33.3</td>\n",
       "      <td>77.5</td>\n",
       "      <td>9.0</td>\n",
       "      <td>8.3</td>\n",
       "      <td>97</td>\n",
       "      <td>4.0</td>\n",
       "      <td>0.2</td>\n",
       "      <td>0.00</td>\n",
       "    </tr>\n",
       "    <tr>\n",
       "      <th>4</th>\n",
       "      <td>8</td>\n",
       "      <td>6</td>\n",
       "      <td>mar</td>\n",
       "      <td>sun</td>\n",
       "      <td>89.3</td>\n",
       "      <td>51.3</td>\n",
       "      <td>102.2</td>\n",
       "      <td>9.6</td>\n",
       "      <td>11.4</td>\n",
       "      <td>99</td>\n",
       "      <td>1.8</td>\n",
       "      <td>0.0</td>\n",
       "      <td>0.00</td>\n",
       "    </tr>\n",
       "    <tr>\n",
       "      <th>...</th>\n",
       "      <td>...</td>\n",
       "      <td>...</td>\n",
       "      <td>...</td>\n",
       "      <td>...</td>\n",
       "      <td>...</td>\n",
       "      <td>...</td>\n",
       "      <td>...</td>\n",
       "      <td>...</td>\n",
       "      <td>...</td>\n",
       "      <td>...</td>\n",
       "      <td>...</td>\n",
       "      <td>...</td>\n",
       "      <td>...</td>\n",
       "    </tr>\n",
       "    <tr>\n",
       "      <th>512</th>\n",
       "      <td>4</td>\n",
       "      <td>3</td>\n",
       "      <td>aug</td>\n",
       "      <td>sun</td>\n",
       "      <td>81.6</td>\n",
       "      <td>56.7</td>\n",
       "      <td>665.6</td>\n",
       "      <td>1.9</td>\n",
       "      <td>27.8</td>\n",
       "      <td>32</td>\n",
       "      <td>2.7</td>\n",
       "      <td>0.0</td>\n",
       "      <td>6.44</td>\n",
       "    </tr>\n",
       "    <tr>\n",
       "      <th>513</th>\n",
       "      <td>2</td>\n",
       "      <td>4</td>\n",
       "      <td>aug</td>\n",
       "      <td>sun</td>\n",
       "      <td>81.6</td>\n",
       "      <td>56.7</td>\n",
       "      <td>665.6</td>\n",
       "      <td>1.9</td>\n",
       "      <td>21.9</td>\n",
       "      <td>71</td>\n",
       "      <td>5.8</td>\n",
       "      <td>0.0</td>\n",
       "      <td>54.29</td>\n",
       "    </tr>\n",
       "    <tr>\n",
       "      <th>514</th>\n",
       "      <td>7</td>\n",
       "      <td>4</td>\n",
       "      <td>aug</td>\n",
       "      <td>sun</td>\n",
       "      <td>81.6</td>\n",
       "      <td>56.7</td>\n",
       "      <td>665.6</td>\n",
       "      <td>1.9</td>\n",
       "      <td>21.2</td>\n",
       "      <td>70</td>\n",
       "      <td>6.7</td>\n",
       "      <td>0.0</td>\n",
       "      <td>11.16</td>\n",
       "    </tr>\n",
       "    <tr>\n",
       "      <th>515</th>\n",
       "      <td>1</td>\n",
       "      <td>4</td>\n",
       "      <td>aug</td>\n",
       "      <td>sat</td>\n",
       "      <td>94.4</td>\n",
       "      <td>146.0</td>\n",
       "      <td>614.7</td>\n",
       "      <td>11.3</td>\n",
       "      <td>25.6</td>\n",
       "      <td>42</td>\n",
       "      <td>4.0</td>\n",
       "      <td>0.0</td>\n",
       "      <td>0.00</td>\n",
       "    </tr>\n",
       "    <tr>\n",
       "      <th>516</th>\n",
       "      <td>6</td>\n",
       "      <td>3</td>\n",
       "      <td>nov</td>\n",
       "      <td>tue</td>\n",
       "      <td>79.5</td>\n",
       "      <td>3.0</td>\n",
       "      <td>106.7</td>\n",
       "      <td>1.1</td>\n",
       "      <td>11.8</td>\n",
       "      <td>31</td>\n",
       "      <td>4.5</td>\n",
       "      <td>0.0</td>\n",
       "      <td>0.00</td>\n",
       "    </tr>\n",
       "  </tbody>\n",
       "</table>\n",
       "<p>517 rows × 13 columns</p>\n",
       "</div>"
      ],
      "text/plain": [
       "     X  Y month  day  FFMC    DMC     DC   ISI  temp  RH  wind  rain   area\n",
       "0    7  5   mar  fri  86.2   26.2   94.3   5.1   8.2  51   6.7   0.0   0.00\n",
       "1    7  4   oct  tue  90.6   35.4  669.1   6.7  18.0  33   0.9   0.0   0.00\n",
       "2    7  4   oct  sat  90.6   43.7  686.9   6.7  14.6  33   1.3   0.0   0.00\n",
       "3    8  6   mar  fri  91.7   33.3   77.5   9.0   8.3  97   4.0   0.2   0.00\n",
       "4    8  6   mar  sun  89.3   51.3  102.2   9.6  11.4  99   1.8   0.0   0.00\n",
       "..  .. ..   ...  ...   ...    ...    ...   ...   ...  ..   ...   ...    ...\n",
       "512  4  3   aug  sun  81.6   56.7  665.6   1.9  27.8  32   2.7   0.0   6.44\n",
       "513  2  4   aug  sun  81.6   56.7  665.6   1.9  21.9  71   5.8   0.0  54.29\n",
       "514  7  4   aug  sun  81.6   56.7  665.6   1.9  21.2  70   6.7   0.0  11.16\n",
       "515  1  4   aug  sat  94.4  146.0  614.7  11.3  25.6  42   4.0   0.0   0.00\n",
       "516  6  3   nov  tue  79.5    3.0  106.7   1.1  11.8  31   4.5   0.0   0.00\n",
       "\n",
       "[517 rows x 13 columns]"
      ]
     },
     "execution_count": 1477,
     "metadata": {},
     "output_type": "execute_result"
    }
   ],
   "source": [
    "# fungsi pd.read_csv digunakan utk membaca file sbg objek DataFrame\n",
    "df = pd.read_csv('forestfires.csv')\n",
    "df"
   ]
  },
  {
   "cell_type": "code",
   "execution_count": 1478,
   "id": "1c5e15df",
   "metadata": {},
   "outputs": [
    {
     "data": {
      "text/html": [
       "<div>\n",
       "<style scoped>\n",
       "    .dataframe tbody tr th:only-of-type {\n",
       "        vertical-align: middle;\n",
       "    }\n",
       "\n",
       "    .dataframe tbody tr th {\n",
       "        vertical-align: top;\n",
       "    }\n",
       "\n",
       "    .dataframe thead th {\n",
       "        text-align: right;\n",
       "    }\n",
       "</style>\n",
       "<table border=\"1\" class=\"dataframe\">\n",
       "  <thead>\n",
       "    <tr style=\"text-align: right;\">\n",
       "      <th></th>\n",
       "      <th>X</th>\n",
       "      <th>Y</th>\n",
       "      <th>month</th>\n",
       "      <th>day</th>\n",
       "      <th>FFMC</th>\n",
       "      <th>DMC</th>\n",
       "      <th>DC</th>\n",
       "      <th>ISI</th>\n",
       "      <th>temp</th>\n",
       "      <th>RH</th>\n",
       "      <th>wind</th>\n",
       "      <th>rain</th>\n",
       "      <th>area</th>\n",
       "    </tr>\n",
       "  </thead>\n",
       "  <tbody>\n",
       "    <tr>\n",
       "      <th>0</th>\n",
       "      <td>7</td>\n",
       "      <td>5</td>\n",
       "      <td>mar</td>\n",
       "      <td>fri</td>\n",
       "      <td>86.2</td>\n",
       "      <td>26.2</td>\n",
       "      <td>94.3</td>\n",
       "      <td>5.1</td>\n",
       "      <td>8.2</td>\n",
       "      <td>51</td>\n",
       "      <td>6.7</td>\n",
       "      <td>0.0</td>\n",
       "      <td>0.0</td>\n",
       "    </tr>\n",
       "    <tr>\n",
       "      <th>1</th>\n",
       "      <td>7</td>\n",
       "      <td>4</td>\n",
       "      <td>oct</td>\n",
       "      <td>tue</td>\n",
       "      <td>90.6</td>\n",
       "      <td>35.4</td>\n",
       "      <td>669.1</td>\n",
       "      <td>6.7</td>\n",
       "      <td>18.0</td>\n",
       "      <td>33</td>\n",
       "      <td>0.9</td>\n",
       "      <td>0.0</td>\n",
       "      <td>0.0</td>\n",
       "    </tr>\n",
       "    <tr>\n",
       "      <th>2</th>\n",
       "      <td>7</td>\n",
       "      <td>4</td>\n",
       "      <td>oct</td>\n",
       "      <td>sat</td>\n",
       "      <td>90.6</td>\n",
       "      <td>43.7</td>\n",
       "      <td>686.9</td>\n",
       "      <td>6.7</td>\n",
       "      <td>14.6</td>\n",
       "      <td>33</td>\n",
       "      <td>1.3</td>\n",
       "      <td>0.0</td>\n",
       "      <td>0.0</td>\n",
       "    </tr>\n",
       "    <tr>\n",
       "      <th>3</th>\n",
       "      <td>8</td>\n",
       "      <td>6</td>\n",
       "      <td>mar</td>\n",
       "      <td>fri</td>\n",
       "      <td>91.7</td>\n",
       "      <td>33.3</td>\n",
       "      <td>77.5</td>\n",
       "      <td>9.0</td>\n",
       "      <td>8.3</td>\n",
       "      <td>97</td>\n",
       "      <td>4.0</td>\n",
       "      <td>0.2</td>\n",
       "      <td>0.0</td>\n",
       "    </tr>\n",
       "    <tr>\n",
       "      <th>4</th>\n",
       "      <td>8</td>\n",
       "      <td>6</td>\n",
       "      <td>mar</td>\n",
       "      <td>sun</td>\n",
       "      <td>89.3</td>\n",
       "      <td>51.3</td>\n",
       "      <td>102.2</td>\n",
       "      <td>9.6</td>\n",
       "      <td>11.4</td>\n",
       "      <td>99</td>\n",
       "      <td>1.8</td>\n",
       "      <td>0.0</td>\n",
       "      <td>0.0</td>\n",
       "    </tr>\n",
       "  </tbody>\n",
       "</table>\n",
       "</div>"
      ],
      "text/plain": [
       "   X  Y month  day  FFMC   DMC     DC  ISI  temp  RH  wind  rain  area\n",
       "0  7  5   mar  fri  86.2  26.2   94.3  5.1   8.2  51   6.7   0.0   0.0\n",
       "1  7  4   oct  tue  90.6  35.4  669.1  6.7  18.0  33   0.9   0.0   0.0\n",
       "2  7  4   oct  sat  90.6  43.7  686.9  6.7  14.6  33   1.3   0.0   0.0\n",
       "3  8  6   mar  fri  91.7  33.3   77.5  9.0   8.3  97   4.0   0.2   0.0\n",
       "4  8  6   mar  sun  89.3  51.3  102.2  9.6  11.4  99   1.8   0.0   0.0"
      ]
     },
     "execution_count": 1478,
     "metadata": {},
     "output_type": "execute_result"
    }
   ],
   "source": [
    "# fungsi yg digunakan utk menampilkan 5 baris utama dari DataFrame\n",
    "df.head()"
   ]
  },
  {
   "cell_type": "markdown",
   "id": "cec92692",
   "metadata": {},
   "source": [
    "### Tahapan Pre-Processing Data"
   ]
  },
  {
   "cell_type": "code",
   "execution_count": 1479,
   "id": "89f91f34",
   "metadata": {},
   "outputs": [
    {
     "data": {
      "text/plain": [
       "(517, 13)"
      ]
     },
     "execution_count": 1479,
     "metadata": {},
     "output_type": "execute_result"
    }
   ],
   "source": [
    "# fungsi yg digunakan utk menampilkan dimensi dr DataFrame dan akan menunjukkan jumlah baris dan kolom dr DataFrame\n",
    "np.shape(df)"
   ]
  },
  {
   "cell_type": "code",
   "execution_count": 1480,
   "id": "429c51f8",
   "metadata": {},
   "outputs": [
    {
     "data": {
      "text/plain": [
       "X          int64\n",
       "Y          int64\n",
       "month     object\n",
       "day       object\n",
       "FFMC     float64\n",
       "DMC      float64\n",
       "DC       float64\n",
       "ISI      float64\n",
       "temp     float64\n",
       "RH         int64\n",
       "wind     float64\n",
       "rain     float64\n",
       "area     float64\n",
       "dtype: object"
      ]
     },
     "execution_count": 1480,
     "metadata": {},
     "output_type": "execute_result"
    }
   ],
   "source": [
    "# fungsi yg digunakan utk menampilkan tipe data dr setiap kolom\n",
    "df.dtypes"
   ]
  },
  {
   "cell_type": "code",
   "execution_count": 1481,
   "id": "92b825c7",
   "metadata": {},
   "outputs": [
    {
     "name": "stdout",
     "output_type": "stream",
     "text": [
      "Dataframe sebelum dihapus kolom:\n",
      "      X  Y month  day  FFMC    DMC     DC   ISI  temp  RH  wind  rain   area\n",
      "0    7  5   mar  fri  86.2   26.2   94.3   5.1   8.2  51   6.7   0.0   0.00\n",
      "1    7  4   oct  tue  90.6   35.4  669.1   6.7  18.0  33   0.9   0.0   0.00\n",
      "2    7  4   oct  sat  90.6   43.7  686.9   6.7  14.6  33   1.3   0.0   0.00\n",
      "3    8  6   mar  fri  91.7   33.3   77.5   9.0   8.3  97   4.0   0.2   0.00\n",
      "4    8  6   mar  sun  89.3   51.3  102.2   9.6  11.4  99   1.8   0.0   0.00\n",
      "..  .. ..   ...  ...   ...    ...    ...   ...   ...  ..   ...   ...    ...\n",
      "512  4  3   aug  sun  81.6   56.7  665.6   1.9  27.8  32   2.7   0.0   6.44\n",
      "513  2  4   aug  sun  81.6   56.7  665.6   1.9  21.9  71   5.8   0.0  54.29\n",
      "514  7  4   aug  sun  81.6   56.7  665.6   1.9  21.2  70   6.7   0.0  11.16\n",
      "515  1  4   aug  sat  94.4  146.0  614.7  11.3  25.6  42   4.0   0.0   0.00\n",
      "516  6  3   nov  tue  79.5    3.0  106.7   1.1  11.8  31   4.5   0.0   0.00\n",
      "\n",
      "[517 rows x 13 columns]\n",
      "Dataframe setelah dihapus kolom:\n",
      "      X  Y  FFMC    DMC     DC   ISI  temp  RH  wind  rain   area\n",
      "0    7  5  86.2   26.2   94.3   5.1   8.2  51   6.7   0.0   0.00\n",
      "1    7  4  90.6   35.4  669.1   6.7  18.0  33   0.9   0.0   0.00\n",
      "2    7  4  90.6   43.7  686.9   6.7  14.6  33   1.3   0.0   0.00\n",
      "3    8  6  91.7   33.3   77.5   9.0   8.3  97   4.0   0.2   0.00\n",
      "4    8  6  89.3   51.3  102.2   9.6  11.4  99   1.8   0.0   0.00\n",
      "..  .. ..   ...    ...    ...   ...   ...  ..   ...   ...    ...\n",
      "512  4  3  81.6   56.7  665.6   1.9  27.8  32   2.7   0.0   6.44\n",
      "513  2  4  81.6   56.7  665.6   1.9  21.9  71   5.8   0.0  54.29\n",
      "514  7  4  81.6   56.7  665.6   1.9  21.2  70   6.7   0.0  11.16\n",
      "515  1  4  94.4  146.0  614.7  11.3  25.6  42   4.0   0.0   0.00\n",
      "516  6  3  79.5    3.0  106.7   1.1  11.8  31   4.5   0.0   0.00\n",
      "\n",
      "[517 rows x 11 columns]\n"
     ]
    }
   ],
   "source": [
    "# menampilkan dataframe sebelum dihapus kolom\n",
    "print(\"Dataframe sebelum dihapus kolom:\\n\", df)\n",
    "\n",
    "# menghapus kolom yang tidak digunakan, yaitu 'month' dan 'day' dari dataframe\n",
    "df = df.drop(['month', 'day'], axis=1)\n",
    "\n",
    "# menampilkan dataframe setelah dihapus kolom\n",
    "print(\"Dataframe setelah dihapus kolom:\\n\", df)"
   ]
  },
  {
   "cell_type": "code",
   "execution_count": 1482,
   "id": "b17371fc",
   "metadata": {},
   "outputs": [
    {
     "data": {
      "text/html": [
       "<div>\n",
       "<style scoped>\n",
       "    .dataframe tbody tr th:only-of-type {\n",
       "        vertical-align: middle;\n",
       "    }\n",
       "\n",
       "    .dataframe tbody tr th {\n",
       "        vertical-align: top;\n",
       "    }\n",
       "\n",
       "    .dataframe thead th {\n",
       "        text-align: right;\n",
       "    }\n",
       "</style>\n",
       "<table border=\"1\" class=\"dataframe\">\n",
       "  <thead>\n",
       "    <tr style=\"text-align: right;\">\n",
       "      <th></th>\n",
       "      <th>X</th>\n",
       "      <th>Y</th>\n",
       "      <th>FFMC</th>\n",
       "      <th>DMC</th>\n",
       "      <th>DC</th>\n",
       "      <th>ISI</th>\n",
       "      <th>temp</th>\n",
       "      <th>RH</th>\n",
       "      <th>wind</th>\n",
       "      <th>rain</th>\n",
       "      <th>area</th>\n",
       "    </tr>\n",
       "  </thead>\n",
       "  <tbody>\n",
       "    <tr>\n",
       "      <th>count</th>\n",
       "      <td>517.000000</td>\n",
       "      <td>517.000000</td>\n",
       "      <td>517.000000</td>\n",
       "      <td>517.000000</td>\n",
       "      <td>517.000000</td>\n",
       "      <td>517.000000</td>\n",
       "      <td>517.000000</td>\n",
       "      <td>517.000000</td>\n",
       "      <td>517.000000</td>\n",
       "      <td>517.000000</td>\n",
       "      <td>517.000000</td>\n",
       "    </tr>\n",
       "    <tr>\n",
       "      <th>mean</th>\n",
       "      <td>4.669246</td>\n",
       "      <td>4.299807</td>\n",
       "      <td>90.644681</td>\n",
       "      <td>110.872340</td>\n",
       "      <td>547.940039</td>\n",
       "      <td>9.021663</td>\n",
       "      <td>18.889168</td>\n",
       "      <td>44.288201</td>\n",
       "      <td>4.017602</td>\n",
       "      <td>0.021663</td>\n",
       "      <td>12.847292</td>\n",
       "    </tr>\n",
       "    <tr>\n",
       "      <th>std</th>\n",
       "      <td>2.313778</td>\n",
       "      <td>1.229900</td>\n",
       "      <td>5.520111</td>\n",
       "      <td>64.046482</td>\n",
       "      <td>248.066192</td>\n",
       "      <td>4.559477</td>\n",
       "      <td>5.806625</td>\n",
       "      <td>16.317469</td>\n",
       "      <td>1.791653</td>\n",
       "      <td>0.295959</td>\n",
       "      <td>63.655818</td>\n",
       "    </tr>\n",
       "    <tr>\n",
       "      <th>min</th>\n",
       "      <td>1.000000</td>\n",
       "      <td>2.000000</td>\n",
       "      <td>18.700000</td>\n",
       "      <td>1.100000</td>\n",
       "      <td>7.900000</td>\n",
       "      <td>0.000000</td>\n",
       "      <td>2.200000</td>\n",
       "      <td>15.000000</td>\n",
       "      <td>0.400000</td>\n",
       "      <td>0.000000</td>\n",
       "      <td>0.000000</td>\n",
       "    </tr>\n",
       "    <tr>\n",
       "      <th>25%</th>\n",
       "      <td>3.000000</td>\n",
       "      <td>4.000000</td>\n",
       "      <td>90.200000</td>\n",
       "      <td>68.600000</td>\n",
       "      <td>437.700000</td>\n",
       "      <td>6.500000</td>\n",
       "      <td>15.500000</td>\n",
       "      <td>33.000000</td>\n",
       "      <td>2.700000</td>\n",
       "      <td>0.000000</td>\n",
       "      <td>0.000000</td>\n",
       "    </tr>\n",
       "    <tr>\n",
       "      <th>50%</th>\n",
       "      <td>4.000000</td>\n",
       "      <td>4.000000</td>\n",
       "      <td>91.600000</td>\n",
       "      <td>108.300000</td>\n",
       "      <td>664.200000</td>\n",
       "      <td>8.400000</td>\n",
       "      <td>19.300000</td>\n",
       "      <td>42.000000</td>\n",
       "      <td>4.000000</td>\n",
       "      <td>0.000000</td>\n",
       "      <td>0.520000</td>\n",
       "    </tr>\n",
       "    <tr>\n",
       "      <th>75%</th>\n",
       "      <td>7.000000</td>\n",
       "      <td>5.000000</td>\n",
       "      <td>92.900000</td>\n",
       "      <td>142.400000</td>\n",
       "      <td>713.900000</td>\n",
       "      <td>10.800000</td>\n",
       "      <td>22.800000</td>\n",
       "      <td>53.000000</td>\n",
       "      <td>4.900000</td>\n",
       "      <td>0.000000</td>\n",
       "      <td>6.570000</td>\n",
       "    </tr>\n",
       "    <tr>\n",
       "      <th>max</th>\n",
       "      <td>9.000000</td>\n",
       "      <td>9.000000</td>\n",
       "      <td>96.200000</td>\n",
       "      <td>291.300000</td>\n",
       "      <td>860.600000</td>\n",
       "      <td>56.100000</td>\n",
       "      <td>33.300000</td>\n",
       "      <td>100.000000</td>\n",
       "      <td>9.400000</td>\n",
       "      <td>6.400000</td>\n",
       "      <td>1090.840000</td>\n",
       "    </tr>\n",
       "  </tbody>\n",
       "</table>\n",
       "</div>"
      ],
      "text/plain": [
       "                X           Y        FFMC         DMC          DC         ISI  \\\n",
       "count  517.000000  517.000000  517.000000  517.000000  517.000000  517.000000   \n",
       "mean     4.669246    4.299807   90.644681  110.872340  547.940039    9.021663   \n",
       "std      2.313778    1.229900    5.520111   64.046482  248.066192    4.559477   \n",
       "min      1.000000    2.000000   18.700000    1.100000    7.900000    0.000000   \n",
       "25%      3.000000    4.000000   90.200000   68.600000  437.700000    6.500000   \n",
       "50%      4.000000    4.000000   91.600000  108.300000  664.200000    8.400000   \n",
       "75%      7.000000    5.000000   92.900000  142.400000  713.900000   10.800000   \n",
       "max      9.000000    9.000000   96.200000  291.300000  860.600000   56.100000   \n",
       "\n",
       "             temp          RH        wind        rain         area  \n",
       "count  517.000000  517.000000  517.000000  517.000000   517.000000  \n",
       "mean    18.889168   44.288201    4.017602    0.021663    12.847292  \n",
       "std      5.806625   16.317469    1.791653    0.295959    63.655818  \n",
       "min      2.200000   15.000000    0.400000    0.000000     0.000000  \n",
       "25%     15.500000   33.000000    2.700000    0.000000     0.000000  \n",
       "50%     19.300000   42.000000    4.000000    0.000000     0.520000  \n",
       "75%     22.800000   53.000000    4.900000    0.000000     6.570000  \n",
       "max     33.300000  100.000000    9.400000    6.400000  1090.840000  "
      ]
     },
     "execution_count": 1482,
     "metadata": {},
     "output_type": "execute_result"
    }
   ],
   "source": [
    "# fungsi yg digunakan utk menampilkan ringkasan statistik deskriptif dr setiap kolom\n",
    "df.describe()"
   ]
  },
  {
   "cell_type": "code",
   "execution_count": 1483,
   "id": "13d27eb6",
   "metadata": {},
   "outputs": [
    {
     "data": {
      "text/plain": [
       "27    33\n",
       "39    24\n",
       "35    20\n",
       "43    17\n",
       "42    17\n",
       "      ..\n",
       "96     1\n",
       "97     1\n",
       "99     1\n",
       "18     1\n",
       "69     1\n",
       "Name: RH, Length: 75, dtype: int64"
      ]
     },
     "execution_count": 1483,
     "metadata": {},
     "output_type": "execute_result"
    }
   ],
   "source": [
    "# fungsi yg digunakan utk menghitung jumlah data pada setiap kategori pada kolom RH karena sudah diubah menjadi tipe data kategori\n",
    "df['RH'].value_counts()"
   ]
  },
  {
   "cell_type": "code",
   "execution_count": 1484,
   "id": "71032ad6",
   "metadata": {},
   "outputs": [
    {
     "data": {
      "text/plain": [
       "X       False\n",
       "Y       False\n",
       "FFMC    False\n",
       "DMC     False\n",
       "DC      False\n",
       "ISI     False\n",
       "temp    False\n",
       "RH      False\n",
       "wind    False\n",
       "rain    False\n",
       "area    False\n",
       "dtype: bool"
      ]
     },
     "execution_count": 1484,
     "metadata": {},
     "output_type": "execute_result"
    }
   ],
   "source": [
    "# fungsi yg digunakan utk mengecek apakah terdapat nilai kosong (missing value) pada tiap kolom\n",
    "# jika True, maka kolom tsb mengandung setidaknya satu nilai kosong\n",
    "# jika False, maka kolom tsb tdk mengandung nilai kosong\n",
    "df.isnull().any()"
   ]
  },
  {
   "cell_type": "markdown",
   "id": "53a5b4b3",
   "metadata": {},
   "source": [
    "##### *Mendeteksi Outlier*"
   ]
  },
  {
   "cell_type": "code",
   "execution_count": 1485,
   "id": "80b4edcb",
   "metadata": {},
   "outputs": [
    {
     "name": "stdout",
     "output_type": "stream",
     "text": [
      "X        0\n",
      "Y       51\n",
      "FFMC    53\n",
      "DMC     17\n",
      "DC       8\n",
      "ISI     23\n",
      "temp     2\n",
      "RH      12\n",
      "wind    13\n",
      "rain     8\n",
      "area    63\n",
      "dtype: int64\n"
     ]
    }
   ],
   "source": [
    "import pandas as pd\n",
    "\n",
    "# menghitung nilai Q1, Q3, dan IQR pada semua kolom numerik\n",
    "Q1 = df.quantile(0.25)\n",
    "Q3 = df.quantile(0.75)\n",
    "IQR = Q3 - Q1\n",
    "\n",
    "# menghitung jumlah outlier pada setiap kolom numerik\n",
    "outliers = ((df < (Q1 - 1.5 * IQR)) | (df > (Q3 + 1.5 * IQR))).sum()\n",
    "\n",
    "# menampilkan jumlah outlier pada setiap kolom\n",
    "print(outliers)"
   ]
  },
  {
   "cell_type": "markdown",
   "id": "728cfe28",
   "metadata": {},
   "source": [
    "##### *Mengatasi Outlier*"
   ]
  },
  {
   "cell_type": "markdown",
   "id": "4be47b08",
   "metadata": {},
   "source": [
    "##### **area**"
   ]
  },
  {
   "cell_type": "code",
   "execution_count": 1486,
   "id": "e4b077d8",
   "metadata": {},
   "outputs": [
    {
     "data": {
      "text/plain": [
       "<AxesSubplot:>"
      ]
     },
     "execution_count": 1486,
     "metadata": {},
     "output_type": "execute_result"
    },
    {
     "data": {
      "image/png": "[encoded data removed]",
      "text/plain": [
       "<Figure size 432x288 with 1 Axes>"
      ]
     },
     "metadata": {
      "needs_background": "light"
     },
     "output_type": "display_data"
    }
   ],
   "source": [
    "# Transformasi data Square root pada variabel area\n",
    "df['area'] = np.sqrt(df['area'])\n",
    "\n",
    "# Cek distribusi data setelah transformasi\n",
    "df['area'].hist()"
   ]
  },
  {
   "cell_type": "code",
   "execution_count": 1487,
   "id": "5eaf2cb0",
   "metadata": {},
   "outputs": [
    {
     "name": "stdout",
     "output_type": "stream",
     "text": [
      "X        0\n",
      "Y       51\n",
      "FFMC    53\n",
      "DMC     17\n",
      "DC       8\n",
      "ISI     23\n",
      "temp     2\n",
      "RH      12\n",
      "wind    13\n",
      "rain     8\n",
      "area    30\n",
      "dtype: int64\n"
     ]
    }
   ],
   "source": [
    "import pandas as pd\n",
    "\n",
    "# menghitung nilai Q1, Q3, dan IQR pada semua kolom numerik\n",
    "Q1 = df.quantile(0.25)\n",
    "Q3 = df.quantile(0.75)\n",
    "IQR = Q3 - Q1\n",
    "\n",
    "# menghitung jumlah outlier pada setiap kolom numerik\n",
    "outliers = ((df < (Q1 - 1.5 * IQR)) | (df > (Q3 + 1.5 * IQR))).sum()\n",
    "\n",
    "# menampilkan jumlah outlier pada setiap kolom\n",
    "print(outliers)"
   ]
  },
  {
   "cell_type": "markdown",
   "id": "11be2c44",
   "metadata": {},
   "source": [
    "##### **Y**"
   ]
  },
  {
   "cell_type": "code",
   "execution_count": 1488,
   "id": "2397b6f0",
   "metadata": {},
   "outputs": [],
   "source": [
    "from scipy.stats import median_abs_deviation\n",
    "\n",
    "# hitung median dan MAD pada variabel 'Y'\n",
    "median = df['Y'].median()\n",
    "mad = median_abs_deviation(df['Y'])\n",
    "\n",
    "# definisikan batas outlier\n",
    "lower_bound = median - (2 * mad)\n",
    "upper_bound = median + (2 * mad)\n",
    "\n",
    "# identifikasi nilai-nilai outlier\n",
    "outliers = (df['Y'] < lower_bound) | (df['Y'] > upper_bound)\n",
    "\n",
    "# ganti nilai-nilai outlier dengan nilai batas outlier\n",
    "df.loc[outliers, 'Y'] = upper_bound"
   ]
  },
  {
   "cell_type": "code",
   "execution_count": 1489,
   "id": "0256f7a9",
   "metadata": {},
   "outputs": [
    {
     "name": "stdout",
     "output_type": "stream",
     "text": [
      "X        0\n",
      "Y       44\n",
      "FFMC    53\n",
      "DMC     17\n",
      "DC       8\n",
      "ISI     23\n",
      "temp     2\n",
      "RH      12\n",
      "wind    13\n",
      "rain     8\n",
      "area    30\n",
      "dtype: int64\n"
     ]
    }
   ],
   "source": [
    "import pandas as pd\n",
    "\n",
    "# menghitung nilai Q1, Q3, dan IQR pada semua kolom numerik\n",
    "Q1 = df.quantile(0.25)\n",
    "Q3 = df.quantile(0.75)\n",
    "IQR = Q3 - Q1\n",
    "\n",
    "# menghitung jumlah outlier pada setiap kolom numerik\n",
    "outliers = ((df < (Q1 - 1.5 * IQR)) | (df > (Q3 + 1.5 * IQR))).sum()\n",
    "\n",
    "# menampilkan jumlah outlier pada setiap kolom\n",
    "print(outliers)"
   ]
  },
  {
   "cell_type": "markdown",
   "id": "960a7691",
   "metadata": {},
   "source": [
    "##### **FFMC**"
   ]
  },
  {
   "cell_type": "code",
   "execution_count": 1490,
   "id": "768e85f9",
   "metadata": {},
   "outputs": [],
   "source": [
    "from scipy.stats import median_abs_deviation\n",
    "\n",
    "# hitung median dan MAD pada variabel 'FFMC'\n",
    "median = df['FFMC'].median()\n",
    "mad = median_abs_deviation(df['FFMC'], scale='normal')\n",
    "\n",
    "# definisikan batas outlier\n",
    "lower_bound = median - (2 * mad)\n",
    "upper_bound = median + (2 * mad)\n",
    "\n",
    "# identifikasi nilai-nilai outlier\n",
    "outliers = (df['FFMC'] < lower_bound) | (df['FFMC'] > upper_bound)\n",
    "\n",
    "# ganti nilai-nilai outlier dengan nilai batas outlier\n",
    "df.loc[outliers, 'FFMC'] = upper_bound"
   ]
  },
  {
   "cell_type": "code",
   "execution_count": 1491,
   "id": "30600535",
   "metadata": {},
   "outputs": [
    {
     "name": "stdout",
     "output_type": "stream",
     "text": [
      "X        0\n",
      "Y       44\n",
      "FFMC     0\n",
      "DMC     17\n",
      "DC       8\n",
      "ISI     23\n",
      "temp     2\n",
      "RH      12\n",
      "wind    13\n",
      "rain     8\n",
      "area    30\n",
      "dtype: int64\n"
     ]
    }
   ],
   "source": [
    "import pandas as pd\n",
    "\n",
    "# menghitung nilai Q1, Q3, dan IQR pada semua kolom numerik\n",
    "Q1 = df.quantile(0.25)\n",
    "Q3 = df.quantile(0.75)\n",
    "IQR = Q3 - Q1\n",
    "\n",
    "# menghitung jumlah outlier pada setiap kolom numerik\n",
    "outliers = ((df < (Q1 - 1.5 * IQR)) | (df > (Q3 + 1.5 * IQR))).sum()\n",
    "\n",
    "# menampilkan jumlah outlier pada setiap kolom\n",
    "print(outliers)"
   ]
  },
  {
   "cell_type": "markdown",
   "id": "e30344ed",
   "metadata": {},
   "source": [
    "##### **DMC**"
   ]
  },
  {
   "cell_type": "code",
   "execution_count": 1492,
   "id": "3bc866ff",
   "metadata": {},
   "outputs": [],
   "source": [
    "# menghitung nilai Q1, Q3, dan IQR pada kolom DMC\n",
    "Q1 = df['DMC'].quantile(0.25)\n",
    "Q3 = df['DMC'].quantile(0.75)\n",
    "IQR = Q3 - Q1\n",
    "\n",
    "# mengganti nilai outlier dengan nilai rata-rata kolom DMC\n",
    "df.loc[df['DMC'] < (Q1 - 1.5 * IQR), 'DMC'] = df['DMC'].mean()\n",
    "df.loc[df['DMC'] > (Q3 + 1.5 * IQR), 'DMC'] = df['DMC'].mean()"
   ]
  },
  {
   "cell_type": "code",
   "execution_count": 1493,
   "id": "aa6acfe2",
   "metadata": {},
   "outputs": [
    {
     "name": "stdout",
     "output_type": "stream",
     "text": [
      "Jumlah outlier pada kolom DMC:  5\n"
     ]
    }
   ],
   "source": [
    "# menghitung nilai Q1, Q3, dan IQR pada kolom DMC\n",
    "Q1 = df['DMC'].quantile(0.25)\n",
    "Q3 = df['DMC'].quantile(0.75)\n",
    "IQR = Q3 - Q1\n",
    "\n",
    "# menghitung jumlah outlier pada kolom DMC\n",
    "outliers = ((df['DMC'] < (Q1 - 1.5 * IQR)) | (df['DMC'] > (Q3 + 1.5 * IQR))).sum()\n",
    "\n",
    "# menampilkan jumlah outlier pada kolom DMC\n",
    "print(\"Jumlah outlier pada kolom DMC: \", outliers)"
   ]
  },
  {
   "cell_type": "code",
   "execution_count": 1494,
   "id": "eba68317",
   "metadata": {},
   "outputs": [
    {
     "name": "stdout",
     "output_type": "stream",
     "text": [
      "X        0\n",
      "Y       44\n",
      "FFMC     0\n",
      "DMC      5\n",
      "DC       8\n",
      "ISI     23\n",
      "temp     2\n",
      "RH      12\n",
      "wind    13\n",
      "rain     8\n",
      "area    30\n",
      "dtype: int64\n"
     ]
    }
   ],
   "source": [
    "import pandas as pd\n",
    "\n",
    "# menghitung nilai Q1, Q3, dan IQR pada semua kolom numerik\n",
    "Q1 = df.quantile(0.25)\n",
    "Q3 = df.quantile(0.75)\n",
    "IQR = Q3 - Q1\n",
    "\n",
    "# menghitung jumlah outlier pada setiap kolom numerik\n",
    "outliers = ((df < (Q1 - 1.5 * IQR)) | (df > (Q3 + 1.5 * IQR))).sum()\n",
    "\n",
    "# menampilkan jumlah outlier pada setiap kolom setelah diatasi\n",
    "print(outliers)"
   ]
  },
  {
   "cell_type": "markdown",
   "id": "3ac7ba60",
   "metadata": {},
   "source": [
    "##### **rain**"
   ]
  },
  {
   "cell_type": "code",
   "execution_count": 1495,
   "id": "cb03b874",
   "metadata": {},
   "outputs": [
    {
     "data": {
      "image/png": "[encoded data removed]",
      "text/plain": [
       "<Figure size 864x432 with 2 Axes>"
      ]
     },
     "metadata": {
      "needs_background": "light"
     },
     "output_type": "display_data"
    }
   ],
   "source": [
    "# hitung nilai median\n",
    "median_rain = df['rain'].median()\n",
    "\n",
    "# ganti outlier dengan nilai median\n",
    "df.loc[df['rain'] > 0.5, 'rain'] = median_rain\n",
    "\n",
    "# tampilkan grafik sebelum dan sesudah penggantian outlier\n",
    "import matplotlib.pyplot as plt\n",
    "\n",
    "plt.figure(figsize=(12,6))\n",
    "plt.subplot(1, 2, 1)\n",
    "plt.boxplot(df['rain'])\n",
    "plt.title('Sebelum Penggantian Outlier')\n",
    "\n",
    "plt.subplot(1, 2, 2)\n",
    "plt.boxplot(df['rain'])\n",
    "plt.title('Sesudah Penggantian Outlier')\n",
    "\n",
    "plt.show()"
   ]
  },
  {
   "cell_type": "code",
   "execution_count": 1496,
   "id": "fac89bc2",
   "metadata": {},
   "outputs": [
    {
     "name": "stdout",
     "output_type": "stream",
     "text": [
      "Jumlah outlier: 3\n"
     ]
    }
   ],
   "source": [
    "# hitung Q1, Q3, dan IQR\n",
    "Q1 = df['rain'].quantile(0.25)\n",
    "Q3 = df['rain'].quantile(0.75)\n",
    "IQR = Q3 - Q1\n",
    "\n",
    "# cari outlier\n",
    "outliers = df[(df['rain'] < (Q1 - 1.5 * IQR)) | (df['rain'] > (Q3 + 1.5 * IQR))]\n",
    "\n",
    "# hitung jumlah outlier\n",
    "n_outliers = len(outliers)\n",
    "\n",
    "# tampilkan jumlah outlier\n",
    "print('Jumlah outlier:', n_outliers)"
   ]
  },
  {
   "cell_type": "code",
   "execution_count": 1497,
   "id": "aee1aee1",
   "metadata": {},
   "outputs": [
    {
     "name": "stdout",
     "output_type": "stream",
     "text": [
      "X        0\n",
      "Y       44\n",
      "FFMC     0\n",
      "DMC      5\n",
      "DC       8\n",
      "ISI     23\n",
      "temp     2\n",
      "RH      12\n",
      "wind    13\n",
      "rain     3\n",
      "area    30\n",
      "dtype: int64\n"
     ]
    }
   ],
   "source": [
    "import pandas as pd\n",
    "\n",
    "# menghitung nilai Q1, Q3, dan IQR pada semua kolom numerik\n",
    "Q1 = df.quantile(0.25)\n",
    "Q3 = df.quantile(0.75)\n",
    "IQR = Q3 - Q1\n",
    "\n",
    "# menghitung jumlah outlier pada setiap kolom numerik\n",
    "outliers = ((df < (Q1 - 1.5 * IQR)) | (df > (Q3 + 1.5 * IQR))).sum()\n",
    "\n",
    "# menampilkan jumlah outlier pada setiap kolom setelah diatasi\n",
    "print(outliers)"
   ]
  },
  {
   "cell_type": "markdown",
   "id": "87117b3b",
   "metadata": {},
   "source": [
    "Jadi, kesimpulan yang didapatkan berdasarkan hasil outlier di atas adalah berhasil mengurangi outlier pada kolom Y, FFMC, DMC, rain, dan area karena pada kolom DC, ISI, temp, RH, dan wind jika diatasi dengan mengubahnya menjadi nilai mean, median, dan juga transformasi data hasilnya malah semakin besar dan tetap. Maka dari itu, tidak semua kolom dapat diatasi outliernya karena sangat berpengaruh terhadap hasil analisis selanjutnya."
   ]
  },
  {
   "cell_type": "markdown",
   "id": "a7ca59fd",
   "metadata": {},
   "source": [
    "### Pemodelan Data dengan Regresi"
   ]
  },
  {
   "cell_type": "code",
   "execution_count": 1498,
   "id": "8c9f29c1",
   "metadata": {},
   "outputs": [],
   "source": [
    "# mengimport modul preprocessing dr library scikit-learn\n",
    "# preprocessing adalah modul yg berisi berbagai macam fungsi utk melakukan preprocessing pada data\n",
    "from sklearn import preprocessing\n",
    "# membuat objek MinMaxScaler() dr kelas preprocessing.MinMaxScaler() yg digunakan utk melakukan transformasi data dgn metode scaling minimum-maximum\n",
    "transformasi_min_max = preprocessing.MinMaxScaler()"
   ]
  },
  {
   "cell_type": "code",
   "execution_count": 1499,
   "id": "e95f3aa4",
   "metadata": {},
   "outputs": [],
   "source": [
    "# menginisialisasikan var target dgn nilai string area dan digunakan utk menyimpan nama kolom yg menjadi target atau var dependen dlm dataset\n",
    "target = 'area'\n",
    "# menghapus kolom area menggunakan metode drop\n",
    "# axis = 1 digunakan utk menandakan bahwa penghapusan dilakukan pada kolom\n",
    "x = df.drop('area', axis =1)\n",
    "# pengambilan kolom area dr dataset dan dimasukkan ke dlm var y\n",
    "y = df[target]\n",
    "# menginisialisasikan var varx dgn list yg berisi nama kolom pada dataset dan list ini digunakan sbg nama kolom pada dataset x\n",
    "varx = ['X', 'Y', 'FFMC', 'DMC', 'DC', 'ISI', 'temp', 'RH', 'wind', 'rain']\n",
    "# normalisasi data menggunakan metode MinMaxScaler() dr library sklearn.preprocessing\n",
    "# data yg dinormalisasikan dimasukkan ke dlm DataFrame baru dgn nama kolom yg ditentukan pada varx\n",
    "x = pd.DataFrame(data = transformasi_min_max.fit_transform(x), columns = varx)"
   ]
  },
  {
   "cell_type": "code",
   "execution_count": 1500,
   "id": "616eae8b",
   "metadata": {},
   "outputs": [],
   "source": [
    "# mengimpor modul train_test_split dari library sklearn.model_sleection yg digunakan utk membagi dataset menjadi data training dan data testing\n",
    "from sklearn.model_selection import train_test_split\n",
    "# melakukan pemisahan dataset menjadi 4 bagian (x_train, x_test, y_train, y_test)\n",
    "# var x merupakan data independen yg dipakai utk memprediksi var target y\n",
    "x_train, x_test, y_train, y_test = train_test_split(x, y, test_size = 0.30, random_state = 1)"
   ]
  },
  {
   "cell_type": "code",
   "execution_count": 1501,
   "id": "c32cfc17",
   "metadata": {},
   "outputs": [
    {
     "data": {
      "text/plain": [
       "LinearRegression()"
      ]
     },
     "execution_count": 1501,
     "metadata": {},
     "output_type": "execute_result"
    }
   ],
   "source": [
    "# mengimpor modul LinearRegression dr library sklearn.linear_modal yg digunakan utk membuat model regresi linear\n",
    "from sklearn.linear_model import LinearRegression\n",
    "# mengimpor modul mean_squared_error dan r2_score dr library sklearn.metrics yg digunakan utk mengukur kinerja model\n",
    "from sklearn.metrics import mean_squared_error, r2_score\n",
    "\n",
    "# membuat objek model regresi linear yg disimpan dlm var linear_model\n",
    "linear_model = LinearRegression()\n",
    "# melatih model regresi linear dgn memasukkan data latih x dan y ke dlm model menggunakan metode fit()\n",
    "linear_model.fit(x_train, y_train)"
   ]
  },
  {
   "cell_type": "code",
   "execution_count": 1502,
   "id": "a2788a88",
   "metadata": {},
   "outputs": [],
   "source": [
    "# mengimpor modul PolynomialFeatures dr library sklearn.preprocessing yg digunakan utk membuat fitur polinomial\n",
    "from sklearn.preprocessing import PolynomialFeatures\n",
    "# membuat objek PolynomialFeatures dgn prameter degree 2 yg menunjukkan bahwa fitur polinomial yg dibuat adalah dr derajat 0 sampai 2\n",
    "polynomial_features = PolynomialFeatures(degree = 2)\n",
    "# mentransformasikan x_train menjadi fitur polinomial dgn menggunakan objek polynomial_features di atas dan disimpan ke dlm var x_poly_train\n",
    "x_poly_train = polynomial_features.fit_transform(x_train)\n",
    "# membuat objek model regresi linear yg disimpan dlm var poly_model\n",
    "poly_model = LinearRegression()\n",
    "# melatih model regresi linear dgn memasukkan x_poly_train dan y_train ke dlm model menggunakan metode fit()\n",
    "poly_model.fit(x_poly_train, y_train)\n",
    "# mentransformasikan x_test menjadi fitur polinomial menggunakan objek polynomial_features dan disimpan dlm var x_poly_test\n",
    "x_poly_test = polynomial_features.fit_transform(x_test)"
   ]
  },
  {
   "cell_type": "code",
   "execution_count": 1503,
   "id": "cf815cd3",
   "metadata": {},
   "outputs": [
    {
     "data": {
      "text/plain": [
       "Ridge(alpha=1)"
      ]
     },
     "execution_count": 1503,
     "metadata": {},
     "output_type": "execute_result"
    }
   ],
   "source": [
    "# mengimpor modul ridge dr library sklearn.linear_model yg digunakan utk membuat model regresi ridge\n",
    "from sklearn.linear_model import Ridge\n",
    "\n",
    "# membuat objek model regresi ridge dgn alpha = 1\n",
    "# alpha adalah hyperparameter yg mengontrol kompleksitas model, semakin besar nilai alpha, maka semakin besar pembatasan pada koef model dan semakin sederhana modelnya\n",
    "model_ridge = Ridge(alpha = 1)\n",
    "# melatih model regresi ridge dgn memasukkan x_train dan y_train ke dlm model menggunakan metode fit()\n",
    "# algoritma optimasi akan menyesuaikan koef utk meminimalkan jumlah kuadrat residual antara nilai prediksi dan nilai target\n",
    "model_ridge.fit(x_train, y_train)"
   ]
  },
  {
   "cell_type": "code",
   "execution_count": 1504,
   "id": "21d919da",
   "metadata": {},
   "outputs": [
    {
     "data": {
      "text/plain": [
       "Lasso(alpha=1)"
      ]
     },
     "execution_count": 1504,
     "metadata": {},
     "output_type": "execute_result"
    }
   ],
   "source": [
    "# mengimpor modul lasso dr library sklearn.linear_model yg digunakan utk membuat model regresi lasso\n",
    "from sklearn.linear_model import Lasso\n",
    "\n",
    "# membuat objek model regresi lasso dgn alpha = 1\n",
    "# alpha adalah hyperparameter yg mengontrol kompleksitas model, semakin besar nilai alpha, maka semakin besar pembatasan pada koef model dan semakin sederhana modelnya\n",
    "model_lasso = Lasso(alpha = 1)\n",
    "# melatih model regresi lasso dgn memasukkan x_train dan y_train ke dlm model menggunakan metode fit()\n",
    "# algoritma optimasi akan menyesuaikan koef utk meminimalkan jumlah absolut residual antara nilai prediksi dan nilai target dgn mempertahankan koef yg signifikan dan menghilangkan yg tdk signifikan\n",
    "model_lasso.fit(x_train, y_train)"
   ]
  },
  {
   "cell_type": "markdown",
   "id": "04acad86",
   "metadata": {},
   "source": [
    "### Evaluasi Data Testing dengan Model Regresi Linear"
   ]
  },
  {
   "cell_type": "code",
   "execution_count": 1505,
   "id": "f3f05d7d",
   "metadata": {},
   "outputs": [
    {
     "name": "stdout",
     "output_type": "stream",
     "text": [
      "--------------------------------------\n",
      "PERFORMA MODEL UNTUK DATA TRAINING :\n",
      "--------------------------------------\n",
      "NILAI RMSE -> 3.043031649102679\n",
      "NILAI R2 -> 0.023288192399294028\n",
      "\n",
      "--------------------------------------\n",
      "PERFORMA MODEL UNTUK DATA TESTING :\n",
      "--------------------------------------\n",
      "NILAI RMSE -> 3.0777220513215378\n",
      "NILAI R2 -> 0.04188791414065707\n"
     ]
    }
   ],
   "source": [
    "# melakukan prediksi pada data x_train menggunakan linear_model yg sudah dilatih sblmnya, hasil prediksi akan disimpan ke dlm var pred_y_train\n",
    "pred_y_train = linear_model.predict(x_train)\n",
    "# menghitung rmse utk data training, rmse adalah metrik evaluasi utk mengukur sbrp dekat prediksi model dgn nilai sebenarnya\n",
    "# semakin kecil nilai rmse, maka semakin baik performa modelnya\n",
    "# menggunakan fungsi mean_squared_error() utk menghtung nilai mse kemudian mengambil akar kuadratnya menggunakan fungsi np.sqrt()\n",
    "rmse = (np.sqrt(mean_squared_error(y_train, pred_y_train)))\n",
    "# menghitung nilai r2 utk data training menggunakan fungsi r2_score\n",
    "# r2 adalah metrik evaluasi yg mengukur sbrp baik model dpt menjelaskan variasi data\n",
    "# nilai r2 berkisar antara 0 dan 1, semakin besar nilai r2, maka menunjukkan semakin baik performa modelnya\n",
    "r2 = r2_score(y_train, pred_y_train)\n",
    "\n",
    "# melakukan prediksi pada x_test menggunakan linear_model yg sudah dilatih sblmnya, hasil prediksi disimpan dlm var pred_y_test\n",
    "pred_y_test = linear_model.predict(x_test)\n",
    "# menghitung nilai rmse utk data testing\n",
    "# menggunakan fungsi mean_squared_error() utk menghitung nilai mse kemudian mengambil akar kuadratnya menggunakan fungsi np.sqrt()\n",
    "rmse_2 = (np.sqrt(mean_squared_error(y_test, pred_y_test)))\n",
    "# menghitung nilai r2 utk data testing menggunakan fungsi r2_score\n",
    "r2_2 = r2_score(y_test, pred_y_test)\n",
    "\n",
    "print(\"--------------------------------------\")\n",
    "print(\"PERFORMA MODEL UNTUK DATA TRAINING :\")\n",
    "print(\"--------------------------------------\")\n",
    "# mencetak string yg dihasilkan dr nilai rmse data training menggunakan fungsi format() yg digunakan utk memasukkan nilai rmse ke dlm string tsb\n",
    "print(\"NILAI RMSE -> {}\".format(rmse)) \n",
    "# mencetak string yg dihasilkan dr nilai r2 data training menggunakan fungsi format() yg digunakan utk memasukkan nilai r2 ke dlm string tsb\n",
    "print(\"NILAI R2 -> {}\".format(r2))\n",
    "print(\"\\n--------------------------------------\")\n",
    "print(\"PERFORMA MODEL UNTUK DATA TESTING :\")\n",
    "print(\"--------------------------------------\")\n",
    "# mencetak string yg dihasilkan dr nilai rmse data testing menggunakan fungsi format() yg digunakan utk memasukkan nilai rmse ke dlm string tsb\n",
    "print(\"NILAI RMSE -> {}\".format(rmse_2))\n",
    "# # mencetak string yg dihasilkan dr nilai r2 data testing menggunakan fungsi format() yg digunakan utk memasukkan nilai r2 ke dlm string tsb\n",
    "print(\"NILAI R2 -> {}\".format(r2_2))"
   ]
  },
  {
   "cell_type": "code",
   "execution_count": 1506,
   "id": "db38ef58",
   "metadata": {},
   "outputs": [
    {
     "name": "stdout",
     "output_type": "stream",
     "text": [
      "-----------------------------------------------------------\n",
      "PERFORMA MODEL POLINOMIAL DERAJAT 2 UNTUK DATA TRAINING :\n",
      "-----------------------------------------------------------\n",
      "NILAI RMSE -> 2.9498737235389316\n",
      "NILAI R2 -> 0.08217401263943558\n",
      "\n",
      "-----------------------------------------------------------\n",
      "PERFORMA MODEL POLINOMIAL DERAJAT 2 UNTUK DATA TESTING :\n",
      "-----------------------------------------------------------\n",
      "NILAI RMSE -> 2366095297114.1924\n",
      "NILAI R2 -> -5.662679616717523e+23\n"
     ]
    }
   ],
   "source": [
    "# memprediksi nilai y_train berdasarkan poly_model yg sudah dilatih sblmnya dgn memasukkan nilai x_poly_train dan hasil prediksi disimpan ke dlm var pred_y_train_poly\n",
    "pred_y_train_poly = poly_model.predict(x_poly_train)\n",
    "# menghitung rmse dr model polynomial yg sudah dilatih dgn membandingkan y_train dgn pred_y_train_poly menggunakan fungsi mean_squared_error()\n",
    "# fungsi np.sqrt digunakan utk menghitung nilai akar dr mse\n",
    "rmse = (np.sqrt(mean_squared_error(y_train, pred_y_train_poly)))\n",
    "# menghitung nilai r2 dr model polynomial yg sudah dilatih dgn membandingkan y_train dgn pred_y_train_poly menggunakan fungsi r2_score\n",
    "r2 = r2_score(y_train, pred_y_train_poly)\n",
    "\n",
    "# memprediksi y_test berdasarkan poly_model dgn memasukkan x_poly_test dan hasilnya akan disimpan dlm var pred_y_test_poly\n",
    "pred_y_test_poly = poly_model.predict(x_poly_test)\n",
    "# menghitung nilai rmse dgn membandingkan y_test dgn pred_y_test_poly menggunakan fungsi mean_squared_error()\n",
    "# fungsi np.sqrt digunakan utk menghitung nilai akar dr nilai mse\n",
    "rmse_2 = (np.sqrt(mean_squared_error(y_test, pred_y_test_poly)))\n",
    "# menghitung nilai r2 dgn membanding y_test dgn pred_y_test_poly menggunakan fungsi r2\n",
    "r2_2 = r2_score(y_test, pred_y_test_poly)\n",
    "\n",
    "print(\"-----------------------------------------------------------\")\n",
    "print(\"PERFORMA MODEL POLINOMIAL DERAJAT 2 UNTUK DATA TRAINING :\")\n",
    "print(\"-----------------------------------------------------------\")\n",
    "# mencetak string yg dihasilkan dr nilai rmse data training menggunakan fungsi format() yg digunakan utk memasukkan nilai rmse ke dlm string tsb\n",
    "print(\"NILAI RMSE -> {}\".format(rmse))\n",
    "# mencetak string yg dihasilkan dr nilai r2 data training menggunakan fungsi format() yg digunakan utk memasukkan nilai r2 ke dlm string tsb\n",
    "print(\"NILAI R2 -> {}\".format(r2))\n",
    "print(\"\\n-----------------------------------------------------------\")\n",
    "print(\"PERFORMA MODEL POLINOMIAL DERAJAT 2 UNTUK DATA TESTING :\")\n",
    "print(\"-----------------------------------------------------------\")\n",
    "# mencetak string yg dihasilkan dr nilai rmse data testing menggunakan fungsi format() yg digunakan utk memasukkan nilai rmse ke dlm string tsb\n",
    "print(\"NILAI RMSE -> {}\".format(rmse_2))\n",
    "# mencetak string yg dihasilkan dr nilai r2 data testing menggunakan fungsi format() yg digunakan utk memasukkan nilai r2 ke dlm string tsb\n",
    "print(\"NILAI R2 -> {}\".format(r2_2))"
   ]
  },
  {
   "cell_type": "code",
   "execution_count": 1507,
   "id": "f49d19e2",
   "metadata": {},
   "outputs": [
    {
     "name": "stdout",
     "output_type": "stream",
     "text": [
      "------------------------------------------\n",
      "PERFORMA MODEL RIDGE UNTUK DATA TRAINING :\n",
      "------------------------------------------\n",
      "NILAI RMSE -> 3.0438996465979944\n",
      "NILAI R2 -> 0.022730916359000708\n",
      "\n",
      "------------------------------------------\n",
      "PERFORMA MODEL RIDGE UNTUK DATA TESTING :\n",
      "------------------------------------------\n",
      "NILAI RMSE -> 3.085474148438788\n",
      "NILAI R2 -> 0.037055293279462775\n"
     ]
    }
   ],
   "source": [
    "# memprediksi y_train berdasarkan model_ridge dgn memasukkan x_train dan hasil prediksi disimpan dlm var pred_y_train_ridge\n",
    "pred_y_train_ridge = model_ridge.predict(x_train)\n",
    "# menghitung rmse dgn membandingkan y_train dgn pred_y_train_ridge menggunakan fungsi mean_squared_error\n",
    "# np.sqrt digunakan utk menghitung nilai akar dr mse\n",
    "rmse = (np.sqrt(mean_squared_error(y_train, pred_y_train_ridge)))\n",
    "# menghitung r2 dgn membandingkan y_train dgn pred_y_train_ridge menggunakan fungsi r2_score\n",
    "r2 = r2_score(y_train, pred_y_train_ridge)\n",
    "\n",
    "# memprediksi y_test berdasarkan model_ridge dgn memasukkan x_test dan hasil prediksi disimpan dlm var pred_y_test_ridge\n",
    "pred_y_test_ridge = model_ridge.predict(x_test)\n",
    "# menghitung rmse dgn membandingkan y_test dgn pred_y_test_ridge dan hasil prediksi disimpan dlm var pred_y_test_ridge\n",
    "rmse_2 = (np.sqrt(mean_squared_error(y_test, pred_y_test_ridge)))\n",
    "# menghitung r2 dgn membandingkan y_test dgn pred_y_test_ridge menggunakan fungsi r2_score\n",
    "r2_2 = r2_score(y_test, pred_y_test_ridge)\n",
    "\n",
    "print(\"------------------------------------------\")\n",
    "print(\"PERFORMA MODEL RIDGE UNTUK DATA TRAINING :\")\n",
    "print(\"------------------------------------------\")\n",
    "# mencetak string yg dihasilkan dr nilai rmse data training menggunakan fungsi format() yg digunakan utk memasukkan nilai rmse ke dlm string tsb\n",
    "print(\"NILAI RMSE -> {}\".format(rmse))\n",
    "# mencetak string yg dihasilkan dr nilai r2 data training menggunakan fungsi format() yg digunakan utk memasukkan nilai r2 ke dlm string tsb\n",
    "print(\"NILAI R2 -> {}\".format(r2))\n",
    "print(\"\\n------------------------------------------\")\n",
    "print(\"PERFORMA MODEL RIDGE UNTUK DATA TESTING :\")\n",
    "print(\"------------------------------------------\")\n",
    "# mencetak string yg dihasilkan dr nilai rmse data testing menggunakan fungsi format() yg digunakan utk memasukkan nilai rmse ke dlm string tsb\n",
    "print(\"NILAI RMSE -> {}\".format(rmse_2))\n",
    "# mencetak string yg dihasilkan dr nilai r2 data testing menggunakan fungsi format() yg digunakan utk memasukkan nilai r2 ke dlm string tsb\n",
    "print(\"NILAI R2 -> {}\".format(r2_2))"
   ]
  },
  {
   "cell_type": "code",
   "execution_count": 1508,
   "id": "52ef9554",
   "metadata": {},
   "outputs": [
    {
     "name": "stdout",
     "output_type": "stream",
     "text": [
      "------------------------------------------\n",
      "PERFORMA MODEL LASSO UNTUK DATA TRAINING :\n",
      "------------------------------------------\n",
      "NILAI RMSE -> 3.079096146983455\n",
      "NILAI R2 -> 0.0\n",
      "\n",
      "------------------------------------------\n",
      "PERFORMA MODEL LASSO UNTUK DATA TESTING :\n",
      "------------------------------------------\n",
      "NILAI RMSE -> 3.1450287335693794\n",
      "NILAI R2 -> -0.0004761988574428777\n"
     ]
    }
   ],
   "source": [
    "# memprediksi y_train berdasarkan model_lasso dgn memasukkan x_train dan hasil prediksi disimpan dlm var pred_y_train_lasso\n",
    "pred_y_train_lasso = model_lasso.predict(x_train)\n",
    "# menghitung rmse dgn membandingkan y_train dgn pred_y_train_lasso menggunakan fungsi mean_squared_error()\n",
    "# fungsi np.sqrt digunakan utk menghitung nilai akar dr mse\n",
    "rmse = (np.sqrt(mean_squared_error(y_train, pred_y_train_lasso)))\n",
    "# menghitung r2 dgn membandingkan y_train dgn pred_y_train_lasso menggunakan fungsi r2\n",
    "r2 = r2_score(y_train, pred_y_train_lasso)\n",
    "\n",
    "# memprediksi y_test berdasarkan model_lasso dgn memasukkan x_test dan hasil prediksi disimpan dlm var pred_y_test_lasso\n",
    "pred_y_test_lasso = model_lasso.predict(x_test)\n",
    "# menghitung rmse dgn membandingkan y_test dgn pred_y_test_lasso menggunakan fungsi mean_squared_error()\n",
    "# fungsi np.sqrt digunakan utk menghitung nilai akar dr mse\n",
    "rmse_2 = (np.sqrt(mean_squared_error(y_test, pred_y_test_lasso)))\n",
    "# menghitung r2 dgn membandingkan y_test dgn pred_y_test_lasso menggunakan fungsi r2_score\n",
    "r2_2 = r2_score(y_test, pred_y_test_lasso)\n",
    "\n",
    "print(\"------------------------------------------\")\n",
    "print(\"PERFORMA MODEL LASSO UNTUK DATA TRAINING :\")\n",
    "print(\"------------------------------------------\")\n",
    "# mencetak string yg dihasilkan dr nilai rmse data training menggunakan fungsi format() yg digunakan utk memasukkan nilai rmse ke dlm string tsb\n",
    "print(\"NILAI RMSE -> {}\".format(rmse))\n",
    "# mencetak string yg dihasilkan dr nilai r2 data training menggunakan fungsi format() yg digunakan utk memasukkan nilai r2 ke dlm string tsb\n",
    "print(\"NILAI R2 -> {}\".format(r2))\n",
    "print(\"\\n------------------------------------------\")\n",
    "print(\"PERFORMA MODEL LASSO UNTUK DATA TESTING :\")\n",
    "print(\"------------------------------------------\")\n",
    "# mencetak string yg dihasilkan dr nilai rmse data testing menggunakan fungsi format() yg digunakan utk memasukkan nilai rmse ke dlm string tsb\n",
    "print(\"NILAI RMSE -> {}\".format(rmse_2))\n",
    "# mencetak string yg dihasilkan dr nilai r2 data testing menggunakan fungsi format() yg digunakan utk memasukkan nilai r2 ke dlm string tsb\n",
    "print(\"NILAI R2 -> {}\".format(r2_2))"
   ]
  },
  {
   "cell_type": "markdown",
   "id": "84ff42cb",
   "metadata": {},
   "source": [
    "### Kesimpulan Model Terbaik"
   ]
  },
  {
   "cell_type": "markdown",
   "id": "d83a80e0",
   "metadata": {},
   "source": [
    "R-square dan RMSE adalah dua metrik evaluasi yang umum digunakan untuk mengevaluasi kualitas model regresi. R-square mengukur seberapa besar proporsi variabilitas dalam data yang dapat dijelaskan oleh model regresi yang dihasilkan, sementara RMSE mengukur seberapa besar kesalahan prediksi model dalam satuan yang sama dengan data yang diamati. Sehingga, model regresi yang baik adalah model yang memberikan nilai R-square yang tinggi dan nilai RMSE yang rendah.\n",
    "\n",
    "Dalam hal ini, Model Regresi \"LINEAR\" dipilih sebagai model terbaik karena memiliki nilai R-Square sebesar 0.04188791414065707 dan nilai RMSE sebesar 3.0777220513215378. Hal ini menunjukkan bahwa model memiliki kemampuan yang baik dalam menjelaskan variasi data yang diamati, dan RMSE yang rendah menunjukkan bahwa model memberikan prediksi yang akurat dan dekat dengan nilai sebenarnya. Namun, perlu diingat bahwa pemilihan model terbaik tidak hanya bergantung pada R-square dan RMSE saja, namun juga harus mempertimbangkan faktor lain seperti akurasi, kecepatan, dan kompleksitas model."
   ]
  },
  {
   "cell_type": "markdown",
   "id": "c26f6857",
   "metadata": {},
   "source": [
    "Karena yang model terbaik yang didapatkan adalah Regresi Linear, maka akan dilakukan analisis lebih lanjut tentang Regresi Linear."
   ]
  },
  {
   "cell_type": "markdown",
   "id": "d339455b",
   "metadata": {},
   "source": [
    "### Interpretasi Koefisien"
   ]
  },
  {
   "cell_type": "code",
   "execution_count": 1509,
   "id": "a9fb41bd",
   "metadata": {},
   "outputs": [
    {
     "name": "stdout",
     "output_type": "stream",
     "text": [
      "Koefisien regresi: \n",
      "X :  0.6986920374736793\n",
      "Y :  0.12887058227691833\n",
      "FFMC :  0.23405856427536553\n",
      "DMC :  0.6471916068562316\n",
      "DC :  0.5636226730300468\n",
      "ISI :  -1.9927046817334229\n",
      "temp :  0.37569823592327817\n",
      "RH :  -1.34560016623774\n",
      "wind :  1.020618721139516\n",
      "rain :  -1.6173343124146893\n",
      "\n",
      "Intercept:  0.8363209213306185\n"
     ]
    }
   ],
   "source": [
    "# mengimpor modul LinearRegression dari library sklearn.linear_model yg digunakan utk membuat objek regresi linier\n",
    "from sklearn.linear_model import LinearRegression\n",
    "\n",
    "# membuat objek regresi linier\n",
    "reg = LinearRegression()\n",
    "\n",
    "# melatih model regresi pada data training\n",
    "reg.fit(x_train, y_train)\n",
    "\n",
    "# menampilkan nilai koefisien pada setiap variabel independen\n",
    "print(\"Koefisien regresi: \")\n",
    "for i in range(len(varx)):\n",
    "    print(varx[i], \": \", reg.coef_[i])\n",
    "\n",
    "# menampilkan nilai intercept\n",
    "print(\"\\nIntercept: \", reg.intercept_)"
   ]
  },
  {
   "cell_type": "markdown",
   "id": "59ce2cc9",
   "metadata": {},
   "source": [
    "Kesimpulannya, dapat dikatakan bahwa variabel DMC dan DC merupakan faktor yang paling mempengaruhi nilai Y pada model regresi linear ini, sedangkan variabel ISI dan RH mempengaruhi Y secara negatif. Variabel-variabel lainnya juga mempengaruhi Y, namun dengan koefisien regresi yang lebih rendah."
   ]
  },
  {
   "cell_type": "markdown",
   "id": "fb28dbac",
   "metadata": {},
   "source": [
    "### Uji Hipotesis"
   ]
  },
  {
   "cell_type": "markdown",
   "id": "0f09f953",
   "metadata": {},
   "source": [
    "##### *temp*"
   ]
  },
  {
   "cell_type": "code",
   "execution_count": 1510,
   "id": "539e7ed2",
   "metadata": {},
   "outputs": [
    {
     "name": "stdout",
     "output_type": "stream",
     "text": [
      "Koefisien regresi temp:  1.287235527576558\n",
      "Intercept:  1.1303833317183343\n",
      "P-value:  9.469453868770674e-07\n"
     ]
    }
   ],
   "source": [
    "# mengimpor modul stats dari library scipy yg digunakan utk melakukan uji signifikansi koefisien\n",
    "from scipy import stats\n",
    "\n",
    "# membuat array data independen hanya dengan variabel temp\n",
    "x_temp = x_train[['temp']]\n",
    "\n",
    "# melatih model regresi hanya pada variabel temp\n",
    "reg_temp = LinearRegression().fit(x_temp, y_train)\n",
    "\n",
    "# melakukan prediksi pada data testing hanya dengan variabel temp\n",
    "y_pred_temp = reg_temp.predict(x_test[['temp']])\n",
    "\n",
    "# menghitung nilai p-value\n",
    "p_value_temp = stats.t.sf(abs(reg_temp.coef_[0]) / np.sqrt(np.mean((y_test - y_pred_temp)**2) / (len(y_test) - 2)), len(y_test) - 2) * 2\n",
    "\n",
    "# menampilkan nilai koefisien, intercept, dan p-value\n",
    "print(\"Koefisien regresi temp: \", reg_temp.coef_[0])\n",
    "print(\"Intercept: \", reg_temp.intercept_)\n",
    "print(\"P-value: \", p_value_temp)"
   ]
  },
  {
   "cell_type": "markdown",
   "id": "71348394",
   "metadata": {},
   "source": [
    "##### *rain*"
   ]
  },
  {
   "cell_type": "code",
   "execution_count": 1511,
   "id": "cbc85f6c",
   "metadata": {},
   "outputs": [
    {
     "name": "stdout",
     "output_type": "stream",
     "text": [
      "Koefisien regresi rain:  -2.1968184355113545\n",
      "Intercept:  1.8306820295927961\n",
      "P-value:  5.456133925675012e-15\n"
     ]
    }
   ],
   "source": [
    "# mengimpor modul stats dari library scipy yg digunakan utk melakukan uji signifikansi koefisien\n",
    "from scipy import stats\n",
    "\n",
    "# membuat array data independen hanya dengan variabel temp\n",
    "x_rain = x_train[['rain']]\n",
    "\n",
    "# melatih model regresi hanya pada variabel temp\n",
    "reg_rain = LinearRegression().fit(x_rain, y_train)\n",
    "\n",
    "# melakukan prediksi pada data testing hanya dengan variabel temp\n",
    "y_pred_rain = reg_rain.predict(x_test[['rain']])\n",
    "\n",
    "# menghitung nilai p-value\n",
    "p_value_rain = stats.t.sf(abs(reg_rain.coef_[0]) / np.sqrt(np.mean((y_test - y_pred_rain)**2) / (len(y_test) - 2)), len(y_test) - 2) * 2\n",
    "\n",
    "# menampilkan nilai koefisien, intercept, dan p-value\n",
    "print(\"Koefisien regresi rain: \", reg_rain.coef_[0])\n",
    "print(\"Intercept: \", reg_rain.intercept_)\n",
    "print(\"P-value: \", p_value_rain)"
   ]
  },
  {
   "cell_type": "markdown",
   "id": "0b111c98",
   "metadata": {},
   "source": [
    "##### *wind*"
   ]
  },
  {
   "cell_type": "code",
   "execution_count": 1512,
   "id": "ba8da485",
   "metadata": {},
   "outputs": [
    {
     "name": "stdout",
     "output_type": "stream",
     "text": [
      "Koefisien regresi wind:  0.46928043016231824\n",
      "Intercept:  1.637799415824897\n",
      "P-value:  0.06552344314147052\n"
     ]
    }
   ],
   "source": [
    "# membuat array data independen hanya dengan variabel temp\n",
    "x_wind = x_train[['wind']]\n",
    "\n",
    "# melatih model regresi hanya pada variabel temp\n",
    "reg_wind = LinearRegression().fit(x_wind, y_train)\n",
    "\n",
    "# melakukan prediksi pada data testing hanya dengan variabel temp\n",
    "y_pred_wind = reg_wind.predict(x_test[['wind']])\n",
    "\n",
    "# menghitung nilai p-value\n",
    "p_value_wind = stats.t.sf(abs(reg_wind.coef_[0]) / np.sqrt(np.mean((y_test - y_pred_wind)**2) / (len(y_test) - 2)), len(y_test) - 2) * 2\n",
    "\n",
    "# menampilkan nilai koefisien, intercept, dan p-value\n",
    "print(\"Koefisien regresi wind: \", reg_wind.coef_[0])\n",
    "print(\"Intercept: \", reg_wind.intercept_)\n",
    "print(\"P-value: \", p_value_wind)"
   ]
  },
  {
   "cell_type": "markdown",
   "id": "e7e7c379",
   "metadata": {},
   "source": [
    "##### *DMC*"
   ]
  },
  {
   "cell_type": "code",
   "execution_count": 1513,
   "id": "30fe0d87",
   "metadata": {},
   "outputs": [
    {
     "name": "stdout",
     "output_type": "stream",
     "text": [
      "Koefisien regresi DMC:  0.8092708000726465\n",
      "Intercept:  1.4846652737822503\n",
      "P-value:  0.0015813468991068625\n"
     ]
    }
   ],
   "source": [
    "# membuat array data independen hanya dengan variabel temp\n",
    "x_DMC = x_train[['DMC']]\n",
    "\n",
    "# melatih model regresi hanya pada variabel temp\n",
    "reg_DMC = LinearRegression().fit(x_DMC, y_train)\n",
    "\n",
    "# melakukan prediksi pada data testing hanya dengan variabel temp\n",
    "y_pred_DMC = reg_DMC.predict(x_test[['DMC']])\n",
    "\n",
    "# menghitung nilai p-value\n",
    "p_value_DMC = stats.t.sf(abs(reg_DMC.coef_[0]) / np.sqrt(np.mean((y_test - y_pred_DMC)**2) / (len(y_test) - 2)), len(y_test) - 2) * 2\n",
    "\n",
    "# menampilkan nilai koefisien, intercept, dan p-value\n",
    "print(\"Koefisien regresi DMC: \", reg_DMC.coef_[0])\n",
    "print(\"Intercept: \", reg_DMC.intercept_)\n",
    "print(\"P-value: \", p_value_DMC)"
   ]
  },
  {
   "cell_type": "markdown",
   "id": "23b5fa4b",
   "metadata": {},
   "source": [
    "##### *FFMC*"
   ]
  },
  {
   "cell_type": "code",
   "execution_count": 1514,
   "id": "8c5d06c0",
   "metadata": {},
   "outputs": [
    {
     "name": "stdout",
     "output_type": "stream",
     "text": [
      "Koefisien regresi FFMC:  0.10852501056959994\n",
      "Intercept:  1.7539024833055874\n",
      "P-value:  0.6688823298966509\n"
     ]
    }
   ],
   "source": [
    "# membuat array data independen hanya dengan variabel temp\n",
    "x_FFMC = x_train[['FFMC']]\n",
    "\n",
    "# melatih model regresi hanya pada variabel temp\n",
    "reg_FFMC = LinearRegression().fit(x_FFMC, y_train)\n",
    "\n",
    "# melakukan prediksi pada data testing hanya dengan variabel temp\n",
    "y_pred_FFMC = reg_FFMC.predict(x_test[['FFMC']])\n",
    "\n",
    "# menghitung nilai p-value\n",
    "p_value_FFMC = stats.t.sf(abs(reg_FFMC.coef_[0]) / np.sqrt(np.mean((y_test - y_pred_FFMC)**2) / (len(y_test) - 2)), len(y_test) - 2) * 2\n",
    "\n",
    "# menampilkan nilai koefisien, intercept, dan p-value\n",
    "print(\"Koefisien regresi FFMC: \", reg_FFMC.coef_[0])\n",
    "print(\"Intercept: \", reg_FFMC.intercept_)\n",
    "print(\"P-value: \", p_value_FFMC)"
   ]
  },
  {
   "cell_type": "markdown",
   "id": "cc214a87",
   "metadata": {},
   "source": [
    "##### *DC*"
   ]
  },
  {
   "cell_type": "code",
   "execution_count": 1515,
   "id": "f86a657a",
   "metadata": {},
   "outputs": [
    {
     "name": "stdout",
     "output_type": "stream",
     "text": [
      "Koefisien regresi DC:  0.7406069910851539\n",
      "Intercept:  1.356623393628206\n",
      "P-value:  0.003936134382639574\n"
     ]
    }
   ],
   "source": [
    "# membuat array data independen hanya dengan variabel temp\n",
    "x_DC = x_train[['DC']]\n",
    "\n",
    "# melatih model regresi hanya pada variabel temp\n",
    "reg_DC = LinearRegression().fit(x_DC, y_train)\n",
    "\n",
    "# melakukan prediksi pada data testing hanya dengan variabel temp\n",
    "y_pred_DC = reg_DC.predict(x_test[['DC']])\n",
    "\n",
    "# menghitung nilai p-value\n",
    "p_value_DC = stats.t.sf(abs(reg_DC.coef_[0]) / np.sqrt(np.mean((y_test - y_pred_DC)**2) / (len(y_test) - 2)), len(y_test) - 2) * 2\n",
    "\n",
    "# menampilkan nilai koefisien, intercept, dan p-value\n",
    "print(\"Koefisien regresi DC: \", reg_DC.coef_[0])\n",
    "print(\"Intercept: \", reg_DC.intercept_)\n",
    "print(\"P-value: \", p_value_DC)"
   ]
  },
  {
   "cell_type": "markdown",
   "id": "146e8c61",
   "metadata": {},
   "source": [
    "##### *ISI*"
   ]
  },
  {
   "cell_type": "code",
   "execution_count": 1516,
   "id": "6cf587bb",
   "metadata": {},
   "outputs": [
    {
     "name": "stdout",
     "output_type": "stream",
     "text": [
      "Koefisien regresi ISI:  0.04633937868896783\n",
      "Intercept:  1.8141669856463538\n",
      "P-value:  0.8551611365738356\n"
     ]
    }
   ],
   "source": [
    "# membuat array data independen hanya dengan variabel temp\n",
    "x_ISI = x_train[['ISI']]\n",
    "\n",
    "# melatih model regresi hanya pada variabel temp\n",
    "reg_ISI = LinearRegression().fit(x_ISI, y_train)\n",
    "\n",
    "# melakukan prediksi pada data testing hanya dengan variabel temp\n",
    "y_pred_ISI = reg_ISI.predict(x_test[['ISI']])\n",
    "\n",
    "# menghitung nilai p-value\n",
    "p_value_ISI = stats.t.sf(abs(reg_ISI.coef_[0]) / np.sqrt(np.mean((y_test - y_pred_ISI)**2) / (len(y_test) - 2)), len(y_test) - 2) * 2\n",
    "\n",
    "# menampilkan nilai koefisien, intercept, dan p-value\n",
    "print(\"Koefisien regresi ISI: \", reg_ISI.coef_[0])\n",
    "print(\"Intercept: \", reg_ISI.intercept_)\n",
    "print(\"P-value: \", p_value_ISI)"
   ]
  },
  {
   "cell_type": "markdown",
   "id": "0046b8b4",
   "metadata": {},
   "source": [
    "##### *RH*"
   ]
  },
  {
   "cell_type": "code",
   "execution_count": 1517,
   "id": "cd808f1d",
   "metadata": {},
   "outputs": [
    {
     "name": "stdout",
     "output_type": "stream",
     "text": [
      "Koefisien regresi RH:  -1.517695004409504\n",
      "Intercept:  2.3257541666116257\n",
      "P-value:  1.4865089958977286e-08\n"
     ]
    }
   ],
   "source": [
    "# membuat array data independen hanya dengan variabel temp\n",
    "x_RH = x_train[['RH']]\n",
    "\n",
    "# melatih model regresi hanya pada variabel temp\n",
    "reg_RH = LinearRegression().fit(x_RH, y_train)\n",
    "\n",
    "# melakukan prediksi pada data testing hanya dengan variabel temp\n",
    "y_pred_RH = reg_RH.predict(x_test[['RH']])\n",
    "\n",
    "# menghitung nilai p-value\n",
    "p_value_RH = stats.t.sf(abs(reg_RH.coef_[0]) / np.sqrt(np.mean((y_test - y_pred_RH)**2) / (len(y_test) - 2)), len(y_test) - 2) * 2\n",
    "\n",
    "# menampilkan nilai koefisien, intercept, dan p-value\n",
    "print(\"Koefisien regresi RH: \", reg_RH.coef_[0])\n",
    "print(\"Intercept: \", reg_RH.intercept_)\n",
    "print(\"P-value: \", p_value_RH)"
   ]
  },
  {
   "cell_type": "markdown",
   "id": "d2a23bc3",
   "metadata": {},
   "source": [
    "Berdasarkan koefisien regresi dan intercept pada setiap variabel prediktor (temp, rain, wind, DMC, FFMC, DC, ISI, RH), dapat disimpulkan bahwa:\n",
    "\n",
    "- Variabel prediktor yang paling berpengaruh positif terhadap variabel target (area) adalah variabel temp dan DMC, karena memiliki koefisien regresi yang positif yang cukup besar.\n",
    "- Variabel prediktor yang paling berpengaruh negatif terhadap variabel target adalah variabel RH dan rain, karena memiliki koefisien regresi yang negatif yang cukup besar.\n",
    "- Variabel prediktor lainnya (wind, FFMC, DC, ISI) tidak memiliki pengaruh yang signifikan terhadap variabel target, karena memiliki koefisien regresi yang kecil atau p-value yang tinggi."
   ]
  },
  {
   "cell_type": "markdown",
   "id": "9d5d720b",
   "metadata": {},
   "source": [
    "### Evaluasi Kesesuaian Model"
   ]
  },
  {
   "cell_type": "code",
   "execution_count": 1518,
   "id": "834d6941",
   "metadata": {},
   "outputs": [
    {
     "name": "stdout",
     "output_type": "stream",
     "text": [
      "Hasil Evaluasi temp:\n",
      "R-square (testing):  0.011098114312787177\n",
      "MSE (testing):  9.776776313329064\n",
      "RMSE (testing):  3.1267837010783244\n"
     ]
    }
   ],
   "source": [
    "from sklearn.metrics import r2_score, mean_squared_error\n",
    "\n",
    "# menghitung R-square pada data testing\n",
    "r2_test = r2_score(y_test, y_pred_temp)\n",
    "\n",
    "# menghitung MSE pada data testing\n",
    "mse_test = mean_squared_error(y_test, y_pred_temp)\n",
    "\n",
    "# menghitung RMSE pada data testing\n",
    "rmse_test = np.sqrt(mse_test)\n",
    "\n",
    "# menampilkan hasil evaluasi\n",
    "print(\"Hasil Evaluasi temp:\")\n",
    "print(\"R-square (testing): \", r2_test)\n",
    "print(\"MSE (testing): \", mse_test)\n",
    "print(\"RMSE (testing): \", rmse_test)"
   ]
  },
  {
   "cell_type": "code",
   "execution_count": 1519,
   "id": "bfd653b6",
   "metadata": {},
   "outputs": [
    {
     "name": "stdout",
     "output_type": "stream",
     "text": [
      "Hasil Evaluasi rain:\n",
      "R-square (testing):  0.001213987980926312\n",
      "MSE (testing):  9.874495706524613\n",
      "RMSE (testing):  3.142371032600163\n"
     ]
    }
   ],
   "source": [
    "from sklearn.metrics import r2_score, mean_squared_error\n",
    "\n",
    "# menghitung R-square pada data testing\n",
    "r2_test = r2_score(y_test, y_pred_rain)\n",
    "\n",
    "# menghitung MSE pada data testing\n",
    "mse_test = mean_squared_error(y_test, y_pred_rain)\n",
    "\n",
    "# menghitung RMSE pada data testing\n",
    "rmse_test = np.sqrt(mse_test)\n",
    "\n",
    "# menampilkan hasil evaluasi\n",
    "print(\"Hasil Evaluasi rain:\")\n",
    "print(\"R-square (testing): \", r2_test)\n",
    "print(\"MSE (testing): \", mse_test)\n",
    "print(\"RMSE (testing): \", rmse_test)"
   ]
  },
  {
   "cell_type": "code",
   "execution_count": 1520,
   "id": "1b8811f7",
   "metadata": {},
   "outputs": [
    {
     "name": "stdout",
     "output_type": "stream",
     "text": [
      "Hasil Evaluasi wind:\n",
      "R-square (testing):  0.0029769064730815753\n",
      "MSE (testing):  9.857066616737352\n",
      "RMSE (testing):  3.139596569105233\n"
     ]
    }
   ],
   "source": [
    "from sklearn.metrics import r2_score, mean_squared_error\n",
    "\n",
    "# menghitung R-square pada data testing\n",
    "r2_test = r2_score(y_test, y_pred_wind)\n",
    "\n",
    "# menghitung MSE pada data testing\n",
    "mse_test = mean_squared_error(y_test, y_pred_wind)\n",
    "\n",
    "# menghitung RMSE pada data testing\n",
    "rmse_test = np.sqrt(mse_test)\n",
    "\n",
    "# menampilkan hasil evaluasi\n",
    "print(\"Hasil Evaluasi wind:\")\n",
    "print(\"R-square (testing): \", r2_test)\n",
    "print(\"MSE (testing): \", mse_test)\n",
    "print(\"RMSE (testing): \", rmse_test)"
   ]
  },
  {
   "cell_type": "code",
   "execution_count": 1521,
   "id": "6f3f8970",
   "metadata": {},
   "outputs": [
    {
     "name": "stdout",
     "output_type": "stream",
     "text": [
      "Hasil Evaluasi DMC:\n",
      "R-square (testing):  0.013996065854399498\n",
      "MSE (testing):  9.748125721799934\n",
      "RMSE (testing):  3.122198860066401\n"
     ]
    }
   ],
   "source": [
    "from sklearn.metrics import r2_score, mean_squared_error\n",
    "\n",
    "# menghitung R-square pada data testing\n",
    "r2_test = r2_score(y_test, y_pred_DMC)\n",
    "\n",
    "# menghitung MSE pada data testing\n",
    "mse_test = mean_squared_error(y_test, y_pred_DMC)\n",
    "\n",
    "# menghitung RMSE pada data testing\n",
    "rmse_test = np.sqrt(mse_test)\n",
    "\n",
    "# menampilkan hasil evaluasi\n",
    "print(\"Hasil Evaluasi DMC:\")\n",
    "print(\"R-square (testing): \", r2_test)\n",
    "print(\"MSE (testing): \", mse_test)\n",
    "print(\"RMSE (testing): \", rmse_test)"
   ]
  },
  {
   "cell_type": "code",
   "execution_count": 1522,
   "id": "62e5fed4",
   "metadata": {},
   "outputs": [
    {
     "name": "stdout",
     "output_type": "stream",
     "text": [
      "Hasil Evaluasi FFMC:\n",
      "R-square (testing):  0.000859901407107011\n",
      "MSE (testing):  9.877996382656278\n",
      "RMSE (testing):  3.1429279951434266\n"
     ]
    }
   ],
   "source": [
    "from sklearn.metrics import r2_score, mean_squared_error\n",
    "\n",
    "# menghitung R-square pada data testing\n",
    "r2_test = r2_score(y_test, y_pred_FFMC)\n",
    "\n",
    "# menghitung MSE pada data testing\n",
    "mse_test = mean_squared_error(y_test, y_pred_FFMC)\n",
    "\n",
    "# menghitung RMSE pada data testing\n",
    "rmse_test = np.sqrt(mse_test)\n",
    "\n",
    "# menampilkan hasil evaluasi\n",
    "print(\"Hasil Evaluasi FFMC:\")\n",
    "print(\"R-square (testing): \", r2_test)\n",
    "print(\"MSE (testing): \", mse_test)\n",
    "print(\"RMSE (testing): \", rmse_test)"
   ]
  },
  {
   "cell_type": "code",
   "execution_count": 1523,
   "id": "c34fb42c",
   "metadata": {},
   "outputs": [
    {
     "name": "stdout",
     "output_type": "stream",
     "text": [
      "Hasil Evaluasi DC:\n",
      "R-square (testing):  0.0030410706994895564\n",
      "MSE (testing):  9.856432257254387\n",
      "RMSE (testing):  3.1394955418433685\n"
     ]
    }
   ],
   "source": [
    "from sklearn.metrics import r2_score, mean_squared_error\n",
    "\n",
    "# menghitung R-square pada data testing\n",
    "r2_test = r2_score(y_test, y_pred_DC)\n",
    "\n",
    "# menghitung MSE pada data testing\n",
    "mse_test = mean_squared_error(y_test, y_pred_DC)\n",
    "\n",
    "# menghitung RMSE pada data testing\n",
    "rmse_test = np.sqrt(mse_test)\n",
    "\n",
    "# menampilkan hasil evaluasi\n",
    "print(\"Hasil Evaluasi DC:\")\n",
    "print(\"R-square (testing): \", r2_test)\n",
    "print(\"MSE (testing): \", mse_test)\n",
    "print(\"RMSE (testing): \", rmse_test)"
   ]
  },
  {
   "cell_type": "code",
   "execution_count": 1524,
   "id": "4566681c",
   "metadata": {},
   "outputs": [
    {
     "name": "stdout",
     "output_type": "stream",
     "text": [
      "Hasil Evaluasi ISI:\n",
      "R-square (testing):  -0.0005034282310540927\n",
      "MSE (testing):  9.89147493811921\n",
      "RMSE (testing):  3.145071531478928\n"
     ]
    }
   ],
   "source": [
    "from sklearn.metrics import r2_score, mean_squared_error\n",
    "\n",
    "# menghitung R-square pada data testing\n",
    "r2_test = r2_score(y_test, y_pred_ISI)\n",
    "\n",
    "# menghitung MSE pada data testing\n",
    "mse_test = mean_squared_error(y_test, y_pred_ISI)\n",
    "\n",
    "# menghitung RMSE pada data testing\n",
    "rmse_test = np.sqrt(mse_test)\n",
    "\n",
    "# menampilkan hasil evaluasi\n",
    "print(\"Hasil Evaluasi ISI:\")\n",
    "print(\"R-square (testing): \", r2_test)\n",
    "print(\"MSE (testing): \", mse_test)\n",
    "print(\"RMSE (testing): \", rmse_test)"
   ]
  },
  {
   "cell_type": "code",
   "execution_count": 1525,
   "id": "3ee0dbcc",
   "metadata": {},
   "outputs": [
    {
     "name": "stdout",
     "output_type": "stream",
     "text": [
      "Hasil Evaluasi RH:\n",
      "R-square (testing):  -0.0027574661604514716\n",
      "MSE (testing):  9.91375947914035\n",
      "RMSE (testing):  3.148612310072542\n"
     ]
    }
   ],
   "source": [
    "from sklearn.metrics import r2_score, mean_squared_error\n",
    "\n",
    "# menghitung R-square pada data testing\n",
    "r2_test = r2_score(y_test, y_pred_RH)\n",
    "\n",
    "# menghitung MSE pada data testing\n",
    "mse_test = mean_squared_error(y_test, y_pred_RH)\n",
    "\n",
    "# menghitung RMSE pada data testing\n",
    "rmse_test = np.sqrt(mse_test)\n",
    "\n",
    "# menampilkan hasil evaluasi\n",
    "print(\"Hasil Evaluasi RH:\")\n",
    "print(\"R-square (testing): \", r2_test)\n",
    "print(\"MSE (testing): \", mse_test)\n",
    "print(\"RMSE (testing): \", rmse_test)"
   ]
  },
  {
   "cell_type": "markdown",
   "id": "337d883e",
   "metadata": {},
   "source": [
    "Berdasarkan hasil evaluasi yang diberikan, variabel yang menunjukkan semakin baiknya model dalam melakukan prediksi pada data testing adalah DMC, karena memiliki nilai R-square (testing) tertinggi yaitu sebesar 0.013996065854399498 dan nilai MSE (testing) serta RMSE (testing) terendah di antara variabel lainnya. Hal ini menunjukkan bahwa model memiliki kemampuan yang lebih baik dalam menjelaskan variabilitas data DMC pada data testing dibandingkan dengan variabel lainnya."
   ]
  },
  {
   "cell_type": "markdown",
   "id": "53cd20db",
   "metadata": {},
   "source": [
    "### Prediksi"
   ]
  },
  {
   "cell_type": "code",
   "execution_count": 1526,
   "id": "7275745d",
   "metadata": {},
   "outputs": [
    {
     "name": "stdout",
     "output_type": "stream",
     "text": [
      "[ 2.99500303e+01  3.77404065e+02  3.91939112e+02 -4.76857662e+01\n",
      " -2.73206307e+01  3.04592673e+02  3.24618468e+02  3.33719801e+02\n",
      "  4.14386031e+02  4.23397781e+02  4.09983668e+02  3.92495063e+02\n",
      "  3.63561801e+02  4.35529047e+02  4.75918661e+02  4.48474000e+02\n",
      "  5.44575593e+01  3.67052150e+02  3.47891420e+01  3.90643491e+01\n",
      "  4.42877670e+02  4.25834100e+02  4.48487637e+01  3.45049232e+02\n",
      "  3.84562752e+02  3.68534903e+02  4.23669947e+02  4.26392884e+02\n",
      "  4.93641656e+02  4.78201580e+02  4.21997344e+02  3.78540105e+02\n",
      "  4.17862038e+02  4.22958690e+02  4.35266489e+02  4.05785454e+02\n",
      "  3.93751215e+02  3.50579397e+02  4.03841748e+02  2.21207786e+01\n",
      "  2.31530246e+02  3.79285507e+02  3.66355949e+02  4.07878994e+02\n",
      "  3.91462990e+02  4.22281360e+02  3.96231678e+02  2.59242152e+02\n",
      "  2.94271010e+01  5.69671503e+01  4.80632160e+02  3.97367127e+02\n",
      "  4.03227896e+02  4.03227896e+02  4.09359015e+02  4.74594963e+02\n",
      "  4.03300438e+02  3.68824595e+02  2.74036451e+00 -1.60351424e+01\n",
      "  5.28277894e+01  2.41719061e+01  2.85603087e+02  3.97433793e+02\n",
      "  4.09217774e+02  4.10472615e+02  4.16057934e+02  4.21081517e+02\n",
      "  4.22000074e+02  4.91056974e+01  6.44559565e+01  4.00472022e+02\n",
      "  5.22571156e+01  4.02604335e+02  4.64066084e+02 -6.63320988e+01\n",
      "  3.65872071e+00  1.59865435e+01  2.85945432e+02  3.93500091e+02\n",
      "  3.94463405e+02  3.80333665e+02  3.67871772e+02  3.88764820e+02\n",
      "  4.08110884e+02  4.80824284e+02  4.67469110e+02  4.56922814e+02\n",
      "  4.79555295e+02  5.82012483e+01  3.55627919e+02  6.15834125e+01\n",
      "  3.00948452e+02  3.92570057e+02  4.25740272e+02  3.92735520e+02\n",
      " -1.51725365e+01  1.44384892e+01  3.26724592e+02  3.95312683e+02\n",
      "  3.95312683e+02  3.70087179e+02  3.83683045e+02  4.40369085e+02\n",
      " -7.28530453e+01  7.18374670e+00  4.34482777e+01  3.99851455e+02\n",
      "  4.12715901e+02  4.07087634e+02  1.90306665e+01  5.96440533e+01\n",
      "  4.29902746e+02  4.28398377e+02  4.85914080e+01  4.72807648e+01\n",
      "  4.84981172e+01  5.24585651e+01  5.43818885e+01  2.83677364e+02\n",
      "  3.46979908e+02  3.94514241e+02  4.29560677e+02  3.94952077e+02\n",
      "  3.84777738e+02  4.08550797e+02  4.79349045e+01  4.68366625e+02\n",
      "  3.66655379e+02  3.86632959e+02  4.29320876e+01  2.64557820e+01\n",
      "  4.40647694e+01  3.82479243e+02  2.85795166e+01  3.52693092e+02\n",
      "  4.02113078e+02  4.00044514e+02  1.83369962e+02  4.42842475e+02\n",
      "  4.36588251e+02  3.23425965e+02  3.20305635e+02  1.46154945e+02\n",
      "  3.24272075e+02  4.03464413e+02  4.47289525e+01  4.24069077e+02\n",
      "  3.81129789e+02  4.11869839e+02  2.55643485e+02  2.31775366e+02\n",
      "  2.37568856e+02  3.89814322e+02  4.86143718e+02  3.73611550e+02\n",
      "  4.85827532e+02  3.95586640e+02  4.10497596e+02  4.23669947e+02\n",
      "  5.96700402e+01  3.75101682e+02  7.27619773e+01  4.03365205e+02\n",
      "  3.92540915e+02 -2.27931750e+01  3.92644892e+02  3.67919310e+02\n",
      "  6.85852165e+01  3.69687572e+02  4.51806383e+02  3.61819354e+02\n",
      "  3.98220160e+02  4.36687079e+02  3.55808865e+02  3.80102945e+02\n",
      " -4.92782661e+00  3.82417686e+02  4.28489982e+02  3.73838380e+02\n",
      "  4.43343206e+02  3.87348142e+02 -7.67790472e+00  3.79665839e+02\n",
      "  3.84653812e+02  4.32283430e+02  5.75354240e+01  4.31922877e+02\n",
      "  3.79594378e+01  2.47340439e+01  5.25651494e+01  3.90067006e+02\n",
      "  4.09847058e+02  4.67839601e+02  4.09847058e+02  3.79166283e+02\n",
      " -4.92782661e+00  4.83306972e+02  4.17236346e+02  4.05328560e+02\n",
      "  4.49661776e+02  1.95941277e+01 -3.78264777e+01  3.83085057e+02\n",
      "  2.34147375e+01  4.58884545e+02  3.83285458e+02  4.48133400e+02\n",
      "  4.25181454e+02  4.10358026e+02  4.03872605e+02  2.91456354e+02\n",
      "  3.91211706e+02  5.89343558e+01  5.38335140e+01  5.38335140e+01\n",
      "  3.99750119e+02  3.80898679e+02  4.71316610e+02  6.14532907e+01\n",
      "  3.65835859e+02  4.36068436e+02  5.68382797e+01  1.83954161e+02\n",
      "  4.16965267e+02  4.78297441e+02  3.80367011e+02  2.95390062e+02\n",
      "  4.96239641e+02  2.81379268e+02  4.74392406e+02  4.92481245e+02\n",
      "  4.38991149e+02  4.13659099e+02  4.43444406e+02  3.96705791e+02\n",
      "  4.12263851e+02  4.38804009e+02  4.45849313e+02 -6.59152913e+01\n",
      " -6.07008207e+00  6.75880098e+01  3.31782779e+02  4.26239238e+02\n",
      "  4.48500030e+02  4.71054593e+02  4.69774552e+02  2.64152854e+02\n",
      "  4.55520301e+02  4.30644587e+02  4.59122652e+02  4.43269095e+02\n",
      "  4.40322593e+02  3.60875744e+02  4.09177194e+02  4.07258265e+02\n",
      "  3.66754580e+02  3.59107463e+02  4.27702954e+02  4.58147347e+02\n",
      "  3.36461198e+02  3.01786809e+02  3.56842662e+02  4.16930173e+02\n",
      "  4.34563135e+02  3.16686134e+02  3.47283623e+02  4.45064008e+02\n",
      "  4.34241254e+02  4.05560269e+02  4.01290976e+02  4.04097589e+02\n",
      "  4.14105429e+02  1.63819554e+02  1.64831678e+02  1.63077431e+02\n",
      "  2.16990928e+02  2.16292236e+02  2.16990928e+02  2.16990928e+02\n",
      "  1.61026757e+02  2.14668231e+02  1.75055078e+02 -6.40150491e+00\n",
      " -2.42052146e+01  3.03671352e+02  2.59199167e+02  2.89974036e+02\n",
      "  3.12719648e+02  3.15448419e+02  2.79031115e+02  3.04192543e+02\n",
      "  2.96933306e+02  3.43874322e+02  2.37780004e+02  3.10883130e+02\n",
      "  1.81086653e+02  1.84908894e+02  2.65995174e+02  9.05773915e+01\n",
      "  2.19423312e+02  2.00494102e+02  1.63271089e+02  1.63271089e+02\n",
      " -1.39380035e+01  4.08100634e+02  4.13499340e+02  4.35605439e+02\n",
      "  4.47699921e+02  4.75672686e+02  4.79826734e+02  4.76547166e+02\n",
      "  3.58506747e+02  5.00287233e+02  4.75030446e+02  5.27722874e+02\n",
      "  4.68380802e+02  4.67558793e+02  5.05091580e+02  5.07102954e+02\n",
      "  4.99503346e+02  5.00157411e+02  5.03779742e+02  5.18728508e+02\n",
      "  3.91355984e+02  4.72586727e+02  4.75343925e+02  4.67435405e+02\n",
      "  4.62426810e+02  4.75209500e+02  4.73855240e+02  5.14404038e+02\n",
      "  4.90814665e+02  4.05165255e+02  4.56116905e+02  4.03663331e+02\n",
      "  4.66380865e+02  4.80399388e+02  4.80725074e+02  4.66929226e+02\n",
      "  4.63016276e+02  4.61724545e+02  5.10774937e+02  4.94710419e+02\n",
      "  4.71760585e+02  4.99676848e+02  5.10772784e+02  3.97960807e+02\n",
      "  4.24445380e+02  4.13776794e+02  3.97960807e+02  4.31612189e+02\n",
      "  4.46362228e+02  4.39760711e+02  4.34800334e+02  4.56432897e+02\n",
      "  4.56432897e+02  4.66429935e+02  4.88468635e+02  4.85119713e+02\n",
      "  4.83690858e+02  4.79422778e+02  3.74993219e+02  4.55927104e+02\n",
      "  4.84266973e+02  4.70655671e+02  5.04382928e+02  5.17535265e+02\n",
      "  4.38940688e+02  4.57557409e+02  4.59524614e+02  3.20219204e+02\n",
      "  4.19610329e+02  4.90884771e+02  4.68879774e+02  4.24958709e+02\n",
      "  4.62987154e+02  5.14254514e+02 -1.89515580e+01 -7.75354461e+00\n",
      "  2.89334982e+02  4.26976242e+02  4.96815428e+02  5.34817339e+02\n",
      "  4.99845007e+02  4.14698379e+02  4.26738306e+02 -1.49321721e+01\n",
      "  5.15212170e+02  5.15910862e+02 -2.68678912e+01  4.37907847e+02\n",
      "  5.00322926e+02  1.39309507e+01 -3.47433555e+01 -2.02577088e+01\n",
      "  4.26722679e+02  4.42633639e+02  5.29433173e+02  1.70897084e+02\n",
      "  1.70897084e+02  4.28466962e+02  5.16432031e+02  4.59414063e+02\n",
      "  4.44199753e+02  5.03138847e+02  4.98086024e+02  4.66460422e+00\n",
      "  5.15663201e+02  2.88134209e+02  8.62379118e+00 -9.98857812e+00\n",
      "  2.95326561e+02  5.33364495e+02  5.12193923e+02  5.18372979e+02\n",
      "  4.00681695e+02  1.37628763e+01  4.72529288e+02  4.36967989e+02\n",
      "  4.61393758e+02  5.09554022e+02  5.16338738e+02  4.34991670e+02\n",
      "  5.37071107e+02  5.31554333e+02  5.36261968e+02  4.89349612e+02\n",
      "  5.04106471e+02  4.26697869e+02  5.14538459e+02  4.19721601e+02\n",
      "  5.04055977e+02  4.88284567e+02  4.92725407e+02  2.22201980e+02\n",
      "  4.89776480e+02  4.23499764e+02  5.02315324e+02  4.31518965e+02\n",
      "  4.96772587e+02  4.97871982e+02 -2.04240411e+01  1.58252929e+02\n",
      "  4.94805381e+02 -3.14466946e+00  4.32331093e+02 -2.85923239e+00\n",
      "  4.58980661e+02  4.05544791e+02  4.68850662e+02  3.75438849e+02\n",
      "  5.01925810e+02  4.75593531e+02  5.32076810e+02  3.60440950e+02\n",
      "  5.26857930e+02  4.34529562e+02  4.90987520e+02  4.62862626e+02\n",
      "  4.86666498e+02  4.90987520e+02  4.56941051e+02 -6.59740808e+01\n",
      " -6.01056583e+01 -4.45437412e+01 -6.36339875e+00 -2.99291207e-01\n",
      "  2.02939260e+01 -3.58203913e+00  1.71273614e+00  2.86296258e+01\n",
      "  1.12572694e+02  1.37093919e+02  2.15519824e+02  2.29382699e+02\n",
      "  2.57879792e+02  2.54190770e+02  2.04170804e+02  2.61662718e+02\n",
      "  3.82747620e+02  3.83312596e+02  3.73681759e+02  3.97372822e+02\n",
      "  3.95103100e+02  3.83816593e+02  3.82347568e+02  3.92566405e+02\n",
      "  3.43533094e+02  3.55046836e+02  3.94485666e+02  4.37627090e+02\n",
      "  4.39200446e+02  4.37015748e+02  4.44999171e+02  4.35963217e+02\n",
      "  4.60153697e+02  4.70853356e+02  4.75309910e+02  4.26212568e+02\n",
      "  4.22207450e+02  4.21379888e+02  4.12787478e+02  4.39227937e+02\n",
      "  4.41729341e+02  4.92920405e+02  4.58539447e+02  5.00334221e+02\n",
      "  4.99377788e+02  4.64341416e+02  4.73944494e+02  4.03702038e+02\n",
      "  4.04557459e+02  3.51757837e+02  3.57252466e+02  3.99762035e+02\n",
      "  5.49576475e+01]\n"
     ]
    }
   ],
   "source": [
    "# mengambil data independen dari data yang ingin diprediksi\n",
    "x_new = df[['X', 'Y', 'FFMC', 'DMC', 'DC', 'ISI', 'temp', 'RH', 'wind', 'rain']]\n",
    "\n",
    "# memuat model regresi yang telah dilatih sebelumnya\n",
    "reg = LinearRegression()\n",
    "reg.fit(x_train, y_train)\n",
    "\n",
    "# melakukan prediksi pada data yang belum dilihat sebelumnya\n",
    "y_pred_new = reg.predict(x_new)\n",
    "\n",
    "# menampilkan hasil prediksi\n",
    "print(y_pred_new)"
   ]
  },
  {
   "cell_type": "code",
   "execution_count": 1527,
   "id": "7ad23378",
   "metadata": {},
   "outputs": [
    {
     "data": {
      "text/plain": [
       "<AxesSubplot:>"
      ]
     },
     "execution_count": 1527,
     "metadata": {},
     "output_type": "execute_result"
    },
    {
     "data": {
      "image/png": "[encoded data removed]",
      "text/plain": [
       "<Figure size 432x288 with 2 Axes>"
      ]
     },
     "metadata": {
      "needs_background": "light"
     },
     "output_type": "display_data"
    }
   ],
   "source": [
    "import seaborn as sns\n",
    "\n",
    "sns.heatmap(df.corr(), cmap='coolwarm', annot=True)"
   ]
  },
  {
   "cell_type": "markdown",
   "id": "09da844a",
   "metadata": {},
   "source": [
    "### KESIMPULAN UMUM "
   ]
  },
  {
   "cell_type": "markdown",
   "id": "f90cb5ab",
   "metadata": {},
   "source": [
    "1. Data yang digunakan dalam analisis adalah data kebakaran hutan yang terjadi di Portugal pada tahun 2007, dengan total 517 observasi dan 13 variabel.\n",
    "\n",
    "2. Variabel-target dalam analisis ini adalah area, yang merupakan luas area yang terbakar dalam satuan hektar.\n",
    "\n",
    "3. Menghilangkan Variabel Month dan Day untuk menyisakan data type float dan mengganti RH menjadi data kategori\n",
    "\n",
    "4. Melihat Missing Value yang mana pada data tersebut tidak ada missning nya\n",
    "\n",
    "5. Mendeteksi Outlier, dan didapatkan outlier pada variabel \n",
    "    X        0\n",
    "    Y       51\n",
    "    FFMC    53\n",
    "    DMC     17\n",
    "    DC       8\n",
    "    ISI     23\n",
    "    temp     2\n",
    "    RH      12\n",
    "    wind    13\n",
    "    rain     8\n",
    "    area    63\n",
    "\n",
    "6. Mengatasi outlier dengan IQR pada seriap variabel nya berdasarkan hasil outlier di atas adalah berhasil mengurangi outlier pada kolom Y, FFMC, DMC, rain, dan area karena pada kolom DC, ISI, temp, RH, dan wind jika diatasi dengan mengubahnya menjadi nilai mean, median, dan juga transformasi data hasilnya malah semakin besar dan tetap. Maka dari itu, tidak semua kolom dapat diatasi outliernya karena sangat berpengaruh terhadap hasil analisis selanjutnya.\n",
    "\n",
    "7. selanjutnya, dilakukan pemodelan regresi untuk mengetahui nilai data training dan testing nya dengan 4 model yaitu linier, polinomial, ridge, dan lasso. pada pemodelan dengan menggunakan alpha 1 didapatkan model terbaiknya yaitu model regresi linier karena memiliki nilai R-Square sebesar 0.04188791414065707 dan nilai RMSE sebesar 3.0777220513215378. Hal ini menunjukkan bahwa model memiliki kemampuan yang baik dalam menjelaskan variasi data yang diamati, dan RMSE yang rendah menunjukkan bahwa model memberikan prediksi yang akurat dan dekat dengan nilai sebenarnya.\n",
    "\n",
    "8. Setelah didapatkan model terbaiknya, perlu adanya analisis lebih lanjut. Pada pengujian Interpretasi Koefisien nya dapat dikatakan bahwa variabel DMC dan DC merupakan faktor yang paling mempengaruhi nilai Y pada model regresi linear ini, sedangkan variabel ISI dan RH mempengaruhi Y secara negatif. Variabel-variabel lainnya juga mempengaruhi Y, namun dengan koefisien regresi yang lebih rendah.\n",
    "\n",
    "9. Setelah didapatkan hasil interpretasinya maka dilanjutkan untuk melakukan uji hipotesis nya. Berdasarkan koefisien regresi dan intercept pada setiap variabel prediktor (temp, rain, wind, DMC, FFMC, DC, ISI, RH), dapat disimpulkan bahwa:\n",
    "\n",
    "10. Variabel prediktor yang paling berpengaruh positif terhadap variabel target (area) adalah variabel temp dan DMC, karena memiliki koefisien regresi yang positif yang cukup besar.\n",
    "11. Variabel prediktor yang paling berpengaruh negatif terhadap variabel target adalah variabel RH dan rain, karena memiliki koefisien regresi yang negatif yang cukup besar.\n",
    "12. Variabel prediktor lainnya (wind, FFMC, DC, ISI) tidak memiliki pengaruh yang signifikan terhadap variabel target, karena memiliki koefisien regresi yang kecil atau p-value yang tinggi.\n",
    "\n",
    "13. Selanjutnay dilakukan evaluasi kesesuaian modelnya, Berdasarkan hasil evaluasi yang diberikan, variabel yang menunjukkan semakin baiknya model dalam melakukan prediksi pada data testing adalah DMC, karena memiliki nilai R-square (testing) tertinggi yaitu sebesar 0.013996065854399498 dan nilai MSE (testing) serta RMSE (testing) terendah di antara variabel lainnya. Hal ini menunjukkan bahwa model memiliki kemampuan yang lebih baik dalam menjelaskan variabilitas data DMC pada data testing dibandingkan dengan variabel lainnya.\n",
    "\n",
    "14. Terakhir, dilakukan prediksi pada data yang belum dilihat sebelumnya dengan menggunakan model regresi berganda yang sudah disesuaikan dengan hasil uji signifikansi.\n"
   ]
  }
 ],
 "metadata": {
  "kernelspec": {
   "display_name": "Python 3 (ipykernel)",
   "language": "python",
   "name": "python3"
  },
  "language_info": {
   "codemirror_mode": {
    "name": "ipython",
    "version": 3
   },
   "file_extension": ".py",
   "mimetype": "text/x-python",
   "name": "python",
   "nbconvert_exporter": "python",
   "pygments_lexer": "ipython3",
   "version": "3.9.12"
  }
 },
 "nbformat": 4,
 "nbformat_minor": 5
}
