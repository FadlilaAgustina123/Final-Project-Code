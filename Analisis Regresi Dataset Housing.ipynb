{
 "cells": [
  {
   "cell_type": "markdown",
   "id": "a01fb615-a029-41cf-9d2f-9e1950fb4084",
   "metadata": {},
   "source": [
    "### *Fadlila Agustina*\n",
    "### *21083010050*\n",
    "### *Machine Learning I (C)*"
   ]
  },
  {
   "cell_type": "markdown",
   "id": "a7784ada-930f-437c-82cb-202c45706c21",
   "metadata": {},
   "source": [
    "### Menampilkan Dataset "
   ]
  },
  {
   "cell_type": "code",
   "execution_count": 1,
   "id": "f47cbf4f-9787-43d2-bdd4-b8e9a29f6bc7",
   "metadata": {},
   "outputs": [
    {
     "name": "stdout",
     "output_type": "stream",
     "text": [
      "        CRIM    ZN  INDUS  CHAS    NOX     RM   AGE     DIS  RAD    TAX  \\\n",
      "0    0.00632  18.0   2.31     0  0.538  6.575  65.2  4.0900    1  296.0   \n",
      "1    0.02731   0.0   7.07     0  0.469  6.421  78.9  4.9671    2  242.0   \n",
      "2    0.02729   0.0   7.07     0  0.469  7.185  61.1  4.9671    2  242.0   \n",
      "3    0.03237   0.0   2.18     0  0.458  6.998  45.8  6.0622    3  222.0   \n",
      "4    0.06905   0.0   2.18     0  0.458  7.147  54.2  6.0622    3  222.0   \n",
      "..       ...   ...    ...   ...    ...    ...   ...     ...  ...    ...   \n",
      "501  0.06263   0.0  11.93     0  0.573  6.593  69.1  2.4786    1  273.0   \n",
      "502  0.04527   0.0  11.93     0  0.573  6.120  76.7  2.2875    1  273.0   \n",
      "503  0.06076   0.0  11.93     0  0.573  6.976  91.0  2.1675    1  273.0   \n",
      "504  0.10959   0.0  11.93     0  0.573  6.794  89.3  2.3889    1  273.0   \n",
      "505  0.04741   0.0  11.93     0  0.573  6.030  80.8  2.5050    1  273.0   \n",
      "\n",
      "     PTRATIO       B  LSTAT  MEDV  \n",
      "0       15.3  396.90   4.98  24.0  \n",
      "1       17.8  396.90   9.14  21.6  \n",
      "2       17.8  392.83   4.03  34.7  \n",
      "3       18.7  394.63   2.94  33.4  \n",
      "4       18.7  396.90   5.33  36.2  \n",
      "..       ...     ...    ...   ...  \n",
      "501     21.0  391.99   9.67  22.4  \n",
      "502     21.0  396.90   9.08  20.6  \n",
      "503     21.0  396.90   5.64  23.9  \n",
      "504     21.0  393.45   6.48  22.0  \n",
      "505     21.0  396.90   7.88  11.9  \n",
      "\n",
      "[506 rows x 14 columns]\n"
     ]
    }
   ],
   "source": [
    "# mengimpor pandas sbg pd dan numpy sbg np yg digunakan dalam pengolahan data\n",
    "import pandas as pd\n",
    "import numpy as np\n",
    "\n",
    "# Nama_variabel diinisialisasikan sbg list yg berisi nama-nama kolom\n",
    "Nama_Variabel=['CRIM', 'ZN', 'INDUS', 'CHAS', 'NOX', 'RM', 'AGE', 'DIS', 'RAD', 'TAX', 'PTRATIO', 'B', 'LSTAT', 'MEDV']\n",
    "# fungsi pd.read_csv digunakan utk membaca file sbg objek DataFrame\n",
    "# parameter header=None digunakan  utk menunjukkan bahwa data tdk memiliki baris header \n",
    "# delim_whitespace=True menunjukkan bahwa delimiter yg digunakan adalah spasi\n",
    "# parameter names digunakan utk menentukan nama kolom dr dataset yg akan dimuat ke dlm DataFrame dan disesuaikan dgn var Nama_Variabel\n",
    "df = pd.read_csv('housing.csv', header = None, delim_whitespace=True, names=Nama_Variabel)\n",
    "\n",
    "# utk menampilkan DataFrame\n",
    "print(df)"
   ]
  },
  {
   "cell_type": "code",
   "execution_count": 53,
   "id": "dcccfed3-1586-4a27-9389-d29cc8d45b88",
   "metadata": {},
   "outputs": [
    {
     "data": {
      "text/html": [
       "<div>\n",
       "<style scoped>\n",
       "    .dataframe tbody tr th:only-of-type {\n",
       "        vertical-align: middle;\n",
       "    }\n",
       "\n",
       "    .dataframe tbody tr th {\n",
       "        vertical-align: top;\n",
       "    }\n",
       "\n",
       "    .dataframe thead th {\n",
       "        text-align: right;\n",
       "    }\n",
       "</style>\n",
       "<table border=\"1\" class=\"dataframe\">\n",
       "  <thead>\n",
       "    <tr style=\"text-align: right;\">\n",
       "      <th></th>\n",
       "      <th>CRIM</th>\n",
       "      <th>ZN</th>\n",
       "      <th>INDUS</th>\n",
       "      <th>CHAS</th>\n",
       "      <th>NOX</th>\n",
       "      <th>RM</th>\n",
       "      <th>AGE</th>\n",
       "      <th>DIS</th>\n",
       "      <th>RAD</th>\n",
       "      <th>TAX</th>\n",
       "      <th>PTRATIO</th>\n",
       "      <th>B</th>\n",
       "      <th>LSTAT</th>\n",
       "      <th>MEDV</th>\n",
       "    </tr>\n",
       "  </thead>\n",
       "  <tbody>\n",
       "    <tr>\n",
       "      <th>0</th>\n",
       "      <td>0.00632</td>\n",
       "      <td>18.0</td>\n",
       "      <td>2.31</td>\n",
       "      <td>0</td>\n",
       "      <td>0.538</td>\n",
       "      <td>6.575</td>\n",
       "      <td>65.2</td>\n",
       "      <td>4.0900</td>\n",
       "      <td>1</td>\n",
       "      <td>296.0</td>\n",
       "      <td>15.3</td>\n",
       "      <td>396.90</td>\n",
       "      <td>4.98</td>\n",
       "      <td>24.0</td>\n",
       "    </tr>\n",
       "    <tr>\n",
       "      <th>1</th>\n",
       "      <td>0.02731</td>\n",
       "      <td>0.0</td>\n",
       "      <td>7.07</td>\n",
       "      <td>0</td>\n",
       "      <td>0.469</td>\n",
       "      <td>6.421</td>\n",
       "      <td>78.9</td>\n",
       "      <td>4.9671</td>\n",
       "      <td>2</td>\n",
       "      <td>242.0</td>\n",
       "      <td>17.8</td>\n",
       "      <td>396.90</td>\n",
       "      <td>9.14</td>\n",
       "      <td>21.6</td>\n",
       "    </tr>\n",
       "    <tr>\n",
       "      <th>2</th>\n",
       "      <td>0.02729</td>\n",
       "      <td>0.0</td>\n",
       "      <td>7.07</td>\n",
       "      <td>0</td>\n",
       "      <td>0.469</td>\n",
       "      <td>7.185</td>\n",
       "      <td>61.1</td>\n",
       "      <td>4.9671</td>\n",
       "      <td>2</td>\n",
       "      <td>242.0</td>\n",
       "      <td>17.8</td>\n",
       "      <td>392.83</td>\n",
       "      <td>4.03</td>\n",
       "      <td>34.7</td>\n",
       "    </tr>\n",
       "    <tr>\n",
       "      <th>3</th>\n",
       "      <td>0.03237</td>\n",
       "      <td>0.0</td>\n",
       "      <td>2.18</td>\n",
       "      <td>0</td>\n",
       "      <td>0.458</td>\n",
       "      <td>6.998</td>\n",
       "      <td>45.8</td>\n",
       "      <td>6.0622</td>\n",
       "      <td>3</td>\n",
       "      <td>222.0</td>\n",
       "      <td>18.7</td>\n",
       "      <td>394.63</td>\n",
       "      <td>2.94</td>\n",
       "      <td>33.4</td>\n",
       "    </tr>\n",
       "    <tr>\n",
       "      <th>4</th>\n",
       "      <td>0.06905</td>\n",
       "      <td>0.0</td>\n",
       "      <td>2.18</td>\n",
       "      <td>0</td>\n",
       "      <td>0.458</td>\n",
       "      <td>7.147</td>\n",
       "      <td>54.2</td>\n",
       "      <td>6.0622</td>\n",
       "      <td>3</td>\n",
       "      <td>222.0</td>\n",
       "      <td>18.7</td>\n",
       "      <td>396.90</td>\n",
       "      <td>5.33</td>\n",
       "      <td>36.2</td>\n",
       "    </tr>\n",
       "  </tbody>\n",
       "</table>\n",
       "</div>"
      ],
      "text/plain": [
       "      CRIM    ZN  INDUS  CHAS    NOX     RM   AGE     DIS  RAD    TAX  \\\n",
       "0  0.00632  18.0   2.31     0  0.538  6.575  65.2  4.0900    1  296.0   \n",
       "1  0.02731   0.0   7.07     0  0.469  6.421  78.9  4.9671    2  242.0   \n",
       "2  0.02729   0.0   7.07     0  0.469  7.185  61.1  4.9671    2  242.0   \n",
       "3  0.03237   0.0   2.18     0  0.458  6.998  45.8  6.0622    3  222.0   \n",
       "4  0.06905   0.0   2.18     0  0.458  7.147  54.2  6.0622    3  222.0   \n",
       "\n",
       "   PTRATIO       B  LSTAT  MEDV  \n",
       "0     15.3  396.90   4.98  24.0  \n",
       "1     17.8  396.90   9.14  21.6  \n",
       "2     17.8  392.83   4.03  34.7  \n",
       "3     18.7  394.63   2.94  33.4  \n",
       "4     18.7  396.90   5.33  36.2  "
      ]
     },
     "execution_count": 53,
     "metadata": {},
     "output_type": "execute_result"
    }
   ],
   "source": [
    "# fungsi yg digunakan utk menampilkan 5 baris utama dari DataFrame\n",
    "df.head()"
   ]
  },
  {
   "cell_type": "markdown",
   "id": "b8fe217c-7d0d-4d10-bad2-97ff4f624580",
   "metadata": {},
   "source": [
    "### Tahapan Pre-Processing Data"
   ]
  },
  {
   "cell_type": "code",
   "execution_count": 54,
   "id": "2609cd22-d2be-4b09-870c-62b2b3472fa7",
   "metadata": {},
   "outputs": [
    {
     "data": {
      "text/plain": [
       "(506, 14)"
      ]
     },
     "execution_count": 54,
     "metadata": {},
     "output_type": "execute_result"
    }
   ],
   "source": [
    "# fungsi yg digunakan utk menampilkan dimensi dr DataFrame dan akan menunjukkan jumlah baris dan kolom dr DataFrame\n",
    "np.shape(df)"
   ]
  },
  {
   "cell_type": "code",
   "execution_count": 55,
   "id": "eef52167-64d1-4c23-b572-9772e73ac2f3",
   "metadata": {},
   "outputs": [
    {
     "data": {
      "text/plain": [
       "CRIM       float64\n",
       "ZN         float64\n",
       "INDUS      float64\n",
       "CHAS         int64\n",
       "NOX        float64\n",
       "RM         float64\n",
       "AGE        float64\n",
       "DIS        float64\n",
       "RAD          int64\n",
       "TAX        float64\n",
       "PTRATIO    float64\n",
       "B          float64\n",
       "LSTAT      float64\n",
       "MEDV       float64\n",
       "dtype: object"
      ]
     },
     "execution_count": 55,
     "metadata": {},
     "output_type": "execute_result"
    }
   ],
   "source": [
    "# fungsi yg digunakan utk menampilkan tipe data dr setiap kolom\n",
    "df.dtypes"
   ]
  },
  {
   "cell_type": "code",
   "execution_count": 56,
   "id": "a9254d53-21e3-49cc-8bc2-bca54d05d6cb",
   "metadata": {},
   "outputs": [
    {
     "data": {
      "text/plain": [
       "CRIM        float64\n",
       "ZN          float64\n",
       "INDUS       float64\n",
       "CHAS       category\n",
       "NOX         float64\n",
       "RM          float64\n",
       "AGE         float64\n",
       "DIS         float64\n",
       "RAD           int64\n",
       "TAX         float64\n",
       "PTRATIO     float64\n",
       "B           float64\n",
       "LSTAT       float64\n",
       "MEDV        float64\n",
       "dtype: object"
      ]
     },
     "execution_count": 56,
     "metadata": {},
     "output_type": "execute_result"
    }
   ],
   "source": [
    "# mengubah tipe data pada kolom CHAS yg awalnya int64 menjadi tipe data categori\n",
    "# kategori adalah salah satu tipe data pandas yg digunakan utk menyimpan data dgn nilai diskrit (terbatas)\n",
    "df[\"CHAS\"] = df[\"CHAS\"].astype('category')\n",
    "\n",
    "# fungsi yg digunakan utk menampilkan tipe data dr setiap kolom\n",
    "df.dtypes"
   ]
  },
  {
   "cell_type": "code",
   "execution_count": 57,
   "id": "2784858c-29b2-46e5-9b40-ed700c616346",
   "metadata": {},
   "outputs": [
    {
     "data": {
      "text/html": [
       "<div>\n",
       "<style scoped>\n",
       "    .dataframe tbody tr th:only-of-type {\n",
       "        vertical-align: middle;\n",
       "    }\n",
       "\n",
       "    .dataframe tbody tr th {\n",
       "        vertical-align: top;\n",
       "    }\n",
       "\n",
       "    .dataframe thead th {\n",
       "        text-align: right;\n",
       "    }\n",
       "</style>\n",
       "<table border=\"1\" class=\"dataframe\">\n",
       "  <thead>\n",
       "    <tr style=\"text-align: right;\">\n",
       "      <th></th>\n",
       "      <th>CRIM</th>\n",
       "      <th>ZN</th>\n",
       "      <th>INDUS</th>\n",
       "      <th>NOX</th>\n",
       "      <th>RM</th>\n",
       "      <th>AGE</th>\n",
       "      <th>DIS</th>\n",
       "      <th>RAD</th>\n",
       "      <th>TAX</th>\n",
       "      <th>PTRATIO</th>\n",
       "      <th>B</th>\n",
       "      <th>LSTAT</th>\n",
       "      <th>MEDV</th>\n",
       "    </tr>\n",
       "  </thead>\n",
       "  <tbody>\n",
       "    <tr>\n",
       "      <th>count</th>\n",
       "      <td>506.000000</td>\n",
       "      <td>506.000000</td>\n",
       "      <td>506.000000</td>\n",
       "      <td>506.000000</td>\n",
       "      <td>506.000000</td>\n",
       "      <td>506.000000</td>\n",
       "      <td>506.000000</td>\n",
       "      <td>506.000000</td>\n",
       "      <td>506.000000</td>\n",
       "      <td>506.000000</td>\n",
       "      <td>506.000000</td>\n",
       "      <td>506.000000</td>\n",
       "      <td>506.000000</td>\n",
       "    </tr>\n",
       "    <tr>\n",
       "      <th>mean</th>\n",
       "      <td>3.613524</td>\n",
       "      <td>11.363636</td>\n",
       "      <td>11.136779</td>\n",
       "      <td>0.554695</td>\n",
       "      <td>6.284634</td>\n",
       "      <td>68.574901</td>\n",
       "      <td>3.795043</td>\n",
       "      <td>9.549407</td>\n",
       "      <td>408.237154</td>\n",
       "      <td>18.455534</td>\n",
       "      <td>356.674032</td>\n",
       "      <td>12.653063</td>\n",
       "      <td>22.532806</td>\n",
       "    </tr>\n",
       "    <tr>\n",
       "      <th>std</th>\n",
       "      <td>8.601545</td>\n",
       "      <td>23.322453</td>\n",
       "      <td>6.860353</td>\n",
       "      <td>0.115878</td>\n",
       "      <td>0.702617</td>\n",
       "      <td>28.148861</td>\n",
       "      <td>2.105710</td>\n",
       "      <td>8.707259</td>\n",
       "      <td>168.537116</td>\n",
       "      <td>2.164946</td>\n",
       "      <td>91.294864</td>\n",
       "      <td>7.141062</td>\n",
       "      <td>9.197104</td>\n",
       "    </tr>\n",
       "    <tr>\n",
       "      <th>min</th>\n",
       "      <td>0.006320</td>\n",
       "      <td>0.000000</td>\n",
       "      <td>0.460000</td>\n",
       "      <td>0.385000</td>\n",
       "      <td>3.561000</td>\n",
       "      <td>2.900000</td>\n",
       "      <td>1.129600</td>\n",
       "      <td>1.000000</td>\n",
       "      <td>187.000000</td>\n",
       "      <td>12.600000</td>\n",
       "      <td>0.320000</td>\n",
       "      <td>1.730000</td>\n",
       "      <td>5.000000</td>\n",
       "    </tr>\n",
       "    <tr>\n",
       "      <th>25%</th>\n",
       "      <td>0.082045</td>\n",
       "      <td>0.000000</td>\n",
       "      <td>5.190000</td>\n",
       "      <td>0.449000</td>\n",
       "      <td>5.885500</td>\n",
       "      <td>45.025000</td>\n",
       "      <td>2.100175</td>\n",
       "      <td>4.000000</td>\n",
       "      <td>279.000000</td>\n",
       "      <td>17.400000</td>\n",
       "      <td>375.377500</td>\n",
       "      <td>6.950000</td>\n",
       "      <td>17.025000</td>\n",
       "    </tr>\n",
       "    <tr>\n",
       "      <th>50%</th>\n",
       "      <td>0.256510</td>\n",
       "      <td>0.000000</td>\n",
       "      <td>9.690000</td>\n",
       "      <td>0.538000</td>\n",
       "      <td>6.208500</td>\n",
       "      <td>77.500000</td>\n",
       "      <td>3.207450</td>\n",
       "      <td>5.000000</td>\n",
       "      <td>330.000000</td>\n",
       "      <td>19.050000</td>\n",
       "      <td>391.440000</td>\n",
       "      <td>11.360000</td>\n",
       "      <td>21.200000</td>\n",
       "    </tr>\n",
       "    <tr>\n",
       "      <th>75%</th>\n",
       "      <td>3.677083</td>\n",
       "      <td>12.500000</td>\n",
       "      <td>18.100000</td>\n",
       "      <td>0.624000</td>\n",
       "      <td>6.623500</td>\n",
       "      <td>94.075000</td>\n",
       "      <td>5.188425</td>\n",
       "      <td>24.000000</td>\n",
       "      <td>666.000000</td>\n",
       "      <td>20.200000</td>\n",
       "      <td>396.225000</td>\n",
       "      <td>16.955000</td>\n",
       "      <td>25.000000</td>\n",
       "    </tr>\n",
       "    <tr>\n",
       "      <th>max</th>\n",
       "      <td>88.976200</td>\n",
       "      <td>100.000000</td>\n",
       "      <td>27.740000</td>\n",
       "      <td>0.871000</td>\n",
       "      <td>8.780000</td>\n",
       "      <td>100.000000</td>\n",
       "      <td>12.126500</td>\n",
       "      <td>24.000000</td>\n",
       "      <td>711.000000</td>\n",
       "      <td>22.000000</td>\n",
       "      <td>396.900000</td>\n",
       "      <td>37.970000</td>\n",
       "      <td>50.000000</td>\n",
       "    </tr>\n",
       "  </tbody>\n",
       "</table>\n",
       "</div>"
      ],
      "text/plain": [
       "             CRIM          ZN       INDUS         NOX          RM         AGE  \\\n",
       "count  506.000000  506.000000  506.000000  506.000000  506.000000  506.000000   \n",
       "mean     3.613524   11.363636   11.136779    0.554695    6.284634   68.574901   \n",
       "std      8.601545   23.322453    6.860353    0.115878    0.702617   28.148861   \n",
       "min      0.006320    0.000000    0.460000    0.385000    3.561000    2.900000   \n",
       "25%      0.082045    0.000000    5.190000    0.449000    5.885500   45.025000   \n",
       "50%      0.256510    0.000000    9.690000    0.538000    6.208500   77.500000   \n",
       "75%      3.677083   12.500000   18.100000    0.624000    6.623500   94.075000   \n",
       "max     88.976200  100.000000   27.740000    0.871000    8.780000  100.000000   \n",
       "\n",
       "              DIS         RAD         TAX     PTRATIO           B       LSTAT  \\\n",
       "count  506.000000  506.000000  506.000000  506.000000  506.000000  506.000000   \n",
       "mean     3.795043    9.549407  408.237154   18.455534  356.674032   12.653063   \n",
       "std      2.105710    8.707259  168.537116    2.164946   91.294864    7.141062   \n",
       "min      1.129600    1.000000  187.000000   12.600000    0.320000    1.730000   \n",
       "25%      2.100175    4.000000  279.000000   17.400000  375.377500    6.950000   \n",
       "50%      3.207450    5.000000  330.000000   19.050000  391.440000   11.360000   \n",
       "75%      5.188425   24.000000  666.000000   20.200000  396.225000   16.955000   \n",
       "max     12.126500   24.000000  711.000000   22.000000  396.900000   37.970000   \n",
       "\n",
       "             MEDV  \n",
       "count  506.000000  \n",
       "mean    22.532806  \n",
       "std      9.197104  \n",
       "min      5.000000  \n",
       "25%     17.025000  \n",
       "50%     21.200000  \n",
       "75%     25.000000  \n",
       "max     50.000000  "
      ]
     },
     "execution_count": 57,
     "metadata": {},
     "output_type": "execute_result"
    }
   ],
   "source": [
    "# fungsi yg digunakan utk menampilkan ringkasan statistik deskriptif dr setiap kolom\n",
    "df.describe()"
   ]
  },
  {
   "cell_type": "code",
   "execution_count": 58,
   "id": "3b977be3-6eca-4564-a75f-882a44f3530a",
   "metadata": {},
   "outputs": [
    {
     "data": {
      "text/plain": [
       "0    471\n",
       "1     35\n",
       "Name: CHAS, dtype: int64"
      ]
     },
     "execution_count": 58,
     "metadata": {},
     "output_type": "execute_result"
    }
   ],
   "source": [
    "# fungsi yg digunakan utk menghitung jumlah data pada setiap kategori pada kolom CHAS karena sudah diubah menjadi tipe data kategori\n",
    "df['CHAS'].value_counts()"
   ]
  },
  {
   "cell_type": "code",
   "execution_count": 59,
   "id": "c0fca5e3-0cd6-4482-b51f-068329aba711",
   "metadata": {},
   "outputs": [
    {
     "data": {
      "text/plain": [
       "CRIM       False\n",
       "ZN         False\n",
       "INDUS      False\n",
       "CHAS       False\n",
       "NOX        False\n",
       "RM         False\n",
       "AGE        False\n",
       "DIS        False\n",
       "RAD        False\n",
       "TAX        False\n",
       "PTRATIO    False\n",
       "B          False\n",
       "LSTAT      False\n",
       "MEDV       False\n",
       "dtype: bool"
      ]
     },
     "execution_count": 59,
     "metadata": {},
     "output_type": "execute_result"
    }
   ],
   "source": [
    "# fungsi yg digunakan utk mengecek apakah terdapat nilai kosong (missing value) pada tiap kolom\n",
    "# jika True, maka kolom tsb mengandung setidaknya satu nilai kosong\n",
    "# jika False, maka kolom tsb tdk mengandung nilai kosong\n",
    "df.isnull().any()"
   ]
  },
  {
   "cell_type": "code",
   "execution_count": 60,
   "id": "13d2cebb-118e-4ed7-9b97-bb560af319bc",
   "metadata": {},
   "outputs": [],
   "source": [
    "# mengimport modul preprocessing dr library scikit-learn\n",
    "# preprocessing adalah modul yg berisi berbagai macam fungsi utk melakukan preprocessing pada data\n",
    "from sklearn import preprocessing\n",
    "# membuat objek MinMaxScaler() dr kelas preprocessing.MinMaxScaler() yg digunakan utk melakukan transformasi data dgn metode scaling minimum-maximum\n",
    "transformasi_min_max = preprocessing.MinMaxScaler()"
   ]
  },
  {
   "cell_type": "markdown",
   "id": "ccb59550-6610-486a-803a-4a34149ed39c",
   "metadata": {},
   "source": [
    "### Pemodelan Data dengan Regresi"
   ]
  },
  {
   "cell_type": "code",
   "execution_count": 61,
   "id": "15408665-ef30-487a-9e55-179f98c804f1",
   "metadata": {},
   "outputs": [],
   "source": [
    "# menginisialisasikan var target dgn nilai string MEDV dan digunakan utk menyimpan nama kolom yg menjadi target atau var dependen dlm datase\n",
    "target = 'MEDV'\n",
    "# menghapus kolom MEDV menggunakan metode drop\n",
    "# axis = 1 digunakan utk menandakan bahwa penghapusan dilakukan pada kolom\n",
    "x = df.drop('MEDV', axis =1)\n",
    "# pengambilan kolom MEDV dr dataset dan dimasukkan ke dlm var y\n",
    "y = df[target]\n",
    "# menginisialisasikan var varx dgn list yg berisi nama kolom pada dataset dan list ini digunakan sbg nama kolom pada dataset x\n",
    "varx = ['CRIM', 'ZN', 'INDUS', 'CHAS', 'NOX', 'RM', 'AGE', 'DIS', 'RAD', 'TAX', 'PTRATIO', 'B', 'LSTAT']\n",
    "# normalisasi data menggunakan metode MinMaxScaler() dr library sklearn.preprocessing\n",
    "# data yg dinormalisasikan dimasukkan ke dlm DataFrame baru dgn nama kolom yg ditentukan pada varx\n",
    "x = pd.DataFrame(data = transformasi_min_max.fit_transform(x), columns = varx)"
   ]
  },
  {
   "cell_type": "code",
   "execution_count": 62,
   "id": "38fafdd9-9dd9-415f-b9ce-5e90fc947ae3",
   "metadata": {},
   "outputs": [],
   "source": [
    "# mengimpor modul train_test_split dari library sklearn.model_sleection yg digunakan utk membagi dataset menjadi data training dan data testing\n",
    "from sklearn.model_selection import train_test_split\n",
    "# melakukan pemisahan dataset menjadi 4 bagian (x_train, x_test, y_train, y_test)\n",
    "# var x merupakan data independen yg dipakai utk memprediksi var target y\n",
    "x_train, x_test, y_train, y_test = train_test_split(x, y, test_size = 0.80, random_state = 1)"
   ]
  },
  {
   "cell_type": "code",
   "execution_count": 63,
   "id": "521b1ef8-e9fa-439d-89b0-10bccd1153e5",
   "metadata": {},
   "outputs": [
    {
     "data": {
      "text/plain": [
       "LinearRegression()"
      ]
     },
     "execution_count": 63,
     "metadata": {},
     "output_type": "execute_result"
    }
   ],
   "source": [
    "# mengimpor modul LinearRegression dr library sklearn.linear_modal yg digunakan utk membuat model regresi linear\n",
    "from sklearn.linear_model import LinearRegression\n",
    "# mengimpor modul mean_squared_error dan r2_score dr library sklearn.metrics yg digunakan utk mengukur kinerja model\n",
    "from sklearn.metrics import mean_squared_error, r2_score\n",
    "\n",
    "# membuat objek model regresi linear yg disimpan dlm var linear_model\n",
    "linear_model = LinearRegression()\n",
    "# melatih model regresi linear dgn memasukkan data latih x dan y ke dlm model menggunakan metode fit()\n",
    "linear_model.fit(x_train, y_train)"
   ]
  },
  {
   "cell_type": "code",
   "execution_count": 71,
   "id": "9c619ab5-da1d-4e33-8f4f-21c36d803ada",
   "metadata": {},
   "outputs": [],
   "source": [
    "# mengimpor modul PolynomialFeatures dr library sklearn.preprocessing yg digunakan utk membuat fitur polinomial\n",
    "from sklearn.preprocessing import PolynomialFeatures\n",
    "# membuat objek PolynomialFeatures dgn prameter degree 2 yg menunjukkan bahwa fitur polinomial yg dibuat adalah dr derajat 0 sampai 2\n",
    "polynomial_features = PolynomialFeatures(degree = 2)\n",
    "# mentransformasikan x_train menjadi fitur polinomial dgn menggunakan objek polynomial_features di atas dan disimpan ke dlm var x_poly_train\n",
    "x_poly_train = polynomial_features.fit_transform(x_train)\n",
    "# membuat objek model regresi linear yg disimpan dlm var poly_model\n",
    "poly_model = LinearRegression()\n",
    "# melatih model regresi linear dgn memasukkan x_poly_train dan y_train ke dlm model menggunakan metode fit()\n",
    "poly_model.fit(x_poly_train, y_train)\n",
    "# mentransformasikan x_test menjadi fitur polinomial menggunakan objek polynomial_features dan disimpan dlm var x_poly_test\n",
    "x_poly_test = polynomial_features.fit_transform(x_test)"
   ]
  },
  {
   "cell_type": "code",
   "execution_count": 72,
   "id": "db491236-abe1-41db-a1de-fc62279d1d98",
   "metadata": {},
   "outputs": [
    {
     "data": {
      "text/plain": [
       "Ridge(alpha=1)"
      ]
     },
     "execution_count": 72,
     "metadata": {},
     "output_type": "execute_result"
    }
   ],
   "source": [
    "# mengimpor modul ridge dr library sklearn.linear_model yg digunakan utk membuat model regresi ridge\n",
    "from sklearn.linear_model import Ridge\n",
    "\n",
    "# membuat objek model regresi ridge dgn alpha = 1\n",
    "# alpha adalah hyperparameter yg mengontrol kompleksitas model, semakin besar nilai alpha, maka semakin besar pembatasan pada koef model dan semakin sederhana modelnya\n",
    "model_ridge = Ridge(alpha = 1)\n",
    "# melatih model regresi ridge dgn memasukkan x_train dan y_train ke dlm model menggunakan metode fit()\n",
    "# algoritma optimasi akan menyesuaikan koef utk meminimalkan jumlah kuadrat residual antara nilai prediksi dan nilai target\n",
    "model_ridge.fit(x_train, y_train)"
   ]
  },
  {
   "cell_type": "code",
   "execution_count": 73,
   "id": "2c93c061-8e68-41f0-a121-dd5320218ef4",
   "metadata": {},
   "outputs": [
    {
     "data": {
      "text/plain": [
       "Lasso(alpha=1)"
      ]
     },
     "execution_count": 73,
     "metadata": {},
     "output_type": "execute_result"
    }
   ],
   "source": [
    "# mengimpor modul lasso dr library sklearn.linear_model yg digunakan utk membuat model regresi lasso\n",
    "from sklearn.linear_model import Lasso\n",
    "\n",
    "# membuat objek model regresi lasso dgn alpha = 1\n",
    "# alpha adalah hyperparameter yg mengontrol kompleksitas model, semakin besar nilai alpha, maka semakin besar pembatasan pada koef model dan semakin sederhana modelnya\n",
    "model_lasso = Lasso(alpha = 1)\n",
    "# melatih model regresi lasso dgn memasukkan x_train dan y_train ke dlm model menggunakan metode fit()\n",
    "# algoritma optimasi akan menyesuaikan koef utk meminimalkan jumlah absolut residual antara nilai prediksi dan nilai target dgn mempertahankan koef yg signifikan dan menghilangkan yg tdk signifikan\n",
    "model_lasso.fit(x_train, y_train)"
   ]
  },
  {
   "cell_type": "markdown",
   "id": "71245df0-a935-4921-8cae-9a829b124703",
   "metadata": {},
   "source": [
    "### Evaluasi Data Testing dengan Model Regresi Linear"
   ]
  },
  {
   "cell_type": "code",
   "execution_count": 74,
   "id": "71df28ca-70cc-450d-9e0a-9c6dedebe644",
   "metadata": {},
   "outputs": [
    {
     "name": "stdout",
     "output_type": "stream",
     "text": [
      "--------------------------------------\n",
      "PERFORMA MODEL UNTUK DATA TRAINING :\n",
      "--------------------------------------\n",
      "NILAI RMSE -> 4.67053618630709\n",
      "NILAI R2 -> 0.7528990263438373\n",
      "\n",
      "--------------------------------------\n",
      "PERFORMA MODEL UNTUK DATA TESTING :\n",
      "--------------------------------------\n",
      "NILAI RMSE -> 4.814941555935469\n",
      "NILAI R2 -> 0.7219648298245814\n"
     ]
    }
   ],
   "source": [
    "# melakukan prediksi pada data x_train menggunakan linear_model yg sudah dilatih sblmnya, hasil prediksi akan disimpan ke dlm var pred_y_train\n",
    "pred_y_train = linear_model.predict(x_train)\n",
    "# menghitung rmse utk data training, rmse adalah metrik evaluasi utk mengukur sbrp dekat prediksi model dgn nilai sebenarnya\n",
    "# semakin kecil nilai rmse, maka semakin baik performa modelnya\n",
    "# menggunakan fungsi mean_squared_error() utk menghtung nilai mse kemudian mengambil akar kuadratnya menggunakan fungsi np.sqrt()\n",
    "rmse = (np.sqrt(mean_squared_error(y_train, pred_y_train)))\n",
    "# menghitung nilai r2 utk data training menggunakan fungsi r2_score\n",
    "# r2 adalah metrik evaluasi yg mengukur sbrp baik model dpt menjelaskan variasi data\n",
    "# nilai r2 berkisar antara 0 dan 1, semakin besar nilai r2, maka menunjukkan semakin baik performa modelnya\n",
    "r2 = r2_score(y_train, pred_y_train)\n",
    "\n",
    "# melakukan prediksi pada x_test menggunakan linear_model yg sudah dilatih sblmnya, hasil prediksi disimpan dlm var pred_y_test\n",
    "pred_y_test = linear_model.predict(x_test)\n",
    "# menghitung nilai rmse utk data testing\n",
    "# menggunakan fungsi mean_squared_error() utk menghitung nilai mse kemudian mengambil akar kuadratnya menggunakan fungsi np.sqrt()\n",
    "rmse_2 = (np.sqrt(mean_squared_error(y_test, pred_y_test)))\n",
    "# menghitung nilai r2 utk data testing menggunakan fungsi r2_score\n",
    "r2_2 = r2_score(y_test, pred_y_test)\n",
    "\n",
    "print(\"--------------------------------------\")\n",
    "print(\"PERFORMA MODEL UNTUK DATA TRAINING :\")\n",
    "print(\"--------------------------------------\")\n",
    "# mencetak string yg dihasilkan dr nilai rmse data training menggunakan fungsi format() yg digunakan utk memasukkan nilai rmse ke dlm string tsb\n",
    "print(\"NILAI RMSE -> {}\".format(rmse)) \n",
    "# mencetak string yg dihasilkan dr nilai r2 data training menggunakan fungsi format() yg digunakan utk memasukkan nilai r2 ke dlm string tsb\n",
    "print(\"NILAI R2 -> {}\".format(r2))\n",
    "print(\"\\n--------------------------------------\")\n",
    "print(\"PERFORMA MODEL UNTUK DATA TESTING :\")\n",
    "print(\"--------------------------------------\")\n",
    "# mencetak string yg dihasilkan dr nilai rmse data testing menggunakan fungsi format() yg digunakan utk memasukkan nilai rmse ke dlm string tsb\n",
    "print(\"NILAI RMSE -> {}\".format(rmse_2))\n",
    "# # mencetak string yg dihasilkan dr nilai r2 data testing menggunakan fungsi format() yg digunakan utk memasukkan nilai r2 ke dlm string tsb\n",
    "print(\"NILAI R2 -> {}\".format(r2_2))"
   ]
  },
  {
   "cell_type": "code",
   "execution_count": 75,
   "id": "bdea74e7-74cb-42e2-af5a-8e65bfae3c96",
   "metadata": {},
   "outputs": [
    {
     "name": "stdout",
     "output_type": "stream",
     "text": [
      "-----------------------------------------------------------\n",
      "PERFORMA MODEL POLINOMIAL DERAJAT 2 UNTUK DATA TRAINING :\n",
      "-----------------------------------------------------------\n",
      "NILAI RMSE -> 0.3988691356372389\n",
      "NILAI R2 -> 0.9981978047601218\n",
      "\n",
      "-----------------------------------------------------------\n",
      "PERFORMA MODEL POLINOMIAL DERAJAT 2 UNTUK DATA TESTING :\n",
      "-----------------------------------------------------------\n",
      "NILAI RMSE -> 122.16834247851112\n",
      "NILAI R2 -> -177.99259272908384\n"
     ]
    }
   ],
   "source": [
    "# memprediksi nilai y_train berdasarkan poly_model yg sudah dilatih sblmnya dgn memasukkan nilai x_poly_train dan hasil prediksi disimpan ke dlm var pred_y_train_poly\n",
    "pred_y_train_poly = poly_model.predict(x_poly_train)\n",
    "# menghitung rmse dr model polynomial yg sudah dilatih dgn membandingkan y_train dgn pred_y_train_poly menggunakan fungsi mean_squared_error()\n",
    "# fungsi np.sqrt digunakan utk menghitung nilai akar dr mse\n",
    "rmse = (np.sqrt(mean_squared_error(y_train, pred_y_train_poly)))\n",
    "# menghitung nilai r2 dr model polynomial yg sudah dilatih dgn membandingkan y_train dgn pred_y_train_poly menggunakan fungsi r2_score\n",
    "r2 = r2_score(y_train, pred_y_train_poly)\n",
    "\n",
    "# memprediksi y_test berdasarkan poly_model dgn memasukkan x_poly_test dan hasilnya akan disimpan dlm var pred_y_test_poly\n",
    "pred_y_test_poly = poly_model.predict(x_poly_test)\n",
    "# menghitung nilai rmse dgn membandingkan y_test dgn pred_y_test_poly menggunakan fungsi mean_squared_error()\n",
    "# fungsi np.sqrt digunakan utk menghitung nilai akar dr nilai mse\n",
    "rmse_2 = (np.sqrt(mean_squared_error(y_test, pred_y_test_poly)))\n",
    "# menghitung nilai r2 dgn membanding y_test dgn pred_y_test_poly menggunakan fungsi r2\n",
    "r2_2 = r2_score(y_test, pred_y_test_poly)\n",
    "\n",
    "print(\"-----------------------------------------------------------\")\n",
    "print(\"PERFORMA MODEL POLINOMIAL DERAJAT 2 UNTUK DATA TRAINING :\")\n",
    "print(\"-----------------------------------------------------------\")\n",
    "# mencetak string yg dihasilkan dr nilai rmse data training menggunakan fungsi format() yg digunakan utk memasukkan nilai rmse ke dlm string tsb\n",
    "print(\"NILAI RMSE -> {}\".format(rmse))\n",
    "# mencetak string yg dihasilkan dr nilai r2 data training menggunakan fungsi format() yg digunakan utk memasukkan nilai r2 ke dlm string tsb\n",
    "print(\"NILAI R2 -> {}\".format(r2))\n",
    "print(\"\\n-----------------------------------------------------------\")\n",
    "print(\"PERFORMA MODEL POLINOMIAL DERAJAT 2 UNTUK DATA TESTING :\")\n",
    "print(\"-----------------------------------------------------------\")\n",
    "# mencetak string yg dihasilkan dr nilai rmse data testing menggunakan fungsi format() yg digunakan utk memasukkan nilai rmse ke dlm string tsb\n",
    "print(\"NILAI RMSE -> {}\".format(rmse_2))\n",
    "# mencetak string yg dihasilkan dr nilai r2 data testing menggunakan fungsi format() yg digunakan utk memasukkan nilai r2 ke dlm string tsb\n",
    "print(\"NILAI R2 -> {}\".format(r2_2))"
   ]
  },
  {
   "cell_type": "code",
   "execution_count": 76,
   "id": "d6a1722c-8e60-4f96-811c-bea10d2d00b5",
   "metadata": {},
   "outputs": [
    {
     "name": "stdout",
     "output_type": "stream",
     "text": [
      "------------------------------------------\n",
      "PERFORMA MODEL RIDGE UNTUK DATA TRAINING :\n",
      "------------------------------------------\n",
      "NILAI RMSE -> 4.963050499300717\n",
      "NILAI R2 -> 0.7209780544959115\n",
      "\n",
      "------------------------------------------\n",
      "PERFORMA MODEL RIDGE UNTUK DATA TESTING :\n",
      "------------------------------------------\n",
      "NILAI RMSE -> 4.988416251758976\n",
      "NILAI R2 -> 0.701569596206263\n"
     ]
    }
   ],
   "source": [
    "# memprediksi y_train berdasarkan model_ridge dgn memasukkan x_train dan hasil prediksi disimpan dlm var pred_y_train_ridge\n",
    "pred_y_train_ridge = model_ridge.predict(x_train)\n",
    "# menghitung rmse dgn membandingkan y_train dgn pred_y_train_ridge menggunakan fungsi mean_squared_error\n",
    "# np.sqrt digunakan utk menghitung nilai akar dr mse\n",
    "rmse = (np.sqrt(mean_squared_error(y_train, pred_y_train_ridge)))\n",
    "# menghitung r2 dgn membandingkan y_train dgn pred_y_train_ridge menggunakan fungsi r2_score\n",
    "r2 = r2_score(y_train, pred_y_train_ridge)\n",
    "\n",
    "# memprediksi y_test berdasarkan model_ridge dgn memasukkan x_test dan hasil prediksi disimpan dlm var pred_y_test_ridge\n",
    "pred_y_test_ridge = model_ridge.predict(x_test)\n",
    "# menghitung rmse dgn membandingkan y_test dgn pred_y_test_ridge dan hasil prediksi disimpan dlm var pred_y_test_ridge\n",
    "rmse_2 = (np.sqrt(mean_squared_error(y_test, pred_y_test_ridge)))\n",
    "# menghitung r2 dgn membandingkan y_test dgn pred_y_test_ridge menggunakan fungsi r2_score\n",
    "r2_2 = r2_score(y_test, pred_y_test_ridge)\n",
    "\n",
    "print(\"------------------------------------------\")\n",
    "print(\"PERFORMA MODEL RIDGE UNTUK DATA TRAINING :\")\n",
    "print(\"------------------------------------------\")\n",
    "# mencetak string yg dihasilkan dr nilai rmse data training menggunakan fungsi format() yg digunakan utk memasukkan nilai rmse ke dlm string tsb\n",
    "print(\"NILAI RMSE -> {}\".format(rmse))\n",
    "# mencetak string yg dihasilkan dr nilai r2 data training menggunakan fungsi format() yg digunakan utk memasukkan nilai r2 ke dlm string tsb\n",
    "print(\"NILAI R2 -> {}\".format(r2))\n",
    "print(\"\\n------------------------------------------\")\n",
    "print(\"PERFORMA MODEL RIDGE UNTUK DATA TESTING :\")\n",
    "print(\"------------------------------------------\")\n",
    "# mencetak string yg dihasilkan dr nilai rmse data testing menggunakan fungsi format() yg digunakan utk memasukkan nilai rmse ke dlm string tsb\n",
    "print(\"NILAI RMSE -> {}\".format(rmse_2))\n",
    "# mencetak string yg dihasilkan dr nilai r2 data testing menggunakan fungsi format() yg digunakan utk memasukkan nilai r2 ke dlm string tsb\n",
    "print(\"NILAI R2 -> {}\".format(r2_2))"
   ]
  },
  {
   "cell_type": "code",
   "execution_count": 77,
   "id": "867eed40-79ce-4a9a-88eb-87dd0d2af090",
   "metadata": {},
   "outputs": [
    {
     "name": "stdout",
     "output_type": "stream",
     "text": [
      "------------------------------------------\n",
      "PERFORMA MODEL LASSO UNTUK DATA TRAINING :\n",
      "------------------------------------------\n",
      "NILAI RMSE -> 7.9731339072884255\n",
      "NILAI R2 -> 0.27988958819908916\n",
      "\n",
      "------------------------------------------\n",
      "PERFORMA MODEL LASSO UNTUK DATA TESTING :\n",
      "------------------------------------------\n",
      "NILAI RMSE -> 7.77037539712362\n",
      "NILAI R2 -> 0.2758947488538893\n"
     ]
    }
   ],
   "source": [
    "# memprediksi y_train berdasarkan model_lasso dgn memasukkan x_train dan hasil prediksi disimpan dlm var pred_y_train_lasso\n",
    "pred_y_train_lasso = model_lasso.predict(x_train)\n",
    "# menghitung rmse dgn membandingkan y_train dgn pred_y_train_lasso menggunakan fungsi mean_squared_error()\n",
    "# fungsi np.sqrt digunakan utk menghitung nilai akar dr mse\n",
    "rmse = (np.sqrt(mean_squared_error(y_train, pred_y_train_lasso)))\n",
    "# menghitung r2 dgn membandingkan y_train dgn pred_y_train_lasso menggunakan fungsi r2\n",
    "r2 = r2_score(y_train, pred_y_train_lasso)\n",
    "\n",
    "# memprediksi y_test berdasarkan model_lasso dgn memasukkan x_test dan hasil prediksi disimpan dlm var pred_y_test_lasso\n",
    "pred_y_test_lasso = model_lasso.predict(x_test)\n",
    "# menghitung rmse dgn membandingkan y_test dgn pred_y_test_lasso menggunakan fungsi mean_squared_error()\n",
    "# fungsi np.sqrt digunakan utk menghitung nilai akar dr mse\n",
    "rmse_2 = (np.sqrt(mean_squared_error(y_test, pred_y_test_lasso)))\n",
    "# menghitung r2 dgn membandingkan y_test dgn pred_y_test_lasso menggunakan fungsi r2_score\n",
    "r2_2 = r2_score(y_test, pred_y_test_lasso)\n",
    "\n",
    "print(\"------------------------------------------\")\n",
    "print(\"PERFORMA MODEL LASSO UNTUK DATA TRAINING :\")\n",
    "print(\"------------------------------------------\")\n",
    "# mencetak string yg dihasilkan dr nilai rmse data training menggunakan fungsi format() yg digunakan utk memasukkan nilai rmse ke dlm string tsb\n",
    "print(\"NILAI RMSE -> {}\".format(rmse))\n",
    "# mencetak string yg dihasilkan dr nilai r2 data training menggunakan fungsi format() yg digunakan utk memasukkan nilai r2 ke dlm string tsb\n",
    "print(\"NILAI R2 -> {}\".format(r2))\n",
    "print(\"\\n------------------------------------------\")\n",
    "print(\"PERFORMA MODEL LASSO UNTUK DATA TESTING :\")\n",
    "print(\"------------------------------------------\")\n",
    "# mencetak string yg dihasilkan dr nilai rmse data testing menggunakan fungsi format() yg digunakan utk memasukkan nilai rmse ke dlm string tsb\n",
    "print(\"NILAI RMSE -> {}\".format(rmse_2))\n",
    "# mencetak string yg dihasilkan dr nilai r2 data testing menggunakan fungsi format() yg digunakan utk memasukkan nilai r2 ke dlm string tsb\n",
    "print(\"NILAI R2 -> {}\".format(r2_2))"
   ]
  },
  {
   "cell_type": "markdown",
   "id": "041183f2-fb78-4886-bccc-83cb0622b4f8",
   "metadata": {},
   "source": [
    "### Kesimpulan"
   ]
  },
  {
   "cell_type": "markdown",
   "id": "33ba3497-a0e4-4dd2-a70e-7591b87f64d0",
   "metadata": {},
   "source": [
    "R-square dan RMSE adalah dua metrik evaluasi yang umum digunakan untuk mengevaluasi kualitas model regresi. R-square mengukur seberapa besar proporsi variabilitas dalam data yang dapat dijelaskan oleh model regresi yang dihasilkan, sementara RMSE mengukur seberapa besar kesalahan prediksi model dalam satuan yang sama dengan data yang diamati. Sehingga, model regresi yang baik adalah model yang memberikan nilai R-square yang tinggi dan nilai RMSE yang rendah.\n",
    "\n",
    "Dalam hal ini, Model Linear dipilih sebagai model terbaik karena memiliki nilai R-Square sebesar 0.7219648298245814 dan nilai RMSE sebesar 4.814941555935469. Hal ini menunjukkan bahwa model memiliki kemampuan yang baik dalam menjelaskan variasi data yang diamati, dan RMSE yang rendah menunjukkan bahwa model memberikan prediksi yang akurat dan dekat dengan nilai sebenarnya. Namun, perlu diingat bahwa pemilihan model terbaik tidak hanya bergantung pada R-square dan RMSE saja, namun juga harus mempertimbangkan faktor lain seperti akurasi, kecepatan, dan kompleksitas model."
   ]
  },
  {
   "cell_type": "code",
   "execution_count": null,
   "id": "1c39a774-2f83-41bd-806b-e4169e823be1",
   "metadata": {},
   "outputs": [],
   "source": []
  }
 ],
 "metadata": {
  "kernelspec": {
   "display_name": "Python 3 (ipykernel)",
   "language": "python",
   "name": "python3"
  },
  "language_info": {
   "codemirror_mode": {
    "name": "ipython",
    "version": 3
   },
   "file_extension": ".py",
   "mimetype": "text/x-python",
   "name": "python",
   "nbconvert_exporter": "python",
   "pygments_lexer": "ipython3",
   "version": "3.9.12"
  }
 },
 "nbformat": 4,
 "nbformat_minor": 5
}
