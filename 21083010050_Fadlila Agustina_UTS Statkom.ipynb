{
 "cells": [
  {
   "cell_type": "markdown",
   "id": "026ea53b-8284-4a8b-b1b4-32897ad05eb2",
   "metadata": {},
   "source": [
    "# *UTS STATISTIKA KOMPUTASI* "
   ]
  },
  {
   "cell_type": "markdown",
   "id": "a83b1900-979e-4724-a630-a61cd953ffdf",
   "metadata": {},
   "source": [
    "### No. 1"
   ]
  },
  {
   "cell_type": "markdown",
   "id": "ae14976c-837d-4da0-830b-5ac7321d9036",
   "metadata": {},
   "source": [
    "##### Rata-rata x"
   ]
  },
  {
   "cell_type": "code",
   "execution_count": 34,
   "id": "40d7b06e-a43f-41fd-bce5-85a054d66157",
   "metadata": {},
   "outputs": [
    {
     "data": {
      "text/plain": [
       "80"
      ]
     },
     "execution_count": 34,
     "metadata": {},
     "output_type": "execute_result"
    }
   ],
   "source": [
    "deret_x = ([4, 4, 7, 7, 8, 9, 10, 10, 10, 11])\n",
    "sum(deret_x)"
   ]
  },
  {
   "cell_type": "code",
   "execution_count": 35,
   "id": "4f13a205-339c-4d5b-b867-30b531b327b7",
   "metadata": {},
   "outputs": [
    {
     "data": {
      "text/plain": [
       "10"
      ]
     },
     "execution_count": 35,
     "metadata": {},
     "output_type": "execute_result"
    }
   ],
   "source": [
    "banyak_data_x = ([4, 4, 7, 7, 8, 9, 10, 10, 10, 11])\n",
    "len(banyak_data_x)"
   ]
  },
  {
   "cell_type": "code",
   "execution_count": 36,
   "id": "9296bb6b-cd60-42c2-a359-57fcc09fbcb2",
   "metadata": {},
   "outputs": [
    {
     "name": "stdout",
     "output_type": "stream",
     "text": [
      "8.0\n"
     ]
    }
   ],
   "source": [
    "def rata_rata_x (deret_x):\n",
    "    return sum(deret_x) / len(banyak_data_x)\n",
    "\n",
    "print(rata_rata_x (deret_x))"
   ]
  },
  {
   "cell_type": "markdown",
   "id": "7468ee6a-ea78-42a9-91a2-c1b3341ea919",
   "metadata": {},
   "source": [
    "##### Rata-rata y"
   ]
  },
  {
   "cell_type": "code",
   "execution_count": 37,
   "id": "e47e86bf-3ce3-40a7-af8e-ed8324d479f1",
   "metadata": {},
   "outputs": [
    {
     "data": {
      "text/plain": [
       "159"
      ]
     },
     "execution_count": 37,
     "metadata": {},
     "output_type": "execute_result"
    }
   ],
   "source": [
    "deret_y = ([2, 10, 4, 22, 16, 10, 18, 26, 34, 17])\n",
    "sum(deret_y)"
   ]
  },
  {
   "cell_type": "code",
   "execution_count": 38,
   "id": "26793dfb-102c-434e-95de-1b3ed9405aad",
   "metadata": {},
   "outputs": [
    {
     "data": {
      "text/plain": [
       "10"
      ]
     },
     "execution_count": 38,
     "metadata": {},
     "output_type": "execute_result"
    }
   ],
   "source": [
    "banyak_data_y = ([2, 10, 4, 22, 16, 10, 18, 26, 34, 17])\n",
    "len(banyak_data_y)"
   ]
  },
  {
   "cell_type": "code",
   "execution_count": 39,
   "id": "58016278-1605-4fbb-9032-9dc9f4b171b8",
   "metadata": {},
   "outputs": [
    {
     "name": "stdout",
     "output_type": "stream",
     "text": [
      "15.9\n"
     ]
    }
   ],
   "source": [
    "def rata_rata_y (deret_y):\n",
    "    return sum(deret_y) / len(banyak_data_y)\n",
    "\n",
    "print(rata_rata_y (deret_y))"
   ]
  },
  {
   "cell_type": "markdown",
   "id": "a0c2ae47-dc5c-43d7-ae8a-d91c032ab5ea",
   "metadata": {},
   "source": [
    "##### Median x"
   ]
  },
  {
   "cell_type": "code",
   "execution_count": 56,
   "id": "c22da8e2-ae4d-4703-a4a0-299e6cad178b",
   "metadata": {},
   "outputs": [
    {
     "data": {
      "text/plain": [
       "[4, 4, 7, 7, 8, 9, 10, 10, 10, 11]"
      ]
     },
     "execution_count": 56,
     "metadata": {},
     "output_type": "execute_result"
    }
   ],
   "source": [
    "data_x=[4, 4, 7, 7, 8, 9, 10, 10, 10, 11]\n",
    "data_x.sort()\n",
    "data_x"
   ]
  },
  {
   "cell_type": "code",
   "execution_count": 57,
   "id": "e9517174-0182-453c-9862-97d5200dbc9c",
   "metadata": {},
   "outputs": [
    {
     "name": "stdout",
     "output_type": "stream",
     "text": [
      "8.5\n"
     ]
    }
   ],
   "source": [
    "def nilai_tengah(data_x):\n",
    "    data_x.sort()\n",
    "    n = len(data_x)\n",
    "    i_tengah = n // 2\n",
    "   \n",
    "    return (data_x[i_tengah - 1] + data_x[i_tengah]) / 2\n",
    "\n",
    "print(nilai_tengah(data_x))"
   ]
  },
  {
   "cell_type": "markdown",
   "id": "b67506d9-9950-4761-8f2e-60275827ddd5",
   "metadata": {},
   "source": [
    "##### Median y"
   ]
  },
  {
   "cell_type": "code",
   "execution_count": 58,
   "id": "e7b1f1de-1eb5-42d5-8a4f-78973ba4245a",
   "metadata": {},
   "outputs": [
    {
     "data": {
      "text/plain": [
       "[2, 4, 10, 10, 16, 17, 18, 22, 26, 34]"
      ]
     },
     "execution_count": 58,
     "metadata": {},
     "output_type": "execute_result"
    }
   ],
   "source": [
    "data_y=[2, 10, 4, 22, 16, 10, 18, 26, 34, 17]\n",
    "data_y.sort()\n",
    "data_y"
   ]
  },
  {
   "cell_type": "code",
   "execution_count": 59,
   "id": "2e6fe798-d533-486d-9288-77c2907e6789",
   "metadata": {},
   "outputs": [
    {
     "name": "stdout",
     "output_type": "stream",
     "text": [
      "16.5\n"
     ]
    }
   ],
   "source": [
    "def nilai_tengah(data_y):\n",
    "    data_y.sort()\n",
    "    n = len(data_y)\n",
    "    i_tengah = n // 2\n",
    "   \n",
    "    return (data_y[i_tengah - 1] + data_y[i_tengah]) / 2\n",
    "\n",
    "print(nilai_tengah(data_y))"
   ]
  },
  {
   "cell_type": "markdown",
   "id": "d7292245-087e-4f75-a32b-4ee6e31cc591",
   "metadata": {},
   "source": [
    "##### Modus x"
   ]
  },
  {
   "cell_type": "code",
   "execution_count": 68,
   "id": "fe2fd127-2399-4c78-9d63-9eeb73a80968",
   "metadata": {},
   "outputs": [
    {
     "name": "stdout",
     "output_type": "stream",
     "text": [
      "modus: 10\n"
     ]
    }
   ],
   "source": [
    "def nilai_sering_muncul(deret_x):\n",
    "  peta_kemunculan = {}\n",
    "\n",
    "  for bilangan in deret_x:\n",
    "    if bilangan in peta_kemunculan:\n",
    "      peta_kemunculan[bilangan] += 1\n",
    "    else:\n",
    "      peta_kemunculan[bilangan] = 1\n",
    "\n",
    "  bilangan_terbesar = deret_x[0]\n",
    "  for bilangan in peta_kemunculan.keys():\n",
    "    jumlah = peta_kemunculan[bilangan]\n",
    "\n",
    "    if jumlah > peta_kemunculan[bilangan_terbesar]:\n",
    "      bilangan_terbesar = bilangan\n",
    "\n",
    "  return bilangan_terbesar\n",
    "\n",
    "for bilangan in inputan.split(','):\n",
    "    data.append(int(bilangan))\n",
    "\n",
    "print(f'modus: {nilai_sering_muncul(deret_x)}')"
   ]
  },
  {
   "cell_type": "markdown",
   "id": "bdb03c5a-0213-431b-a7e6-73357cb8e64c",
   "metadata": {},
   "source": [
    "##### Modus y"
   ]
  },
  {
   "cell_type": "code",
   "execution_count": 69,
   "id": "2f1f4028-7223-4059-9d2a-0d99627c9ffe",
   "metadata": {},
   "outputs": [
    {
     "name": "stdout",
     "output_type": "stream",
     "text": [
      "modus: 10\n"
     ]
    }
   ],
   "source": [
    "def nilai_sering_muncul(deret_y):\n",
    "  peta_kemunculan = {}\n",
    "\n",
    "  for bilangan in deret_y:\n",
    "    if bilangan in peta_kemunculan:\n",
    "      peta_kemunculan[bilangan] += 1\n",
    "    else:\n",
    "      peta_kemunculan[bilangan] = 1\n",
    "\n",
    "  bilangan_terbesar = deret_y[0]\n",
    "  for bilangan in peta_kemunculan.keys():\n",
    "    jumlah = peta_kemunculan[bilangan]\n",
    "\n",
    "    if jumlah > peta_kemunculan[bilangan_terbesar]:\n",
    "      bilangan_terbesar = bilangan\n",
    "\n",
    "  return bilangan_terbesar\n",
    "\n",
    "for bilangan in inputan.split(','):\n",
    "    data.append(int(bilangan))\n",
    "\n",
    "print(f'modus: {nilai_sering_muncul(deret_y)}')"
   ]
  },
  {
   "cell_type": "markdown",
   "id": "c62aadf0-2913-4f66-89c9-10bb95588d49",
   "metadata": {},
   "source": [
    "##### Variansi x"
   ]
  },
  {
   "cell_type": "code",
   "execution_count": 77,
   "id": "4dc9f3db-eb6f-4a14-8153-3ec4baf611c0",
   "metadata": {},
   "outputs": [
    {
     "name": "stdout",
     "output_type": "stream",
     "text": [
      "data : [4, 4, 7, 7, 8, 9, 10, 10, 10, 11]\n",
      "varians x : 2.3664319132398464\n"
     ]
    }
   ],
   "source": [
    "import statistics\n",
    "\n",
    "data_x = [4, 4, 7, 7, 8, 9, 10, 10, 10, 11]\n",
    "rerata = statistics.mean(data_x)\n",
    "\n",
    "list_varians = []\n",
    "for bilangan in data_x:\n",
    "    list_varians.append(\n",
    "    (bilangan - rerata) **2)\n",
    "\n",
    "varian = sum(list_varians)/ len(data_x)\n",
    "simpangan_baku = statistics.sqrt(varian)\n",
    "\n",
    "print('data :', data_x)\n",
    "print(\"varians x :\", simpangan_baku)"
   ]
  },
  {
   "cell_type": "markdown",
   "id": "d35edce1-8e28-4495-ba4d-b03a88849ad3",
   "metadata": {},
   "source": [
    "##### Variansi y"
   ]
  },
  {
   "cell_type": "code",
   "execution_count": 86,
   "id": "b3241e2b-7e4e-40dd-9560-2f05680de6c8",
   "metadata": {},
   "outputs": [
    {
     "name": "stdout",
     "output_type": "stream",
     "text": [
      "data : [2, 10, 4, 22, 16, 10, 18, 26, 34, 17]\n",
      "varians y : 9.364293886887575\n"
     ]
    }
   ],
   "source": [
    "data_y = [2, 10, 4, 22, 16, 10, 18, 26, 34, 17]\n",
    "rerata = statistics.mean(data_y)\n",
    "\n",
    "list_varians = []\n",
    "for bilangan in data_y:\n",
    "    list_varians.append(\n",
    "    (bilangan - rerata) **2)\n",
    "\n",
    "varian = sum(list_varians)/ len(data_y)\n",
    "simpangan_baku = statistics.sqrt(varian)\n",
    "\n",
    "print('data :', data_y)\n",
    "print(\"varians y :\", simpangan_baku)"
   ]
  },
  {
   "cell_type": "markdown",
   "id": "bd61bac1-0079-4af5-9264-33535e3d178d",
   "metadata": {},
   "source": [
    "##### Kovarians "
   ]
  },
  {
   "cell_type": "code",
   "execution_count": 84,
   "id": "f499680a-a119-4d81-a56f-ee5ddbca6ae9",
   "metadata": {},
   "outputs": [],
   "source": [
    "import pandas as pd\n",
    "import numpy as np\n",
    "\n",
    "x = [4, 4, 7, 7, 8, 9, 10, 10, 10, 11]\n",
    "y = [2, 10, 4, 22, 16, 10, 18, 26, 34, 17]\n",
    "\n",
    "def covariance(x,y):\n",
    "    covariance = np.cov(x,y)\n",
    "    return covariance"
   ]
  },
  {
   "cell_type": "code",
   "execution_count": 85,
   "id": "eeb2190d-eb60-44d3-9a2c-406817b6e56c",
   "metadata": {},
   "outputs": [
    {
     "data": {
      "text/plain": [
       "array([[ 6.22222222, 15.88888889],\n",
       "       [15.88888889, 97.43333333]])"
      ]
     },
     "execution_count": 85,
     "metadata": {},
     "output_type": "execute_result"
    }
   ],
   "source": [
    "covariance(x,y)"
   ]
  },
  {
   "cell_type": "markdown",
   "id": "68a0acf6-9a26-4745-a17b-37dbc97588ff",
   "metadata": {
    "tags": []
   },
   "source": [
    "##### Korelasi "
   ]
  },
  {
   "cell_type": "code",
   "execution_count": 87,
   "id": "eba0f549-05a2-4db1-8be9-3093fb7f2a09",
   "metadata": {},
   "outputs": [],
   "source": [
    "x = [4, 4, 7, 7, 8, 9, 10, 10, 10, 11]\n",
    "y = [2, 10, 4, 22, 16, 10, 18, 26, 34, 17]\n",
    "\n",
    "def corr(data1, data2):\n",
    "    corr = np.corrcoef(data1, data2)\n",
    "    return corr"
   ]
  },
  {
   "cell_type": "code",
   "execution_count": 88,
   "id": "2c2f84e4-3946-4079-ac7d-348b9c4582b5",
   "metadata": {},
   "outputs": [
    {
     "data": {
      "text/plain": [
       "array([[1.        , 0.64530791],\n",
       "       [0.64530791, 1.        ]])"
      ]
     },
     "execution_count": 88,
     "metadata": {},
     "output_type": "execute_result"
    }
   ],
   "source": [
    "corr(x,y)"
   ]
  },
  {
   "cell_type": "markdown",
   "id": "19caad5b-b564-43d0-ba8e-9705fc775535",
   "metadata": {},
   "source": [
    "### No. 2"
   ]
  },
  {
   "cell_type": "markdown",
   "id": "87ff605f-b8d7-4774-a45f-36abc44f3d34",
   "metadata": {},
   "source": [
    "Uji Hipotesis : Metode pengambilan keputusan yang didasarkan dari analisis data, baik dari percobaan yang terkontrol maupun dari observasi (tidak terkontrol).\n",
    "\n",
    "ANOVA : Analisis ragam atau analisis of variance adalah suatu metode untuk menguraikan keragaman total data menjadi komponen-komponen yang mengukur berbagai sumber keragaman."
   ]
  },
  {
   "cell_type": "markdown",
   "id": "8485c9c1-7f56-4247-8d7a-6544311a8aaa",
   "metadata": {},
   "source": [
    "### No. 3"
   ]
  },
  {
   "cell_type": "code",
   "execution_count": 94,
   "id": "3e2e012e-8533-48e3-8141-c9c4982a9938",
   "metadata": {},
   "outputs": [],
   "source": [
    "from scipy.stats import ttest_ind\n",
    "\n",
    "def module_uji_t(a, b):\n",
    "    return ttest_ind(a, b)"
   ]
  },
  {
   "cell_type": "markdown",
   "id": "00bbda5e-3db5-4bde-9605-d97df7474aac",
   "metadata": {},
   "source": [
    "### No. 4"
   ]
  },
  {
   "cell_type": "code",
   "execution_count": 104,
   "id": "cb92ca95-ed69-47bc-972d-8c042d753ce7",
   "metadata": {},
   "outputs": [
    {
     "name": "stdout",
     "output_type": "stream",
     "text": [
      "   Media 1  Media 2  Media 3\n",
      "0        8        6        9\n",
      "1       10        6        7\n",
      "2        6        6        5\n",
      "3        6        9        8\n",
      "4        9        6        7\n",
      "5        7        6        7\n",
      "6        6        5        5\n",
      "Uji T Media 1 dengan Media 2 : Ttest_indResult(statistic=1.4770978917519935, pvalue=0.16540670552301776) \n",
      "Uji T Media 1 dengan Media 3 : Ttest_indResult(statistic=0.6928203230275517, pvalue=0.5016108859997878) \n",
      "Uji T Media 2 dengan Media 3 : Ttest_indResult(statistic=-0.7844645405527357, pvalue=0.4479771117602882)\n",
      "Kesimpulannya adalah pada uji ttest independen yang dilakukan pada tabel 2 nilai terbesar statistik didapatkan pada uji Media 1 dengan Media 2 dengan score 1.4770978917519935, dan nilai terbesar pvalue didapatkan pada uji Media 1 dengan Media 2 dengan score 0.5016108859997878\n"
     ]
    }
   ],
   "source": [
    "from scipy.stats import ttest_ind\n",
    "import pandas as pd\n",
    "\n",
    "Media_1 = [8, 10, 6, 6, 9 ,7 ,6]\n",
    "Media_2 = [6, 6, 6, 9, 6, 6, 5]\n",
    "Media_3 = [9, 7, 5, 8, 7, 7, 5]\n",
    "\n",
    "dict = {'Media 1' : Media_1, 'Media 2' : Media_2, \"Media 3\" : Media_3}\n",
    "df = pd.DataFrame(dict)\n",
    "print(df)\n",
    "\n",
    "test_1 = ttest_ind(Media_1, Media_2)\n",
    "test_2 = ttest_ind(Media_1, Media_3)\n",
    "test_3 = ttest_ind(Media_2, Media_3)\n",
    "\n",
    "print (\"Uji T Media 1 dengan Media 2 :\", test_1, \"\\nUji T Media 1 dengan Media 3 :\", test_2, \"\\nUji T Media 2 dengan Media 3 :\" , test_3)\n",
    "print (\"Kesimpulannya adalah pada uji ttest independen yang dilakukan pada tabel 2 nilai terbesar statistik didapatkan pada uji Media 1 dengan Media 2 dengan score 1.4770978917519935, dan nilai terbesar pvalue didapatkan pada uji Media 1 dengan Media 2 dengan score 0.5016108859997878\")"
   ]
  },
  {
   "cell_type": "markdown",
   "id": "a82e0d31-6be9-4850-9dc7-2ced6bda4ccd",
   "metadata": {},
   "source": [
    "### No. 5"
   ]
  },
  {
   "cell_type": "code",
   "execution_count": 91,
   "id": "17d33955-3c9c-47fd-81b2-7b70d3b765a7",
   "metadata": {},
   "outputs": [
    {
     "ename": "SyntaxError",
     "evalue": "invalid syntax (640195803.py, line 16)",
     "output_type": "error",
     "traceback": [
      "\u001b[1;36m  Input \u001b[1;32mIn [91]\u001b[1;36m\u001b[0m\n\u001b[1;33m    b1 = (((n * x_dikali_y_total) - (x_total * y_total)) - ((n * x_kuadrat_total) - (x_total * x_total)))\u001b[0m\n\u001b[1;37m    ^\u001b[0m\n\u001b[1;31mSyntaxError\u001b[0m\u001b[1;31m:\u001b[0m invalid syntax\n"
     ]
    }
   ],
   "source": [
    "def module_regresi(a, b):\n",
    "    x = [a]\n",
    "    y = [b]\n",
    "    sample = []\n",
    "    n = len(sample)\n",
    "    x_total = sum(x)\n",
    "    y_total = sum(y)\n",
    "    x_kuadrat = x * x\n",
    "    x_kuadrat_total = sum(x * x)\n",
    "    y_kuadrat = y * y\n",
    "    y_kuadrat_total = sum(y * y)\n",
    "    x_dikali_y = x * y\n",
    "    x_dikali_y_total = sum(x * y)\n",
    "    \n",
    "    b0 = (((x_kuadrat_total * y_total)-(x_total * x_dikali_y_total)) / ((n * x_kuadrat_total) - (x_total * x_total))\n",
    "    b1 = (((n * x_dikali_y_total) - (x_total * y_total)) - ((n * x_kuadrat_total) - (x_total * x_total)))\n",
    "          \n",
    "    return b0, b1"
   ]
  },
  {
   "cell_type": "markdown",
   "id": "57b2959f-3571-497a-a662-502332385972",
   "metadata": {},
   "source": [
    "### No. 6"
   ]
  },
  {
   "cell_type": "code",
   "execution_count": 97,
   "id": "7457cdcf-0557-4a9e-afbe-e03558e5fd4a",
   "metadata": {},
   "outputs": [
    {
     "name": "stdout",
     "output_type": "stream",
     "text": [
      "    x   y\n",
      "0   4   2\n",
      "1   4  10\n",
      "2   7   4\n",
      "3   7  22\n",
      "4   8  16\n",
      "5   9  10\n",
      "6  10  18\n",
      "7  10  26\n",
      "8  10  34\n",
      "9  11  17\n",
      "Uji T Nilai X dengan Nilai Y : Ttest_indResult(statistic=-2.453752750768451, pvalue=0.024552331180212054)\n"
     ]
    }
   ],
   "source": [
    "from scipy.stats import ttest_ind\n",
    "import pandas as pd\n",
    "\n",
    "x = [4, 4, 7, 7, 8, 9, 10, 10, 10, 11]\n",
    "y = [2, 10, 4, 22, 16, 10, 18, 26, 34, 17]\n",
    "\n",
    "dict = {'x' : x, 'y' : y}\n",
    "df = pd.DataFrame(dict)\n",
    "print(df)\n",
    "\n",
    "test_1 = ttest_ind(x, y)\n",
    "\n",
    "print (\"Uji T Nilai X dengan Nilai Y :\", test_1)"
   ]
  }
 ],
 "metadata": {
  "kernelspec": {
   "display_name": "Python 3 (ipykernel)",
   "language": "python",
   "name": "python3"
  },
  "language_info": {
   "codemirror_mode": {
    "name": "ipython",
    "version": 3
   },
   "file_extension": ".py",
   "mimetype": "text/x-python",
   "name": "python",
   "nbconvert_exporter": "python",
   "pygments_lexer": "ipython3",
   "version": "3.9.12"
  }
 },
 "nbformat": 4,
 "nbformat_minor": 5
}
