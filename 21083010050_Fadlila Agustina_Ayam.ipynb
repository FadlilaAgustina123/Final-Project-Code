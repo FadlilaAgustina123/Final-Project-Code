{
 "cells": [
  {
   "cell_type": "code",
   "execution_count": 1,
   "id": "0aa3d7fe-a0dc-4c7b-baaa-2fecf7250c8f",
   "metadata": {},
   "outputs": [
    {
     "name": "stdout",
     "output_type": "stream",
     "text": [
      "Seorang petani harus membawa rubah, ayam, dan karung gandumnya menyeberangi sungai yang lebar. Masalahnya adalah, perahunya sudah tua dan bocor, dan dia hanya bisa menyeberang satu per satu. Jika dia meninggalkan rubah dengan ayam, ayam itu akan dimakan. Jika dia meninggalkan ayam dengan biji-bijian, ayam akan memakan biji-bijian. Bagaimana petani menyeberangi sungai dengan hewan dan biji-bijiannya, dengan memindahkan satu item pada satu waktu?\n",
      "Aturan\n",
      "1. Jika petani meninggalkan rubah dengan ayam maka ayam akan dimakan rubah.\n",
      "2. Jika petani meninggalkan ayam dengan karung gandum maka karung gandum akan dimakan ayam.\n",
      "3. Harus menyebrangkan item satu per satu.\n"
     ]
    },
    {
     "name": "stdin",
     "output_type": "stream",
     "text": [
      "item yang dibawa petani:  Ayam\n"
     ]
    },
    {
     "name": "stdout",
     "output_type": "stream",
     "text": [
      "berhasil! bagaimana langkah selanjutnya?\n",
      "Langkah Selanjutnya\n"
     ]
    },
    {
     "name": "stdin",
     "output_type": "stream",
     "text": [
      "item yang dibawa petani selanjutnya:  Rubah\n"
     ]
    },
    {
     "name": "stdout",
     "output_type": "stream",
     "text": [
      "jika dipindahkan ke sebrang kanan sungai, Ayam harus dipindah ke sebrang kiri sungai\n",
      "Setelah mengembalikan Ayam ke sebrang kiri sungai langkah selanjutnya : \n"
     ]
    },
    {
     "name": "stdin",
     "output_type": "stream",
     "text": [
      "item yang akan dibawa petani selanjutnya:  Karung gandum\n"
     ]
    },
    {
     "name": "stdout",
     "output_type": "stream",
     "text": [
      "berhasil!, silahkan jemput Ayam untuk menuju ke sebrang kanan sungai\n",
      "Langkah Terakhir\n"
     ]
    },
    {
     "name": "stdin",
     "output_type": "stream",
     "text": [
      "item terakhir yang disebrangkan:  Ayam\n"
     ]
    },
    {
     "name": "stdout",
     "output_type": "stream",
     "text": [
      "Selamatt!! Anda telah berhasil menyebrangkan semuanya ke sebrang kanan sungai yeayy!\n"
     ]
    }
   ],
   "source": [
    "print('Seorang petani harus membawa rubah, ayam, dan karung gandumnya menyeberangi sungai yang lebar. Masalahnya adalah, perahunya sudah tua dan bocor, dan dia hanya bisa menyeberang satu per satu. Jika dia meninggalkan rubah dengan ayam, ayam itu akan dimakan. Jika dia meninggalkan ayam dengan biji-bijian, ayam akan memakan biji-bijian. Bagaimana petani menyeberangi sungai dengan hewan dan biji-bijiannya, dengan memindahkan satu item pada satu waktu?')\n",
    "print('Aturan')\n",
    "print('1. Jika petani meninggalkan rubah dengan ayam maka ayam akan dimakan rubah.')\n",
    "print('2. Jika petani meninggalkan ayam dengan karung gandum maka karung gandum akan dimakan ayam.')\n",
    "print('3. Harus menyebrangkan item satu per satu.')\n",
    "\n",
    "a = str(input('item yang dibawa petani: '))\n",
    "if a == \"Karung gandum\":\n",
    "     print('gagal, silakan coba lagi!')\n",
    "elif a == \"Rubah\":\n",
    "    print('gagal, silakan coba lagi!')\n",
    "else:\n",
    "    print('berhasil! bagaimana langkah selanjutnya?')\n",
    "\n",
    "print(\"Langkah Selanjutnya\")\n",
    "b = str(input('item yang dibawa petani selanjutnya: '))\n",
    "if b == \"Rubah\":\n",
    "    print('jika dipindahkan ke sebrang kanan sungai, Ayam harus dipindah ke sebrang kiri sungai')\n",
    "else:\n",
    "    print('gagal, silakan coba lagi!')\n",
    "    \n",
    "print(\"Setelah mengembalikan Ayam ke sebrang kiri sungai langkah selanjutnya : \")\n",
    "c = str(input('item yang akan dibawa petani selanjutnya: '))\n",
    "if c == \"Karung gandum\":\n",
    "    print('berhasil!, silahkan jemput Ayam untuk menuju ke sebrang kanan sungai')\n",
    "else:\n",
    "    print('gagal, silakan coba lagi!')\n",
    "    \n",
    "print(\"Langkah Terakhir\")\n",
    "d = str(input('item terakhir yang disebrangkan: '))\n",
    "if d == \"Petani\":\n",
    "    print('gagal!')\n",
    "else:\n",
    "    print('Selamatt!! Anda telah berhasil menyebrangkan semuanya ke sebrang kanan sungai yeayy!')"
   ]
  }
 ],
 "metadata": {
  "kernelspec": {
   "display_name": "Python 3",
   "language": "python",
   "name": "python3"
  },
  "language_info": {
   "codemirror_mode": {
    "name": "ipython",
    "version": 3
   },
   "file_extension": ".py",
   "mimetype": "text/x-python",
   "name": "python",
   "nbconvert_exporter": "python",
   "pygments_lexer": "ipython3",
   "version": "3.8.8"
  }
 },
 "nbformat": 4,
 "nbformat_minor": 5
}
